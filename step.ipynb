{
 "cells": [
  {
   "cell_type": "markdown",
   "metadata": {},
   "source": [
    "# Store music metadata using apple shortcuts\n",
    "In this small project I was trying to store the metadata about the music that gets shazamed on my macOS\n",
    "I started by trying to find Shazam database file on my system but that proved to be quit tricky\n",
    "Note that I tried this on MacOs, it might be different in iOS device\n",
    "TODO: test on mobile device\n",
    "\n",
    "## Create a Shortcut\n",
    "the the shortcut app, click on the plus sign, a new shortcut will be created\n",
    "<img src=\"imgs/shazam_create.png\" alt=\"create a new shortcut\" width=\"70%\" style=\"margin:5px;\"/>"
   ]
  },
  {
   "cell_type": "markdown",
   "metadata": {},
   "source": [
    "\n",
    "also note that in the video I recorded I used a loop, bad idea since we can run a shortcut in CLI\n",
    "\n",
    "I modified the short cut to perform one cycle, it takes no input and outputs a song metadata if a song is found as text, otherwise it return some \"No song found\"\n",
    "\n",
    "<img src=\"imgs/shortcut.png\" alt=\"shows the text file created by the shortcut app\" width=\"80%\" style=\"margin:5px;\"/>"
   ]
  },
  {
   "cell_type": "code",
   "execution_count": 1,
   "metadata": {},
   "outputs": [],
   "source": [
    "import os\n",
    "import re\n",
    "import pandas as pd\n",
    "from bs4 import BeautifulSoup"
   ]
  },
  {
   "cell_type": "code",
   "execution_count": 2,
   "metadata": {},
   "outputs": [],
   "source": [
    "SHAZAM_TEMPLATE = \"\"\"\n",
    "<?xml version=\"1.0\" encoding=\"UTF-8\"?>\n",
    "<root>\n",
    "\n",
    "<timestamp>\n",
    "Date\n",
    "</timestamp>\n",
    "\n",
    "<title>\n",
    "Shazam Media (Title)\n",
    "</title>\n",
    "\n",
    "<artist>\n",
    "Shazam Media (Artist)\n",
    "</artist>\n",
    "\n",
    "<isexplicit>\n",
    "Shazam Media (Is Explicit)\n",
    "</isexplicit>\n",
    "\n",
    "<lyricssnippet>\n",
    "Shazam Media (Lyrics Snippet)\n",
    "</lyricssnippet>\n",
    "\n",
    "<lyricsnippetsynced>\n",
    "Shazam Media (Lyric Snippet Synced)\n",
    "</lyricsnippetsynced>\n",
    "\n",
    "<artwork>\n",
    "Shazam Media (Artwork)\n",
    "</artwork>\n",
    "\n",
    "<videourl>\n",
    "Shazam Media (Video URL)\n",
    "</videourl>\n",
    "\n",
    "<shazamurl>\n",
    "Shazam Media (Shazam URL)\n",
    "</shazamurl>\n",
    "\n",
    "<applemusicurl>\n",
    "Shazam Media (Apple Music URL)\n",
    "</applemusicurl>\n",
    "\n",
    "<name>\n",
    "Shazam Media (Name)\n",
    "</name>\n",
    "\n",
    "</root>\n",
    "\"\"\""
   ]
  },
  {
   "cell_type": "code",
   "execution_count": 3,
   "metadata": {},
   "outputs": [],
   "source": [
    "outfile = './test.txt'\n",
    "res = !shortcuts run \"shazam_step\" --output-path $outfile"
   ]
  },
  {
   "cell_type": "code",
   "execution_count": 4,
   "metadata": {},
   "outputs": [
    {
     "data": {
      "text/plain": [
       "[]"
      ]
     },
     "execution_count": 4,
     "metadata": {},
     "output_type": "execute_result"
    }
   ],
   "source": [
    "res"
   ]
  },
  {
   "cell_type": "markdown",
   "metadata": {},
   "source": [
    "find the valid tags then find their values"
   ]
  },
  {
   "cell_type": "code",
   "execution_count": 5,
   "metadata": {},
   "outputs": [],
   "source": [
    "def parse_row(outfile, encoding='utf-8'):\n",
    "    \"\"\"\n",
    "    The parse_row function parses the XML document using lxml parser.\n",
    "    it uses the `SHAZAM_TEMPLATE` string as map to read the xml data\n",
    "    ---------------------------------------------------------\n",
    "    :param outfile: Specify the path to the xml file that will be parsed\n",
    "    :return: A dictionary with keys as the tag names\n",
    "        and values as the text content of those tags\n",
    "    \"\"\"\n",
    "    soup = BeautifulSoup(SHAZAM_TEMPLATE, 'xml')\n",
    "    root = soup.root\n",
    "    tags = [tag.name  for tag in root.children if tag and tag.name!='root']\n",
    "    print()\n",
    "    try:\n",
    "        with open(outfile, encoding=encoding) as f:\n",
    "            row = f.read()\n",
    "    except FileNotFoundError:\n",
    "        return FileNotFoundError\n",
    "    # print(row)\n",
    "    soup = BeautifulSoup(row.replace('\\n', ''), 'xml')\n",
    "    root = soup.select_one('root')\n",
    "    if root:\n",
    "        dct = {}\n",
    "        for tag in tags:\n",
    "            if not tag:\n",
    "                continue\n",
    "            tag_content = root.find(tag)\n",
    "            if tag_content:\n",
    "                dct[tag] = tag_content.text\n",
    "    return dct"
   ]
  },
  {
   "cell_type": "code",
   "execution_count": 6,
   "metadata": {},
   "outputs": [
    {
     "name": "stdout",
     "output_type": "stream",
     "text": [
      "\n"
     ]
    },
    {
     "data": {
      "text/plain": [
       "{'timestamp': '9 May 2024 at 19:56',\n",
       " 'title': 'Yours',\n",
       " 'artist': 'JIN',\n",
       " 'isexplicit': 'No',\n",
       " 'lyricssnippet': '깊어진 하루 길어진 내 그림자저 멀리 해는 저물고 있어짙어 가는 어둠 속에서 헤메이고 있나 봐이곳에 갇혀버린 걸까아직도 숨 쉬는 곳그곳에 다가가야 해Every day you seem too far away',\n",
       " 'lyricsnippetsynced': '시간이 멈춰버린 곳이젠 다 되돌려야 해Every day you seem too far awayEvery time you do, I tell myself이곳에서 기다리고 있어Every night I see you in my heart',\n",
       " 'artwork': 'Image',\n",
       " 'videourl': '',\n",
       " 'shazamurl': 'https://www.shazam.com/track/590865488/yours?co=GB=shortcuts=130844=7.092953E-4=264840=2024-05-09T18:56:11.498Z',\n",
       " 'applemusicurl': 'https://music.apple.com/gb/album/yours/1698507484?i=1698507486=30201=Shazam_shortcuts',\n",
       " 'name': 'JIN - Yours'}"
      ]
     },
     "execution_count": 6,
     "metadata": {},
     "output_type": "execute_result"
    }
   ],
   "source": [
    "parse_row(outfile)"
   ]
  },
  {
   "cell_type": "code",
   "execution_count": 7,
   "metadata": {},
   "outputs": [
    {
     "name": "stdout",
     "output_type": "stream",
     "text": [
      "<?xml version=\"1.0\" encoding=\"UTF-8\"?>\n",
      "<root>\n",
      "\n",
      "<timestamp>\n",
      "9 May 2024 at 19:56\n",
      "</timestamp>\n",
      "\n",
      "<title>\n",
      "Yours\n",
      "</title>\n",
      "\n",
      "<artist>\n",
      "JIN\n",
      "</artist>\n",
      "\n",
      "<isexplicit>\n",
      "No\n",
      "</isexplicit>\n",
      "\n",
      "<lyricssnippet>\n",
      "깊어진 하루 길어진 내 그림자\n",
      "저 멀리 해는 저물고 있어\n",
      "짙어 가는 어둠 속에서 헤메이고 있나 봐\n",
      "이곳에 갇혀버린 걸까\n",
      "아직도 숨 쉬는 곳\n",
      "그곳에 다가가야 해\n",
      "Every day you seem too far away\n",
      "</lyricssnippet>\n",
      "\n",
      "<lyricsnippetsynced>\n",
      "시간이 멈춰버린 곳\n",
      "이젠 다 되돌려야 해\n",
      "Every day you seem too far away\n",
      "Every time you do, I tell myself\n",
      "이곳에서 기다리고 있어\n",
      "Every night I see you in my heart\n",
      "</lyricsnippetsynced>\n",
      "\n",
      "<artwork>\n",
      "Image\n",
      "</artwork>\n",
      "\n",
      "<videourl>\n",
      "\n",
      "</videourl>\n",
      "\n",
      "<shazamurl>\n",
      "https://www.shazam.com/track/590865488/yours?co=GB&referrer=shortcuts&offsetInMilliseconds=130844&timeSkew=7.092953E-4&trackLength=264840&startDate=2024-05-09T18:56:11.498Z\n",
      "</shazamurl>\n",
      "\n",
      "<applemusicurl>\n",
      "https://music.apple.com/gb/album/yours/1698507484?i=1698507486&itscg=30201&itsct=Shazam_shortcuts\n",
      "</applemusicurl>\n",
      "\n",
      "<name>\n",
      "JIN - Yours\n",
      "</name>\n",
      "\n",
      "</root>"
     ]
    }
   ],
   "source": [
    "!cat $outfile"
   ]
  },
  {
   "cell_type": "code",
   "execution_count": 11,
   "metadata": {},
   "outputs": [
    {
     "data": {
      "text/plain": [
       "True"
      ]
     },
     "execution_count": 11,
     "metadata": {},
     "output_type": "execute_result"
    }
   ],
   "source": [
    "df = pd.read_json('shazam.json')\n",
    "isinstance(df,pd.DataFrame)"
   ]
  },
  {
   "cell_type": "code",
   "execution_count": null,
   "metadata": {},
   "outputs": [],
   "source": []
  }
 ],
 "metadata": {
  "kernelspec": {
   "display_name": ".shazam",
   "language": "python",
   "name": "python3"
  },
  "language_info": {
   "codemirror_mode": {
    "name": "ipython",
    "version": 3
   },
   "file_extension": ".py",
   "mimetype": "text/x-python",
   "name": "python",
   "nbconvert_exporter": "python",
   "pygments_lexer": "ipython3",
   "version": "3.12.3"
  }
 },
 "nbformat": 4,
 "nbformat_minor": 2
}
