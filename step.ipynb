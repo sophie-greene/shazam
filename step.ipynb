{
 "cells": [
  {
   "cell_type": "markdown",
   "metadata": {},
   "source": [
    "# Store music metadata using apple shortcuts\n",
    "In this small project I was trying to store the metadata about the music that gets shazamed on my macOS\n",
    "I started by trying to find Shazam database file on my system but that proved to be quit tricky\n",
    "Note that I tried this on MacOs, it might be different in iOS device\n",
    "TODO: test on mobile device\n",
    "\n",
    "## Create a Shortcut\n",
    "the the shortcut app, click on the plus sign, a new shortcut will be created\n",
    "<img src=\"imgs/shazam_create.png\" alt=\"create a new shortcut\" width=\"70%\" style=\"margin:5px;\"/>"
   ]
  },
  {
   "cell_type": "markdown",
   "metadata": {},
   "source": [
    "\n",
    "also note that in the video I recorded I used a loop, bad idea since we can run a shortcut in CLI\n",
    "\n",
    "I modified the short cut to perform one cycle, it takes no input and outputs a song metadata if a song is found as text, otherwise it return some \"No song found\"\n",
    "\n",
    "<img src=\"imgs/shortcut.png\" alt=\"shows the text file created by the shortcut app\" width=\"80%\" style=\"margin:5px;\"/>"
   ]
  },
  {
   "cell_type": "code",
   "execution_count": 1,
   "metadata": {},
   "outputs": [],
   "source": [
    "import os\n",
    "import re\n",
    "import pandas as pd\n",
    "from bs4 import BeautifulSoup"
   ]
  },
  {
   "cell_type": "code",
   "execution_count": null,
   "metadata": {},
   "outputs": [],
   "source": [
    "\n",
    "from parse_row import parse_row"
   ]
  },
  {
   "cell_type": "code",
   "execution_count": 2,
   "metadata": {},
   "outputs": [
    {
     "data": {
      "text/plain": [
       "'A,B,C\\n1,2,4\\n1,2,4\\n1,2,4\\n1,2,4\\n'"
      ]
     },
     "execution_count": 2,
     "metadata": {},
     "output_type": "execute_result"
    }
   ],
   "source": [
    "df = [{'A': 1, 'B': 2, 'C': 4},\n",
    "      {'A': 1, 'B': 2, 'C': 4},\n",
    "      {'A': 1, 'B': 2, 'C': 4},\n",
    "      {'A': 1, 'B': 2, 'C': 4}\n",
    "      ]\n",
    "\n",
    "pd.DataFrame(df).to_csv(index=False)"
   ]
  },
  {
   "cell_type": "code",
   "execution_count": null,
   "metadata": {},
   "outputs": [],
   "source": [
    "SHAZAM_TEMPLATE = \"\"\"\n",
    "<?xml version=\"1.0\" encoding=\"UTF-8\"?>\n",
    "<root>\n",
    "\n",
    "<timestamp>\n",
    "Date\n",
    "</timestamp>\n",
    "\n",
    "<title>\n",
    "Shazam Media (Title)\n",
    "</title>\n",
    "\n",
    "<artist>\n",
    "Shazam Media (Artist)\n",
    "</artist>\n",
    "\n",
    "<isexplicit>\n",
    "Shazam Media (Is Explicit)\n",
    "</isexplicit>\n",
    "\n",
    "<lyricssnippet>\n",
    "Shazam Media (Lyrics Snippet)\n",
    "</lyricssnippet>\n",
    "\n",
    "<lyricsnippetsynced>\n",
    "Shazam Media (Lyric Snippet Synced)\n",
    "</lyricsnippetsynced>\n",
    "\n",
    "<artwork>\n",
    "Shazam Media (Artwork)\n",
    "</artwork>\n",
    "\n",
    "<videourl>\n",
    "Shazam Media (Video URL)\n",
    "</videourl>\n",
    "\n",
    "<shazamurl>\n",
    "Shazam Media (Shazam URL)\n",
    "</shazamurl>\n",
    "\n",
    "<applemusicurl>\n",
    "Shazam Media (Apple Music URL)\n",
    "</applemusicurl>\n",
    "\n",
    "<name>\n",
    "Shazam Media (Name)\n",
    "</name>\n",
    "\n",
    "</root>\n",
    "\"\"\""
   ]
  },
  {
   "cell_type": "code",
   "execution_count": null,
   "metadata": {},
   "outputs": [],
   "source": [
    "outfile = './test.txt'\n",
    "res = !shortcuts run \"shazam_step\" --output-path $outfile"
   ]
  },
  {
   "cell_type": "code",
   "execution_count": null,
   "metadata": {},
   "outputs": [],
   "source": [
    "res"
   ]
  },
  {
   "cell_type": "markdown",
   "metadata": {},
   "source": [
    "find the valid tags then find their values"
   ]
  },
  {
   "cell_type": "code",
   "execution_count": null,
   "metadata": {},
   "outputs": [],
   "source": [
    "def parse_row(outfile, encoding='utf-8'):\n",
    "    \"\"\"\n",
    "    The parse_row function parses the XML document using lxml parser.\n",
    "    it uses the `SHAZAM_TEMPLATE` string as map to read the xml data\n",
    "    ---------------------------------------------------------\n",
    "    :param outfile: Specify the path to the xml file that will be parsed\n",
    "    :return: A dictionary with keys as the tag names\n",
    "        and values as the text content of those tags\n",
    "    \"\"\"\n",
    "    soup = BeautifulSoup(SHAZAM_TEMPLATE, 'xml')\n",
    "    root = soup.root\n",
    "    tags = [tag.name for tag in root.children if tag and tag.name != 'root']\n",
    "    print()\n",
    "    try:\n",
    "        with open(outfile, encoding=encoding) as f:\n",
    "            row = f.read()\n",
    "    except FileNotFoundError:\n",
    "        return FileNotFoundError\n",
    "    # print(row)\n",
    "    soup = BeautifulSoup(row.replace('\\n', ''), 'xml')\n",
    "    root = soup.select_one('root')\n",
    "    if root:\n",
    "        dct = {}\n",
    "        for tag in tags:\n",
    "            if not tag:\n",
    "                continue\n",
    "            tag_content = root.find(tag)\n",
    "            if tag_content:\n",
    "                dct[tag] = tag_content.text\n",
    "    return dct"
   ]
  },
  {
   "cell_type": "code",
   "execution_count": null,
   "metadata": {},
   "outputs": [],
   "source": [
    "with open('/Users/sophie/)"
   ]
  },
  {
   "cell_type": "code",
   "execution_count": null,
   "metadata": {},
   "outputs": [],
   "source": [
    "e = Exception\n",
    "type(e)"
   ]
  },
  {
   "cell_type": "code",
   "execution_count": null,
   "metadata": {},
   "outputs": [],
   "source": [
    "import os\n",
    "import pandas as pd\n",
    "import subprocess\n",
    "\n",
    "WRITE_FRMT = {\n",
    "    '.csv': 'to_csv',\n",
    "    '.xls': 'to_excel',\n",
    "    '.xlsx': 'to_excel',\n",
    "    '.json': 'to_json',\n",
    "    '.html': 'to_html',\n",
    "    '.sql': 'to_sql',\n",
    "    '.parquet': 'to_parquet',\n",
    "    '.feather': 'to_feather',\n",
    "    '.h5': 'to_hdf',\n",
    "    '.hdf': 'to_hdf',\n",
    "    '.dta': 'to_stata',\n",
    "    '.sas7bdat': 'to_sas',\n",
    "}\n",
    "\n",
    "READ_FRMT = {\n",
    "    '.csv': 'read_csv',\n",
    "    '.xls': 'read_excel',\n",
    "    '.xlsx': 'read_excel',\n",
    "    '.json': 'read_json',\n",
    "    '.html': 'read_html',\n",
    "    '.sql': 'read_sql',\n",
    "    '.parquet': 'read_parquet',\n",
    "    '.feather': 'read_feather',\n",
    "    '.h5': 'read_hdf',\n",
    "    '.hdf': 'read_hdf',\n",
    "    '.dta': 'read_stata',\n",
    "    '.sas7bdat': 'read_sas',\n",
    "}\n",
    "\n",
    "\n",
    "def detect_file_type(file_path):\n",
    "\n",
    "    # Run the file command and capture the output\n",
    "    \"\"\"\n",
    "    The detect_file_type function takes a file path as input and returns the\n",
    "    file type. The function uses the Linux 'file' command to determine the file\n",
    "    type. If you are using Windows, you will need to install Cygwin or WSL in order\n",
    "    to use this function.\n",
    "    -----------------------------------------------\n",
    "    :param file_path: Specify the file to be checked\n",
    "    :return: A string containing the file type\n",
    "    \"\"\"\n",
    "    result = subprocess.run(\n",
    "        ['file', '--mime-type', file_path], capture_output=True, text=True)\n",
    "\n",
    "    # Extract the file type from the output\n",
    "    file_type = result.stdout.strip().split(': ')[-1]\n",
    "\n",
    "    return file_type\n",
    "\n",
    "\n",
    "def read_frmt(db_file, args={}):\n",
    "    \"\"\"\n",
    "    The read_frmt function reads in a data file\n",
    "    and returns the contents as a pandas DataFrame.\n",
    "    -------------------------------------------------------\n",
    "    :param db_file: Pass the name of the file to be read\n",
    "    :param args: Pass in the arguments from the command line\n",
    "    :return: A dataframe\n",
    "\n",
    "    \"\"\"\n",
    "    print(db_file)\n",
    "    _, ext = os.path.splitext(db_file)\n",
    "\n",
    "    rgx = '|'.join(map(lambda c: c.strip('.'), READ_FRMT.keys()))\n",
    "    rgx = rf'({rgx})'\n",
    "    ft = detect_file_type(db_file)\n",
    "    ft = re.findall(rgx, ft)\n",
    "    if len(ft) > 0:\n",
    "        frmt = f'.{ft[0]}'\n",
    "    else:\n",
    "        frmt = ext\n",
    "    return read(db_file, frmt, args)\n",
    "\n",
    "\n",
    "def read(db_file, frmt, args={}):\n",
    "    \"\"\"\n",
    "    The read function reads a database file and returns\n",
    "    a pandas dataframe.\n",
    "    -------------------------------------------\n",
    "    :param db_file: Specify the file to be read\n",
    "    :param frmt: specify the format of the file being read\n",
    "    :param args: Specify the arguments to use when reading the file\n",
    "    :return: A pandas dataframe with the contents of the file\n",
    "    \"\"\"\n",
    "    # print(frmt)\n",
    "    method = READ_FRMT.get(frmt)\n",
    "    if method:\n",
    "        read_method = getattr(pd, method)\n",
    "        df = read_method(db_file, **args)\n",
    "        return df"
   ]
  },
  {
   "cell_type": "code",
   "execution_count": null,
   "metadata": {},
   "outputs": [],
   "source": [
    "# read_frmt('shazam.csv')"
   ]
  },
  {
   "cell_type": "code",
   "execution_count": null,
   "metadata": {},
   "outputs": [],
   "source": [
    "df"
   ]
  },
  {
   "cell_type": "code",
   "execution_count": null,
   "metadata": {},
   "outputs": [],
   "source": [
    "\n",
    "\n",
    "# Example usage:\n",
    "file_path = 'file.json'\n",
    "file_type = detect_file_type(file_path)\n",
    "print(\"File Type:\", file_type)"
   ]
  },
  {
   "cell_type": "code",
   "execution_count": null,
   "metadata": {},
   "outputs": [],
   "source": [
    "file_type"
   ]
  },
  {
   "cell_type": "code",
   "execution_count": null,
   "metadata": {},
   "outputs": [],
   "source": [
    "rgx = '|'.join(map(lambda c: c.strip('.'), READ_FRMT.keys()))\n",
    "rgx = rf'({rgx})'\n",
    "\n",
    "len(re.findall(rgx, file_type)) > 0"
   ]
  },
  {
   "cell_type": "code",
   "execution_count": null,
   "metadata": {},
   "outputs": [],
   "source": [
    "rgx"
   ]
  },
  {
   "cell_type": "code",
   "execution_count": null,
   "metadata": {},
   "outputs": [],
   "source": []
  }
 ],
 "metadata": {
  "kernelspec": {
   "display_name": ".shazam",
   "language": "python",
   "name": "python3"
  },
  "language_info": {
   "codemirror_mode": {
    "name": "ipython",
    "version": 3
   },
   "file_extension": ".py",
   "mimetype": "text/x-python",
   "name": "python",
   "nbconvert_exporter": "python",
   "pygments_lexer": "ipython3",
   "version": "3.12.3"
  }
 },
 "nbformat": 4,
 "nbformat_minor": 2
}
