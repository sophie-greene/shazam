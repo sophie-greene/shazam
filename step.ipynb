{
 "cells": [
  {
   "cell_type": "markdown",
   "metadata": {},
   "source": [
    "# Store music metadata using apple shortcuts\n",
    "In this small project I was trying to store the metadata about the music that gets shazamed on my macOS\n",
    "I started by trying to find Shazam database file on my system but that proved to be quit tricky\n",
    "Note that I tried this on MacOs, it might be different in iOS device\n",
    "TODO: test on mobile device\n",
    "\n",
    "## Create a Shortcut\n",
    "the the shortcut app, click on the plus sign, a new shortcut will be created\n",
    "<img src=\"imgs/shazam_create.png\" alt=\"create a new shortcut\" width=\"70%\" style=\"margin:5px;\"/>"
   ]
  },
  {
   "cell_type": "markdown",
   "metadata": {},
   "source": [
    "\n",
    "also note that in the video I recorded I used a loop, bad idea since we can run a shortcut in CLI\n",
    "\n",
    "I modified the short cut to perform one cycle, it takes no input and outputs a song metadata if a song is found as text, otherwise it return some \"No song found\"\n",
    "\n",
    "<img src=\"imgs/shortcut.png\" alt=\"shows the text file created by the shortcut app\" width=\"80%\" style=\"margin:5px;\"/>"
   ]
  },
  {
   "cell_type": "code",
   "execution_count": 1,
   "metadata": {},
   "outputs": [],
   "source": [
    "import os\n",
    "import re\n",
    "import pandas as pd\n",
    "from bs4 import BeautifulSoup"
   ]
  },
  {
   "cell_type": "code",
   "execution_count": 2,
   "metadata": {},
   "outputs": [],
   "source": [
    "SHAZAM_TEMPLATE = \"\"\"\n",
    "<?xml version=\"1.0\" encoding=\"UTF-8\"?>\n",
    "<root>\n",
    "\n",
    "<timestamp>\n",
    "Date\n",
    "</timestamp>\n",
    "\n",
    "<title>\n",
    "Shazam Media (Title)\n",
    "</title>\n",
    "\n",
    "<artist>\n",
    "Shazam Media (Artist)\n",
    "</artist>\n",
    "\n",
    "<isexplicit>\n",
    "Shazam Media (Is Explicit)\n",
    "</isexplicit>\n",
    "\n",
    "<lyricssnippet>\n",
    "Shazam Media (Lyrics Snippet)\n",
    "</lyricssnippet>\n",
    "\n",
    "<lyricsnippetsynced>\n",
    "Shazam Media (Lyric Snippet Synced)\n",
    "</lyricsnippetsynced>\n",
    "\n",
    "<artwork>\n",
    "Shazam Media (Artwork)\n",
    "</artwork>\n",
    "\n",
    "<videourl>\n",
    "Shazam Media (Video URL)\n",
    "</videourl>\n",
    "\n",
    "<shazamurl>\n",
    "Shazam Media (Shazam URL)\n",
    "</shazamurl>\n",
    "\n",
    "<applemusicurl>\n",
    "Shazam Media (Apple Music URL)\n",
    "</applemusicurl>\n",
    "\n",
    "<name>\n",
    "Shazam Media (Name)\n",
    "</name>\n",
    "\n",
    "</root>\n",
    "\"\"\""
   ]
  },
  {
   "cell_type": "code",
   "execution_count": 3,
   "metadata": {},
   "outputs": [],
   "source": [
    "outfile = './test.txt'\n",
    "res = !shortcuts run \"shazam_step\" --output-path $outfile"
   ]
  },
  {
   "cell_type": "code",
   "execution_count": 4,
   "metadata": {},
   "outputs": [
    {
     "data": {
      "text/plain": [
       "[]"
      ]
     },
     "execution_count": 4,
     "metadata": {},
     "output_type": "execute_result"
    }
   ],
   "source": [
    "res"
   ]
  },
  {
   "cell_type": "markdown",
   "metadata": {},
   "source": [
    "find the valid tags then find their values"
   ]
  },
  {
   "cell_type": "code",
   "execution_count": 5,
   "metadata": {},
   "outputs": [],
   "source": [
    "def parse_row(outfile, encoding='utf-8'):\n",
    "    \"\"\"\n",
    "    The parse_row function parses the XML document using lxml parser.\n",
    "    it uses the `SHAZAM_TEMPLATE` string as map to read the xml data\n",
    "    ---------------------------------------------------------\n",
    "    :param outfile: Specify the path to the xml file that will be parsed\n",
    "    :return: A dictionary with keys as the tag names\n",
    "        and values as the text content of those tags\n",
    "    \"\"\"\n",
    "    soup = BeautifulSoup(SHAZAM_TEMPLATE, 'xml')\n",
    "    root = soup.root\n",
    "    tags = [tag.name  for tag in root.children if tag and tag.name!='root']\n",
    "    print()\n",
    "    try:\n",
    "        with open(outfile, encoding=encoding) as f:\n",
    "            row = f.read()\n",
    "    except FileNotFoundError:\n",
    "        return FileNotFoundError\n",
    "    # print(row)\n",
    "    soup = BeautifulSoup(row.replace('\\n', ''), 'xml')\n",
    "    root = soup.select_one('root')\n",
    "    if root:\n",
    "        dct = {}\n",
    "        for tag in tags:\n",
    "            if not tag:\n",
    "                continue\n",
    "            tag_content = root.find(tag)\n",
    "            if tag_content:\n",
    "                dct[tag] = tag_content.text\n",
    "    return dct"
   ]
  },
  {
   "cell_type": "code",
   "execution_count": 6,
   "metadata": {},
   "outputs": [
    {
     "name": "stdout",
     "output_type": "stream",
     "text": [
      "\n"
     ]
    },
    {
     "data": {
      "text/plain": [
       "{'timestamp': '10 May 2024 at 15:14',\n",
       " 'title': 'Something In the Rain (Something In the Rain, Pt. 1 (Music from the Original TV Series))',\n",
       " 'artist': 'Rachael Yamagata',\n",
       " 'isexplicit': 'No',\n",
       " 'lyricssnippet': 'I feel you now from hereOur time is not done yetYou’ve given me my fullest heartWe’ll never be apartI’m breathing through you now',\n",
       " 'lyricsnippetsynced': 'I’ve never been so exposedAre there pieces still yet to beDiscovered with your love?I can see anything through wherever you areI can feel you',\n",
       " 'artwork': 'Image',\n",
       " 'videourl': '',\n",
       " 'shazamurl': 'https://www.shazam.com/track/414805857/%EB%B0%A5-%EC%9E%98-%EC%82%AC%EC%A3%BC%EB%8A%94-%EC%98%88%EC%81%9C-%EB%88%84%EB%82%98-pt-1-music-from-the-original-tv-series?co=GB=shortcuts=181609=-2.1648407E-4=299453=2024-05-10T14:14:07.125Z',\n",
       " 'applemusicurl': 'https://music.apple.com/gb/album/something-in-the-rain-something-in-the-rain-pt-1/1458350926?i=1458350930=30201=Shazam_shortcuts',\n",
       " 'name': 'Rachael Yamagata - Something In the Rain (Something In the Rain, Pt. 1 (Music from the Original TV Series))'}"
      ]
     },
     "execution_count": 6,
     "metadata": {},
     "output_type": "execute_result"
    }
   ],
   "source": [
    "parse_row(outfile)"
   ]
  },
  {
   "cell_type": "code",
   "execution_count": 7,
   "metadata": {},
   "outputs": [
    {
     "data": {
      "text/plain": [
       "type"
      ]
     },
     "execution_count": 7,
     "metadata": {},
     "output_type": "execute_result"
    }
   ],
   "source": [
    "e= Exception\n",
    "type(e)"
   ]
  },
  {
   "cell_type": "code",
   "execution_count": 8,
   "metadata": {},
   "outputs": [],
   "source": [
    "import os\n",
    "import pandas as pd\n",
    "\n",
    "WRITE_EXT = {\n",
    "'.csv': 'to_csv',\n",
    "'.xls': 'to_excel',\n",
    "'.xlsx': 'to_excel',\n",
    "'.json': 'to_json',\n",
    "'.html': 'to_html',\n",
    "'.sql': 'to_sql',\n",
    "'.parquet': 'to_parquet',\n",
    "'.feather': 'to_feather',\n",
    "'.h5': 'to_hdf',\n",
    "'.hdf': 'to_hdf',\n",
    "'.dta': 'to_stata',\n",
    "'.sas7bdat': 'to_sas',\n",
    "}\n",
    "\n",
    "READ_EXT = {\n",
    "'.csv': 'read_csv',\n",
    "'.xls': 'read_excel',\n",
    "'.xlsx': 'read_excel',\n",
    "'.json': 'read_json',\n",
    "'.html': 'read_html',\n",
    "'.sql': 'read_sql',\n",
    "'.parquet': 'read_parquet',\n",
    "'.feather': 'read_feather',\n",
    "'.h5': 'read_hdf',\n",
    "'.hdf': 'read_hdf',\n",
    "'.dta': 'read_stata',\n",
    "'.sas7bdat': 'read_sas',\n",
    "}\n",
    "def read(db_file, encoding='utf-8'):\n",
    "  \"\"\"\n",
    "  The read function reads a database file and returns a pandas dataframe.\n",
    "  -------------------------------------------\n",
    "  :param db_file: Specify the file to be read\n",
    "  :param encoding: Specify the encoding of the file\n",
    "  :return: A pandas dataframe with the contents of the file\n",
    "  \"\"\"\n",
    "  print(db_file)\n",
    "  name, ext = os.path.splitext(db_file)\n",
    "  name = name.split('/')[-1]\n",
    "  method = READ_EXT.get(ext)\n",
    "  if method:\n",
    "      read_method = getattr(pd, method)\n",
    "      df = read_method(db_file, encoding=encoding)\n",
    "      return df"
   ]
  },
  {
   "cell_type": "code",
   "execution_count": 11,
   "metadata": {},
   "outputs": [],
   "source": [
    "# x = read('file.json')\n",
    "# x\n",
    "import magic\n",
    "# pip install python-magic\n",
    "# brew install libmagic\n",
    "\n",
    "\n",
    "def detect_file_type(file_path):\n",
    "    \"\"\"\n",
    "    Detect the type of data in a file based on its content.\n",
    "\n",
    "    Parameters:\n",
    "    - file_path (str): Path to the file.\n",
    "\n",
    "    Returns:\n",
    "    - str: Detected file type.\n",
    "    \"\"\"\n",
    "    # Create magic object\n",
    "    detector = magic.Magic()\n",
    "\n",
    "    # Detect file type\n",
    "    file_type = detector.from_file(file_path)\n",
    "\n",
    "    return file_type"
   ]
  },
  {
   "cell_type": "code",
   "execution_count": 14,
   "metadata": {},
   "outputs": [
    {
     "name": "stdout",
     "output_type": "stream",
     "text": [
      "File Type: text/xml\n"
     ]
    }
   ],
   "source": [
    "import subprocess\n",
    "\n",
    "def detect_file_type(file_path):\n",
    "    \"\"\"\n",
    "    Detect the type of data in a file based on its content using the file command.\n",
    "\n",
    "    Parameters:\n",
    "    - file_path (str): Path to the file.\n",
    "\n",
    "    Returns:\n",
    "    - str: Detected file type.\n",
    "    \"\"\"\n",
    "    # Run the file command and capture the output\n",
    "    result = subprocess.run(['file', '--mime-type', file_path], capture_output=True, text=True)\n",
    "    \n",
    "    # Extract the file type from the output\n",
    "    file_type = result.stdout.strip().split(': ')[-1]\n",
    "\n",
    "    return file_type\n",
    "\n",
    "# Example usage:\n",
    "file_path = 'ww.txt'\n",
    "file_type = detect_file_type(file_path)\n",
    "print(\"File Type:\", file_type)"
   ]
  },
  {
   "cell_type": "code",
   "execution_count": null,
   "metadata": {},
   "outputs": [],
   "source": []
  }
 ],
 "metadata": {
  "kernelspec": {
   "display_name": ".shazam",
   "language": "python",
   "name": "python3"
  },
  "language_info": {
   "codemirror_mode": {
    "name": "ipython",
    "version": 3
   },
   "file_extension": ".py",
   "mimetype": "text/x-python",
   "name": "python",
   "nbconvert_exporter": "python",
   "pygments_lexer": "ipython3",
   "version": "3.12.3"
  }
 },
 "nbformat": 4,
 "nbformat_minor": 2
}
