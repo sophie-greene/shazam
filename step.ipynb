{
 "cells": [
  {
   "cell_type": "markdown",
   "metadata": {},
   "source": [
    "# Store music metadata using apple shortcuts\n",
    "In this small project I was trying to store the metadata about the music that gets shazamed on my macOS\n",
    "I started by trying to find Shazam database file on my system but that proved to be quit tricky\n",
    "Note that I tried this on MacOs, it might be different in iOS device\n",
    "TODO: test on mobile device\n",
    "\n",
    "## Create a Shortcut\n",
    "the the shortcut app, click on the plus sign, a new shortcut will be created\n",
    "<img src=\"imgs/shazam_create.png\" alt=\"create a new shortcut\" width=\"70%\" style=\"margin:5px;\"/>"
   ]
  },
  {
   "cell_type": "markdown",
   "metadata": {},
   "source": [
    "\n",
    "also note that in the video I recorded I used a loop, bad idea since we can run a shortcut in CLI\n",
    "\n",
    "I modified the short cut to perform one cycle, it takes no input and outputs a song metadata if a song is found as text, otherwise it return some \"No song found\"\n",
    "\n",
    "<img src=\"imgs/shortcut.png\" alt=\"shows the text file created by the shortcut app\" width=\"80%\" style=\"margin:5px;\"/>"
   ]
  },
  {
   "cell_type": "code",
   "execution_count": 1,
   "metadata": {},
   "outputs": [],
   "source": [
    "import os\n",
    "import re\n",
    "import pandas as pd\n",
    "from bs4 import BeautifulSoup"
   ]
  },
  {
   "cell_type": "code",
   "execution_count": 2,
   "metadata": {},
   "outputs": [],
   "source": [
    "SHAZAM_TEMPLATE = \"\"\"\n",
    "<?xml version=\"1.0\" encoding=\"UTF-8\"?>\n",
    "<root>\n",
    "\n",
    "<timestamp>\n",
    "Date\n",
    "</timestamp>\n",
    "\n",
    "<title>\n",
    "Shazam Media (Title)\n",
    "</title>\n",
    "\n",
    "<artist>\n",
    "Shazam Media (Artist)\n",
    "</artist>\n",
    "\n",
    "<isexplicit>\n",
    "Shazam Media (Is Explicit)\n",
    "</isexplicit>\n",
    "\n",
    "<lyricssnippet>\n",
    "Shazam Media (Lyrics Snippet)\n",
    "</lyricssnippet>\n",
    "\n",
    "<lyricsnippetsynced>\n",
    "Shazam Media (Lyric Snippet Synced)\n",
    "</lyricsnippetsynced>\n",
    "\n",
    "<artwork>\n",
    "Shazam Media (Artwork)\n",
    "</artwork>\n",
    "\n",
    "<videourl>\n",
    "Shazam Media (Video URL)\n",
    "</videourl>\n",
    "\n",
    "<shazamurl>\n",
    "Shazam Media (Shazam URL)\n",
    "</shazamurl>\n",
    "\n",
    "<applemusicurl>\n",
    "Shazam Media (Apple Music URL)\n",
    "</applemusicurl>\n",
    "\n",
    "<name>\n",
    "Shazam Media (Name)\n",
    "</name>\n",
    "\n",
    "</root>\n",
    "\"\"\""
   ]
  },
  {
   "cell_type": "code",
   "execution_count": 3,
   "metadata": {},
   "outputs": [],
   "source": [
    "outfile = './test.txt'\n",
    "res = !shortcuts run \"shazam_step\" --output-path $outfile"
   ]
  },
  {
   "cell_type": "code",
   "execution_count": 4,
   "metadata": {},
   "outputs": [
    {
     "data": {
      "text/plain": [
       "[]"
      ]
     },
     "execution_count": 4,
     "metadata": {},
     "output_type": "execute_result"
    }
   ],
   "source": [
    "res"
   ]
  },
  {
   "cell_type": "markdown",
   "metadata": {},
   "source": [
    "find the valid tags then find their values"
   ]
  },
  {
   "cell_type": "code",
   "execution_count": 6,
   "metadata": {},
   "outputs": [],
   "source": [
    "def parse_row(outfile, encoding='utf-8'):\n",
    "    \"\"\"\n",
    "    The parse_row function parses the XML document using lxml parser.\n",
    "    it uses the `SHAZAM_TEMPLATE` string as map to read the xml data\n",
    "    ---------------------------------------------------------\n",
    "    :param outfile: Specify the path to the xml file that will be parsed\n",
    "    :return: A dictionary with keys as the tag names\n",
    "        and values as the text content of those tags\n",
    "    \"\"\"\n",
    "    soup = BeautifulSoup(SHAZAM_TEMPLATE, 'xml')\n",
    "    root = soup.root\n",
    "    tags = [tag.name  for tag in root.children if tag and tag.name!='root']\n",
    "    print()\n",
    "    try:\n",
    "        with open(outfile, encoding=encoding) as f:\n",
    "            row = f.read()\n",
    "    except FileNotFoundError:\n",
    "        return FileNotFoundError\n",
    "    # print(row)\n",
    "    soup = BeautifulSoup(row.replace('\\n', ''), 'xml')\n",
    "    root = soup.select_one('root')\n",
    "    if root:\n",
    "        dct = {}\n",
    "        for tag in tags:\n",
    "            if not tag:\n",
    "                continue\n",
    "            tag_content = root.find(tag)\n",
    "            if tag_content:\n",
    "                dct[tag] = tag_content.text\n",
    "    return dct"
   ]
  },
  {
   "cell_type": "code",
   "execution_count": 7,
   "metadata": {},
   "outputs": [
    {
     "name": "stdout",
     "output_type": "stream",
     "text": [
      "\n"
     ]
    },
    {
     "data": {
      "text/plain": [
       "{'timestamp': '10 May 2024 at 12:03',\n",
       " 'title': 'I Will Go To You Like the First Snow',\n",
       " 'artist': 'Ailee',\n",
       " 'isexplicit': 'No',\n",
       " 'lyricssnippet': '널 품기 전 알지 못했다내 머문 세상 이토록 찬란한 것을작은 숨결로 닿은 사람겁없이 나를 불러 준 사랑몹시도 좋았다너를 지켜 보고 설레고우습게 질투도 했던평범한 모든 순간들이캄캄한 영원그 오랜 기다림 속으로햇살처럼 네가 내렸다',\n",
       " 'lyricsnippetsynced': '첫눈처럼 내가 가겠다너에게 내가 가겠다',\n",
       " 'artwork': 'Image',\n",
       " 'videourl': '',\n",
       " 'shazamurl': 'https://www.shazam.com/track/339241072/i-will-go-to-you-like-the-first-snow?co=GB=shortcuts=207487=-0.0011524558=230283=2024-05-10T11:02:56.746Z',\n",
       " 'applemusicurl': 'https://music.apple.com/gb/album/i-will-go-to-you-like-the-first-snow/1569425905?i=1569425907=30201=Shazam_shortcuts',\n",
       " 'name': 'Ailee - I Will Go To You Like the First Snow'}"
      ]
     },
     "execution_count": 7,
     "metadata": {},
     "output_type": "execute_result"
    }
   ],
   "source": [
    "parse_row(outfile)"
   ]
  },
  {
   "cell_type": "code",
   "execution_count": 13,
   "metadata": {},
   "outputs": [],
   "source": [
    "import threading\n",
    "import subprocess\n",
    "import time\n",
    "\n",
    "def get_row(outfile):\n",
    "\n",
    "    \"\"\"\n",
    "    The get_row function runs the shazam_step shortcut\n",
    "        and returns a subprocess.CompletedProcess object.\n",
    "        the returned value could be None or something else\n",
    "        please refer to documentation\n",
    "        [subprocess](https://docs.python.org/3/library/subprocess.html)\n",
    "    ------------------------------------------------\n",
    "    :param outfile: Specify the path for the output file\n",
    "    :return: A completedprocess object\n",
    "    \"\"\"\n",
    "    script = [\"shortcuts\",\n",
    "              \"run\",\n",
    "              \"shazam_step\",\n",
    "              \"--output-path\",\n",
    "              outfile]\n",
    "    return subprocess.run(script, None, None, check=False)\n",
    "def run_get_row(outfile)\n",
    "    # Create a new thread with arguments\n",
    "    thr_get_row = threading.Thread(target=get_row, args=['hek.csv'])\n",
    "\n",
    "    # Start the thread\n",
    "    thr_get_row.start()\n",
    "    while not\n",
    "\n"
   ]
  },
  {
   "cell_type": "code",
   "execution_count": 14,
   "metadata": {},
   "outputs": [
    {
     "data": {
      "text/plain": [
       "type"
      ]
     },
     "execution_count": 14,
     "metadata": {},
     "output_type": "execute_result"
    }
   ],
   "source": [
    "e= Exception\n",
    "type(e)"
   ]
  },
  {
   "cell_type": "code",
   "execution_count": 11,
   "metadata": {},
   "outputs": [
    {
     "data": {
      "text/plain": [
       "True"
      ]
     },
     "execution_count": 11,
     "metadata": {},
     "output_type": "execute_result"
    }
   ],
   "source": [
    "df = pd.read_json('shazam.json')\n",
    "isinstance(df,pd.DataFrame)"
   ]
  },
  {
   "cell_type": "code",
   "execution_count": null,
   "metadata": {},
   "outputs": [],
   "source": []
  }
 ],
 "metadata": {
  "kernelspec": {
   "display_name": ".shazam",
   "language": "python",
   "name": "python3"
  },
  "language_info": {
   "codemirror_mode": {
    "name": "ipython",
    "version": 3
   },
   "file_extension": ".py",
   "mimetype": "text/x-python",
   "name": "python",
   "nbconvert_exporter": "python",
   "pygments_lexer": "ipython3",
   "version": "3.12.3"
  }
 },
 "nbformat": 4,
 "nbformat_minor": 2
}
