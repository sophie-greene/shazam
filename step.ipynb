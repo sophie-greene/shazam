{
 "cells": [
  {
   "cell_type": "markdown",
   "metadata": {},
   "source": [
    "# Store music metadata using apple shortcuts\n",
    "In this small project I was trying to store the metadata about the music that gets shazamed on my macOS\n",
    "I started by trying to find Shazam database file on my system but that proved to be quit tricky\n",
    "Note that I tried this on MacOs, it might be different in iOS device\n",
    "TODO: test on mobile device\n",
    "\n",
    "## Create a Shortcut\n",
    "the the shortcut app, click on the plus sign, a new shortcut will be created\n",
    "<img src=\"imgs/shazam_create.png\" alt=\"create a new shortcut\" width=\"70%\" style=\"margin:5px;\"/>"
   ]
  },
  {
   "cell_type": "markdown",
   "metadata": {},
   "source": [
    "\n",
    "also note that in the video I recorded I used a loop, bad idea since we can run a shortcut in CLI\n",
    "\n",
    "I modified the short cut to perform one cycle, it takes no input and outputs a song metadata if a song is found as text, otherwise it return some \"No song found\"\n",
    "\n",
    "<img src=\"imgs/shortcut.png\" alt=\"shows the text file created by the shortcut app\" width=\"80%\" style=\"margin:5px;\"/>"
   ]
  },
  {
   "cell_type": "code",
   "execution_count": 3,
   "metadata": {},
   "outputs": [],
   "source": [
    "import os\n",
    "import re\n",
    "import pandas as pd"
   ]
  },
  {
   "cell_type": "code",
   "execution_count": 22,
   "metadata": {},
   "outputs": [],
   "source": [
    "SHAZAM_TEMPLATE = \"\"\"\n",
    "<root>\n",
    "\n",
    "<timestamp>\n",
    "Date\n",
    "</timestamp>\n",
    "\n",
    "<title>\n",
    "Shazam Media (Title)\n",
    "</title>\n",
    "\n",
    "<artist>\n",
    "Shazam Media (Artist)\n",
    "</artist>\n",
    "\n",
    "<isexplicit>\n",
    "Shazam Media (Is Explicit)\n",
    "</isexplicit>\n",
    "\n",
    "<lyricssnippet>\n",
    "Shazam Media (Lyrics Snippet)\n",
    "</lyricssnippet>\n",
    "\n",
    "<lyricsnippetsynced>\n",
    "Shazam Media (Lyric Snippet Synced)\n",
    "</lyricsnippetsynced>\n",
    "\n",
    "<artwork>\n",
    "Shazam Media (Artwork)\n",
    "</artwork>\n",
    "\n",
    "<videourl>\n",
    "Shazam Media (Video URL)\n",
    "</videourl>\n",
    "\n",
    "<shazamurl>\n",
    "Shazam Media (Shazam URL)\n",
    "</shazamurl>\n",
    "\n",
    "<applemusicurl>\n",
    "Shazam Media (Apple Music URL)\n",
    "</applemusicurl>\n",
    "\n",
    "<name>\n",
    "Shazam Media (Name)\n",
    "</name>\n",
    "\n",
    "</root>\n",
    "\"\"\""
   ]
  },
  {
   "cell_type": "code",
   "execution_count": 21,
   "metadata": {},
   "outputs": [],
   "source": [
    "res = !shortcuts run \"shazam_step\" --output-path $outfile"
   ]
  },
  {
   "cell_type": "markdown",
   "metadata": {},
   "source": [
    "find the valid tags then find their values"
   ]
  },
  {
   "cell_type": "code",
   "execution_count": 51,
   "metadata": {},
   "outputs": [],
   "source": [
    "def parse_row(outfile):\n",
    "    if not os.path.exists(outfile):\n",
    "        return\n",
    "    soup = BeautifulSoup(SHAZAM_TEMPLATE.replace('\\n',''), 'xml')\n",
    "    root  = soup.root\n",
    "    tags = []\n",
    "    for c in root.children:\n",
    "        tags.append(c.name)\n",
    "    # Parse the XML document using lxml parser\n",
    "    with open(outfile, encoding='utf-8') as f:\n",
    "        row = f.read().replace('\\n', '')\n",
    "    soup = BeautifulSoup(row, 'xml')\n",
    "    dct = {}\n",
    "    # Iterate over the <item> tags\n",
    "    for  tag in tags:\n",
    "        \n",
    "        dct[tag] = soup.select_one(tag).text\n",
    "    return dct"
   ]
  },
  {
   "cell_type": "code",
   "execution_count": 52,
   "metadata": {},
   "outputs": [
    {
     "data": {
      "text/plain": [
       "{'timestamp': '9 May 2024 at 16:07',\n",
       " 'title': 'Heart Flutter (Inst.)',\n",
       " 'artist': 'dori',\n",
       " 'isexplicit': 'No',\n",
       " 'lyricssnippet': '',\n",
       " 'lyricsnippetsynced': '',\n",
       " 'artwork': 'Image',\n",
       " 'videourl': '',\n",
       " 'shazamurl': 'https://www.shazam.com/track/698398330/heart-flutter-inst?co=GB=shortcuts=136302=-0.003493011=220880=2024-05-09T15:07:37.301Z',\n",
       " 'applemusicurl': 'https://music.apple.com/gb/album/heart-flutter-inst/1741915998?i=1741916000=30201=Shazam_shortcuts',\n",
       " 'name': 'dori - Heart Flutter (Inst.)'}"
      ]
     },
     "execution_count": 52,
     "metadata": {},
     "output_type": "execute_result"
    }
   ],
   "source": [
    "parse_row(outfile)"
   ]
  },
  {
   "cell_type": "code",
   "execution_count": 39,
   "metadata": {},
   "outputs": [
    {
     "data": {
      "text/plain": [
       "['timestamp',\n",
       " 'title',\n",
       " 'artist',\n",
       " 'isexplicit',\n",
       " 'lyricssnippet',\n",
       " 'lyricsnippetsynced',\n",
       " 'artwork',\n",
       " 'videourl',\n",
       " 'shazamurl',\n",
       " 'applemusicurl',\n",
       " 'name']"
      ]
     },
     "execution_count": 39,
     "metadata": {},
     "output_type": "execute_result"
    }
   ],
   "source": []
  },
  {
   "cell_type": "code",
   "execution_count": null,
   "metadata": {},
   "outputs": [],
   "source": []
  }
 ],
 "metadata": {
  "kernelspec": {
   "display_name": ".shazam",
   "language": "python",
   "name": "python3"
  },
  "language_info": {
   "codemirror_mode": {
    "name": "ipython",
    "version": 3
   },
   "file_extension": ".py",
   "mimetype": "text/x-python",
   "name": "python",
   "nbconvert_exporter": "python",
   "pygments_lexer": "ipython3",
   "version": "3.12.3"
  }
 },
 "nbformat": 4,
 "nbformat_minor": 2
}
