{
 "cells": [
  {
   "cell_type": "markdown",
   "metadata": {},
   "source": [
    "# Store music metadata using apple shortcuts\n",
    "In this small project I was trying to store the metadata about the music that gets shazamed on my macOS\n",
    "I started by trying to find Shazam database file on my system but that proved to be quit tricky\n",
    "Note that I tried this on MacOs, it might be different in iOS device\n",
    "TODO: test on mobile device\n",
    "\n",
    "## Create a Shortcut\n",
    "the the shortcut app, click on the plus sign, a new shortcut will be created\n",
    "<img src=\"imgs/shazam_create.png\" alt=\"create a new shortcut\" width=\"70%\" style=\"margin:5px;\"/>"
   ]
  },
  {
   "cell_type": "markdown",
   "metadata": {},
   "source": [
    "\n",
    "also note that in the video I recorded I used a loop, bad idea since we can run a shortcut in CLI\n",
    "\n",
    "I modified the short cut to perform one cycle, it takes no input and outputs a song metadata if a song is found as text, otherwise it return some \"No song found\"\n",
    "\n",
    "<img src=\"imgs/shortcut.png\" alt=\"shows the text file created by the shortcut app\" width=\"80%\" style=\"margin:5px;\"/>"
   ]
  },
  {
   "cell_type": "code",
   "execution_count": 1,
   "metadata": {},
   "outputs": [],
   "source": [
    "import os\n",
    "import re\n",
    "import pandas as pd\n",
    "from bs4 import BeautifulSoup"
   ]
  },
  {
   "cell_type": "code",
   "execution_count": 11,
   "metadata": {},
   "outputs": [],
   "source": [
    "SHAZAM_TEMPLATE = \"\"\"\n",
    "<?xml version=\"1.0\" encoding=\"UTF-8\"?>\n",
    "<root>\n",
    "\n",
    "<timestamp>\n",
    "Date\n",
    "</timestamp>\n",
    "\n",
    "<title>\n",
    "Shazam Media (Title)\n",
    "</title>\n",
    "\n",
    "<artist>\n",
    "Shazam Media (Artist)\n",
    "</artist>\n",
    "\n",
    "<isexplicit>\n",
    "Shazam Media (Is Explicit)\n",
    "</isexplicit>\n",
    "\n",
    "<lyricssnippet>\n",
    "Shazam Media (Lyrics Snippet)\n",
    "</lyricssnippet>\n",
    "\n",
    "<lyricsnippetsynced>\n",
    "Shazam Media (Lyric Snippet Synced)\n",
    "</lyricsnippetsynced>\n",
    "\n",
    "<artwork>\n",
    "Shazam Media (Artwork)\n",
    "</artwork>\n",
    "\n",
    "<videourl>\n",
    "Shazam Media (Video URL)\n",
    "</videourl>\n",
    "\n",
    "<shazamurl>\n",
    "Shazam Media (Shazam URL)\n",
    "</shazamurl>\n",
    "\n",
    "<applemusicurl>\n",
    "Shazam Media (Apple Music URL)\n",
    "</applemusicurl>\n",
    "\n",
    "<name>\n",
    "Shazam Media (Name)\n",
    "</name>\n",
    "\n",
    "</root>\n",
    "\"\"\""
   ]
  },
  {
   "cell_type": "code",
   "execution_count": 19,
   "metadata": {},
   "outputs": [],
   "source": [
    "outfile = './test.txt'\n",
    "res = !shortcuts run \"shazam_step\" --output-path $outfile"
   ]
  },
  {
   "cell_type": "code",
   "execution_count": 20,
   "metadata": {},
   "outputs": [
    {
     "data": {
      "text/plain": [
       "[]"
      ]
     },
     "execution_count": 20,
     "metadata": {},
     "output_type": "execute_result"
    }
   ],
   "source": [
    "res"
   ]
  },
  {
   "cell_type": "markdown",
   "metadata": {},
   "source": [
    "find the valid tags then find their values"
   ]
  },
  {
   "cell_type": "code",
   "execution_count": 41,
   "metadata": {},
   "outputs": [],
   "source": [
    "def parse_row(outfile, encoding='utf-8'):\n",
    "    \"\"\"\n",
    "    The parse_row function parses the XML document using lxml parser.\n",
    "    it uses the `SHAZAM_TEMPLATE` string as map to read the xml data\n",
    "    ---------------------------------------------------------\n",
    "    :param outfile: Specify the path to the xml file that will be parsed\n",
    "    :return: A dictionary with keys as the tag names\n",
    "        and values as the text content of those tags\n",
    "    \"\"\"\n",
    "    soup = BeautifulSoup(SHAZAM_TEMPLATE, 'xml')\n",
    "    root = soup.root\n",
    "    tags = [tag.name  for tag in root.children if tag and tag.name!='root']\n",
    "    print()\n",
    "    try:\n",
    "        with open(outfile, encoding=encoding) as f:\n",
    "            row = f.read()\n",
    "    except FileNotFoundError:\n",
    "        return FileNotFoundError\n",
    "    # print(row)\n",
    "    soup = BeautifulSoup(row.replace('\\n', ''), 'xml')\n",
    "    root = soup.select_one('root')\n",
    "    if root:\n",
    "        dct = {}\n",
    "        for tag in tags:\n",
    "            if not tag:\n",
    "                continue\n",
    "            tag_content = root.find(tag)\n",
    "            if tag_content:\n",
    "                dct[tag] = tag_content.text\n",
    "    return dct"
   ]
  },
  {
   "cell_type": "code",
   "execution_count": 42,
   "metadata": {},
   "outputs": [
    {
     "name": "stdout",
     "output_type": "stream",
     "text": [
      "\n"
     ]
    },
    {
     "data": {
      "text/plain": [
       "{'timestamp': '9 May 2024 at 18:57',\n",
       " 'title': 'Aloha',\n",
       " 'artist': 'Cho Jung-seok',\n",
       " 'isexplicit': 'No',\n",
       " 'lyricssnippet': '어두운 불빛 아래 촛불 하나와인 잔에 담긴 약속 하나항상 너의 곁에서 널 지켜 줄 거야날 믿어 준 너였잖아나 바라는 건 오직 하나영원한 행복을 꿈꾸지만화려하지 않아도 꿈같진 않아도너만 있어 주면 돼걱정 마 (I believe)',\n",
       " 'lyricsnippetsynced': \"'Cause your love is so sweetYou are my everything첫날밤의 단꿈에 젖어하는 말이 아냐 난 변하지 않아오직 너만 바라볼 거야 OhYou're light of my lifeYou are the one in my life\",\n",
       " 'artwork': 'Image',\n",
       " 'videourl': '',\n",
       " 'shazamurl': 'https://www.shazam.com/track/511213452/aloha?co=GB=shortcuts=169884=0.0010513067=244999=2024-05-09T17:57:05.276Z',\n",
       " 'applemusicurl': 'https://music.apple.com/gb/album/aloha/1570389407?i=1570389411=30201=Shazam_shortcuts',\n",
       " 'name': 'Cho Jung-seok - Aloha'}"
      ]
     },
     "execution_count": 42,
     "metadata": {},
     "output_type": "execute_result"
    }
   ],
   "source": [
    "parse_row(outfile)"
   ]
  },
  {
   "cell_type": "code",
   "execution_count": 27,
   "metadata": {},
   "outputs": [
    {
     "name": "stdout",
     "output_type": "stream",
     "text": [
      "<?xml version=\"1.0\" encoding=\"UTF-8\"?>\n",
      "<root>\n",
      "\n",
      "<timestamp>\n",
      "9 May 2024 at 18:57\n",
      "</timestamp>\n",
      "\n",
      "<title>\n",
      "Aloha\n",
      "</title>\n",
      "\n",
      "<artist>\n",
      "Cho Jung-seok\n",
      "</artist>\n",
      "\n",
      "<isexplicit>\n",
      "No\n",
      "</isexplicit>\n",
      "\n",
      "<lyricssnippet>\n",
      "어두운 불빛 아래 촛불 하나\n",
      "와인 잔에 담긴 약속 하나\n",
      "항상 너의 곁에서 널 지켜 줄 거야\n",
      "날 믿어 준 너였잖아\n",
      "나 바라는 건 오직 하나\n",
      "영원한 행복을 꿈꾸지만\n",
      "화려하지 않아도 꿈같진 않아도\n",
      "너만 있어 주면 돼\n",
      "걱정 마 (I believe)\n",
      "</lyricssnippet>\n",
      "\n",
      "<lyricsnippetsynced>\n",
      "'Cause your love is so sweet\n",
      "You are my everything\n",
      "첫날밤의 단꿈에 젖어\n",
      "하는 말이 아냐 난 변하지 않아\n",
      "오직 너만 바라볼 거야 Oh\n",
      "You're light of my life\n",
      "You are the one in my life\n",
      "</lyricsnippetsynced>\n",
      "\n",
      "<artwork>\n",
      "Image\n",
      "</artwork>\n",
      "\n",
      "<videourl>\n",
      "\n",
      "</videourl>\n",
      "\n",
      "<shazamurl>\n",
      "https://www.shazam.com/track/511213452/aloha?co=GB&referrer=shortcuts&offsetInMilliseconds=169884&timeSkew=0.0010513067&trackLength=244999&startDate=2024-05-09T17:57:05.276Z\n",
      "</shazamurl>\n",
      "\n",
      "<applemusicurl>\n",
      "https://music.apple.com/gb/album/aloha/1570389407?i=1570389411&itscg=30201&itsct=Shazam_shortcuts\n",
      "</applemusicurl>\n",
      "\n",
      "<name>\n",
      "Cho Jung-seok - Aloha\n",
      "</name>\n",
      "\n",
      "</root>"
     ]
    }
   ],
   "source": [
    "!cat $outfile"
   ]
  },
  {
   "cell_type": "code",
   "execution_count": null,
   "metadata": {},
   "outputs": [],
   "source": []
  }
 ],
 "metadata": {
  "kernelspec": {
   "display_name": ".shazam",
   "language": "python",
   "name": "python3"
  },
  "language_info": {
   "codemirror_mode": {
    "name": "ipython",
    "version": 3
   },
   "file_extension": ".py",
   "mimetype": "text/x-python",
   "name": "python",
   "nbconvert_exporter": "python",
   "pygments_lexer": "ipython3",
   "version": "3.12.3"
  }
 },
 "nbformat": 4,
 "nbformat_minor": 2
}
