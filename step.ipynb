{
 "cells": [
  {
   "cell_type": "markdown",
   "metadata": {},
   "source": [
    "# Store music metadata using apple shortcuts\n",
    "In this small project I was trying to store the metadata about the music that gets shazamed on my macOS\n",
    "I started by trying to find Shazam database file on my system but that proved to be quit tricky\n",
    "Note that I tried this on MacOs, it might be different in iOS device\n",
    "TODO: test on mobile device\n",
    "\n",
    "## Create a Shortcut\n",
    "the the shortcut app, click on the plus sign, a new shortcut will be created\n",
    "<img src=\"imgs/shazam_create.png\" alt=\"create a new shortcut\" width=\"70%\" style=\"margin:5px;\"/>"
   ]
  },
  {
   "cell_type": "markdown",
   "metadata": {},
   "source": [
    "\n",
    "also note that in the video I recorded I used a loop, bad idea since we can run a shortcut in CLI\n",
    "\n",
    "I modified the short cut to perform one cycle, it takes no input and outputs a song metadata if a song is found as text, otherwise it return some \"No song found\"\n",
    "\n",
    "<img src=\"imgs/shortcut.png\" alt=\"shows the text file created by the shortcut app\" width=\"80%\" style=\"margin:5px;\"/>"
   ]
  },
  {
   "cell_type": "code",
   "execution_count": 1,
   "metadata": {},
   "outputs": [],
   "source": [
    "import os\n",
    "import re\n",
    "import pandas as pd\n",
    "from bs4 import BeautifulSoup"
   ]
  },
  {
   "cell_type": "code",
   "execution_count": 2,
   "metadata": {},
   "outputs": [],
   "source": [
    "SHAZAM_TEMPLATE = \"\"\"\n",
    "<?xml version=\"1.0\" encoding=\"UTF-8\"?>\n",
    "<root>\n",
    "\n",
    "<timestamp>\n",
    "Date\n",
    "</timestamp>\n",
    "\n",
    "<title>\n",
    "Shazam Media (Title)\n",
    "</title>\n",
    "\n",
    "<artist>\n",
    "Shazam Media (Artist)\n",
    "</artist>\n",
    "\n",
    "<isexplicit>\n",
    "Shazam Media (Is Explicit)\n",
    "</isexplicit>\n",
    "\n",
    "<lyricssnippet>\n",
    "Shazam Media (Lyrics Snippet)\n",
    "</lyricssnippet>\n",
    "\n",
    "<lyricsnippetsynced>\n",
    "Shazam Media (Lyric Snippet Synced)\n",
    "</lyricsnippetsynced>\n",
    "\n",
    "<artwork>\n",
    "Shazam Media (Artwork)\n",
    "</artwork>\n",
    "\n",
    "<videourl>\n",
    "Shazam Media (Video URL)\n",
    "</videourl>\n",
    "\n",
    "<shazamurl>\n",
    "Shazam Media (Shazam URL)\n",
    "</shazamurl>\n",
    "\n",
    "<applemusicurl>\n",
    "Shazam Media (Apple Music URL)\n",
    "</applemusicurl>\n",
    "\n",
    "<name>\n",
    "Shazam Media (Name)\n",
    "</name>\n",
    "\n",
    "</root>\n",
    "\"\"\""
   ]
  },
  {
   "cell_type": "code",
   "execution_count": 3,
   "metadata": {},
   "outputs": [],
   "source": [
    "outfile = './test.txt'\n",
    "res = !shortcuts run \"shazam_step\" --output-path $outfile"
   ]
  },
  {
   "cell_type": "code",
   "execution_count": 4,
   "metadata": {},
   "outputs": [
    {
     "data": {
      "text/plain": [
       "[]"
      ]
     },
     "execution_count": 4,
     "metadata": {},
     "output_type": "execute_result"
    }
   ],
   "source": [
    "res"
   ]
  },
  {
   "cell_type": "markdown",
   "metadata": {},
   "source": [
    "find the valid tags then find their values"
   ]
  },
  {
   "cell_type": "code",
   "execution_count": 5,
   "metadata": {},
   "outputs": [],
   "source": [
    "def parse_row(outfile, encoding='utf-8'):\n",
    "    \"\"\"\n",
    "    The parse_row function parses the XML document using lxml parser.\n",
    "    it uses the `SHAZAM_TEMPLATE` string as map to read the xml data\n",
    "    ---------------------------------------------------------\n",
    "    :param outfile: Specify the path to the xml file that will be parsed\n",
    "    :return: A dictionary with keys as the tag names\n",
    "        and values as the text content of those tags\n",
    "    \"\"\"\n",
    "    soup = BeautifulSoup(SHAZAM_TEMPLATE, 'xml')\n",
    "    root = soup.root\n",
    "    tags = [tag.name  for tag in root.children if tag and tag.name!='root']\n",
    "    print()\n",
    "    try:\n",
    "        with open(outfile, encoding=encoding) as f:\n",
    "            row = f.read()\n",
    "    except FileNotFoundError:\n",
    "        return FileNotFoundError\n",
    "    # print(row)\n",
    "    soup = BeautifulSoup(row.replace('\\n', ''), 'xml')\n",
    "    root = soup.select_one('root')\n",
    "    if root:\n",
    "        dct = {}\n",
    "        for tag in tags:\n",
    "            if not tag:\n",
    "                continue\n",
    "            tag_content = root.find(tag)\n",
    "            if tag_content:\n",
    "                dct[tag] = tag_content.text\n",
    "    return dct"
   ]
  },
  {
   "cell_type": "code",
   "execution_count": 6,
   "metadata": {},
   "outputs": [
    {
     "name": "stdout",
     "output_type": "stream",
     "text": [
      "\n"
     ]
    },
    {
     "data": {
      "text/plain": [
       "{'timestamp': '10 May 2024 at 15:51',\n",
       " 'title': 'You Make Me Feel (Radio Edit)',\n",
       " 'artist': 'Vasscon',\n",
       " 'isexplicit': 'No',\n",
       " 'lyricssnippet': '',\n",
       " 'lyricsnippetsynced': '',\n",
       " 'artwork': 'Image',\n",
       " 'videourl': '',\n",
       " 'shazamurl': 'https://www.shazam.com/track/82175391/you-make-me-feel-radio-edit?co=GB=shortcuts=7277=-4.9489737E-4=231796=2024-05-10T14:51:07.735Z',\n",
       " 'applemusicurl': '',\n",
       " 'name': 'Vasscon - You Make Me Feel (Radio Edit)'}"
      ]
     },
     "execution_count": 6,
     "metadata": {},
     "output_type": "execute_result"
    }
   ],
   "source": [
    "parse_row(outfile)"
   ]
  },
  {
   "cell_type": "code",
   "execution_count": 7,
   "metadata": {},
   "outputs": [
    {
     "data": {
      "text/plain": [
       "type"
      ]
     },
     "execution_count": 7,
     "metadata": {},
     "output_type": "execute_result"
    }
   ],
   "source": [
    "e= Exception\n",
    "type(e)"
   ]
  },
  {
   "cell_type": "code",
   "execution_count": 62,
   "metadata": {},
   "outputs": [],
   "source": [
    "import os\n",
    "import pandas as pd\n",
    "import subprocess\n",
    "\n",
    "WRITE_FRMT = {\n",
    "    '.csv': 'to_csv',\n",
    "    '.xls': 'to_excel',\n",
    "    '.xlsx': 'to_excel',\n",
    "    '.json': 'to_json',\n",
    "    '.html': 'to_html',\n",
    "    '.sql': 'to_sql',\n",
    "    '.parquet': 'to_parquet',\n",
    "    '.feather': 'to_feather',\n",
    "    '.h5': 'to_hdf',\n",
    "    '.hdf': 'to_hdf',\n",
    "    '.dta': 'to_stata',\n",
    "    '.sas7bdat': 'to_sas',\n",
    "}\n",
    "\n",
    "READ_FRMT = {\n",
    "    '.csv': 'read_csv',\n",
    "    '.xls': 'read_excel',\n",
    "    '.xlsx': 'read_excel',\n",
    "    '.json': 'read_json',\n",
    "    '.html': 'read_html',\n",
    "    '.sql': 'read_sql',\n",
    "    '.parquet': 'read_parquet',\n",
    "    '.feather': 'read_feather',\n",
    "    '.h5': 'read_hdf',\n",
    "    '.hdf': 'read_hdf',\n",
    "    '.dta': 'read_stata',\n",
    "    '.sas7bdat': 'read_sas',\n",
    "}\n",
    "\n",
    "\n",
    "def detect_file_type(file_path):\n",
    "\n",
    "    # Run the file command and capture the output\n",
    "    \"\"\"\n",
    "    The detect_file_type function takes a file path as input and returns the\n",
    "    file type. The function uses the Linux 'file' command to determine the file\n",
    "    type. If you are using Windows, you will need to install Cygwin or WSL in order\n",
    "    to use this function.\n",
    "    -----------------------------------------------\n",
    "    :param file_path: Specify the file to be checked\n",
    "    :return: A string containing the file type\n",
    "    \"\"\"\n",
    "    result = subprocess.run(\n",
    "        ['file', '--mime-type', file_path], capture_output=True, text=True)\n",
    "\n",
    "    # Extract the file type from the output\n",
    "    file_type = result.stdout.strip().split(': ')[-1]\n",
    "\n",
    "    return file_type\n",
    "\n",
    "\n",
    "def read_frmt(db_file, args={}):\n",
    "  \n",
    "    \"\"\"\n",
    "    The read_frmt function reads in a data file\n",
    "    and returns the contents as a pandas DataFrame.\n",
    "    -------------------------------------------------------\n",
    "    :param db_file: Pass the name of the file to be read\n",
    "    :param args: Pass in the arguments from the command line\n",
    "    :return: A dataframe\n",
    "\n",
    "    \"\"\"\n",
    "    print(db_file)\n",
    "    _, ext = os.path.splitext(db_file)\n",
    "\n",
    "    rgx = '|'.join(map(lambda c: c.strip('.'), READ_FRMT.keys()))\n",
    "    rgx = rf'({rgx})'\n",
    "    ft = detect_file_type(db_file)\n",
    "    ft = re.findall(rgx, ft)\n",
    "    if len(ft) > 0:\n",
    "        frmt = f'.{ft[0]}'\n",
    "    else:\n",
    "        frmt = ext\n",
    "    return read(db_file, frmt,args)\n",
    "\n",
    "def read(db_file, frmt, args={}):\n",
    "    \"\"\"\n",
    "    The read function reads a database file and returns\n",
    "    a pandas dataframe.\n",
    "    -------------------------------------------\n",
    "    :param db_file: Specify the file to be read\n",
    "    :param frmt: specify the format of the file being read\n",
    "    :param args: Specify the arguments to use when reading the file\n",
    "    :return: A pandas dataframe with the contents of the file\n",
    "    \"\"\"\n",
    "    # print(frmt)\n",
    "    method = READ_FRMT.get(frmt)\n",
    "    if method:\n",
    "        read_method = getattr(pd, method)\n",
    "        df = read_method(db_file, **args)\n",
    "        return df\n"
   ]
  },
  {
   "cell_type": "code",
   "execution_count": 65,
   "metadata": {},
   "outputs": [
    {
     "name": "stdout",
     "output_type": "stream",
     "text": [
      "shazam.csv\n",
      ".csv\n"
     ]
    },
    {
     "data": {
      "text/html": [
       "<div>\n",
       "<style scoped>\n",
       "    .dataframe tbody tr th:only-of-type {\n",
       "        vertical-align: middle;\n",
       "    }\n",
       "\n",
       "    .dataframe tbody tr th {\n",
       "        vertical-align: top;\n",
       "    }\n",
       "\n",
       "    .dataframe thead th {\n",
       "        text-align: right;\n",
       "    }\n",
       "</style>\n",
       "<table border=\"1\" class=\"dataframe\">\n",
       "  <thead>\n",
       "    <tr style=\"text-align: right;\">\n",
       "      <th></th>\n",
       "      <th>Unnamed: 0.4</th>\n",
       "      <th>Unnamed: 0.3</th>\n",
       "      <th>Unnamed: 0.2</th>\n",
       "      <th>Unnamed: 0.1</th>\n",
       "      <th>Unnamed: 0</th>\n",
       "      <th>timestamp</th>\n",
       "      <th>title</th>\n",
       "      <th>artist</th>\n",
       "      <th>isexplicit</th>\n",
       "      <th>lyricssnippet</th>\n",
       "      <th>lyricsnippetsynced</th>\n",
       "      <th>artwork</th>\n",
       "      <th>videourl</th>\n",
       "      <th>shazamurl</th>\n",
       "      <th>applemusicurl</th>\n",
       "      <th>name</th>\n",
       "    </tr>\n",
       "  </thead>\n",
       "  <tbody>\n",
       "    <tr>\n",
       "      <th>0</th>\n",
       "      <td>0</td>\n",
       "      <td>0.0</td>\n",
       "      <td>0.0</td>\n",
       "      <td>0.0</td>\n",
       "      <td>0.0</td>\n",
       "      <td>9 May 2024 at 17:12</td>\n",
       "      <td>In Your Time</td>\n",
       "      <td>LEE SUHYUN</td>\n",
       "      <td>No</td>\n",
       "      <td>차갑게 남겨진 이야기그때의 모든 게 난 선명해동화같은 시간 그 속에 난남겨짐만 그 ...</td>\n",
       "      <td>이렇게 다시 너를 만나지워버린 그때의 너를 찾아아팠던 시간 지나내가 널 붙잡아아직 ...</td>\n",
       "      <td>Image</td>\n",
       "      <td>NaN</td>\n",
       "      <td>https://www.shazam.com/track/529747941/in-your...</td>\n",
       "      <td>https://music.apple.com/gb/album/in-your-time/...</td>\n",
       "      <td>LEE SUHYUN - In Your Time</td>\n",
       "    </tr>\n",
       "    <tr>\n",
       "      <th>1</th>\n",
       "      <td>1</td>\n",
       "      <td>1.0</td>\n",
       "      <td>1.0</td>\n",
       "      <td>1.0</td>\n",
       "      <td>NaN</td>\n",
       "      <td>9 May 2024 at 17:39</td>\n",
       "      <td>Perhaps Love</td>\n",
       "      <td>HowL  J</td>\n",
       "      <td>No</td>\n",
       "      <td>언제였던 건지 기억나지 않아자꾸 내 머리가 너로 어지럽던 시절한두 번씩 떠오르던 생...</td>\n",
       "      <td>자꾸 내 머리가 너로 어지럽던 시절한두 번씩 떠오르던 생각자꾸 늘어가서 조금 당황스...</td>\n",
       "      <td>Image</td>\n",
       "      <td>NaN</td>\n",
       "      <td>https://www.shazam.com/track/44655269/perhaps-...</td>\n",
       "      <td>https://music.apple.com/gb/album/perhaps-love/...</td>\n",
       "      <td>HowL  J - Perhaps Love</td>\n",
       "    </tr>\n",
       "    <tr>\n",
       "      <th>2</th>\n",
       "      <td>2</td>\n",
       "      <td>2.0</td>\n",
       "      <td>NaN</td>\n",
       "      <td>NaN</td>\n",
       "      <td>NaN</td>\n",
       "      <td>10 May 2024 at 12:04</td>\n",
       "      <td>The First Snow (Instrumental)</td>\n",
       "      <td>Jung Joonil</td>\n",
       "      <td>No</td>\n",
       "      <td>NaN</td>\n",
       "      <td>NaN</td>\n",
       "      <td>Image</td>\n",
       "      <td>NaN</td>\n",
       "      <td>https://www.shazam.com/track/339059877/the-fir...</td>\n",
       "      <td>https://music.apple.com/gb/album/the-first-sno...</td>\n",
       "      <td>Jung Joonil - The First Snow (Instrumental)</td>\n",
       "    </tr>\n",
       "    <tr>\n",
       "      <th>3</th>\n",
       "      <td>3</td>\n",
       "      <td>NaN</td>\n",
       "      <td>NaN</td>\n",
       "      <td>NaN</td>\n",
       "      <td>NaN</td>\n",
       "      <td>10 May 2024 at 12:18</td>\n",
       "      <td>You Are So Beautiful</td>\n",
       "      <td>Eddy Kim</td>\n",
       "      <td>No</td>\n",
       "      <td>자꾸 물어보는 너늘 확인하고픈 너같은 말 해줘도매일 말해줘도왜 계속 물어입술이 말라...</td>\n",
       "      <td>정말 힌트도 없는지너 정말 이쁘다 이쁘다 이쁘다니까왜 내 말 믿지 않는 건데왜 말하...</td>\n",
       "      <td>Image</td>\n",
       "      <td>NaN</td>\n",
       "      <td>https://www.shazam.com/track/338367689/you-are...</td>\n",
       "      <td>https://music.apple.com/gb/album/you-are-so-be...</td>\n",
       "      <td>Eddy Kim - You Are So Beautiful</td>\n",
       "    </tr>\n",
       "  </tbody>\n",
       "</table>\n",
       "</div>"
      ],
      "text/plain": [
       "   Unnamed: 0.4  Unnamed: 0.3  Unnamed: 0.2  Unnamed: 0.1  Unnamed: 0  \\\n",
       "0             0           0.0           0.0           0.0         0.0   \n",
       "1             1           1.0           1.0           1.0         NaN   \n",
       "2             2           2.0           NaN           NaN         NaN   \n",
       "3             3           NaN           NaN           NaN         NaN   \n",
       "\n",
       "              timestamp                          title       artist  \\\n",
       "0   9 May 2024 at 17:12                   In Your Time   LEE SUHYUN   \n",
       "1   9 May 2024 at 17:39                   Perhaps Love      HowL  J   \n",
       "2  10 May 2024 at 12:04  The First Snow (Instrumental)  Jung Joonil   \n",
       "3  10 May 2024 at 12:18           You Are So Beautiful     Eddy Kim   \n",
       "\n",
       "  isexplicit                                      lyricssnippet  \\\n",
       "0         No  차갑게 남겨진 이야기그때의 모든 게 난 선명해동화같은 시간 그 속에 난남겨짐만 그 ...   \n",
       "1         No  언제였던 건지 기억나지 않아자꾸 내 머리가 너로 어지럽던 시절한두 번씩 떠오르던 생...   \n",
       "2         No                                                NaN   \n",
       "3         No  자꾸 물어보는 너늘 확인하고픈 너같은 말 해줘도매일 말해줘도왜 계속 물어입술이 말라...   \n",
       "\n",
       "                                  lyricsnippetsynced artwork  videourl  \\\n",
       "0  이렇게 다시 너를 만나지워버린 그때의 너를 찾아아팠던 시간 지나내가 널 붙잡아아직 ...   Image       NaN   \n",
       "1  자꾸 내 머리가 너로 어지럽던 시절한두 번씩 떠오르던 생각자꾸 늘어가서 조금 당황스...   Image       NaN   \n",
       "2                                                NaN   Image       NaN   \n",
       "3  정말 힌트도 없는지너 정말 이쁘다 이쁘다 이쁘다니까왜 내 말 믿지 않는 건데왜 말하...   Image       NaN   \n",
       "\n",
       "                                           shazamurl  \\\n",
       "0  https://www.shazam.com/track/529747941/in-your...   \n",
       "1  https://www.shazam.com/track/44655269/perhaps-...   \n",
       "2  https://www.shazam.com/track/339059877/the-fir...   \n",
       "3  https://www.shazam.com/track/338367689/you-are...   \n",
       "\n",
       "                                       applemusicurl  \\\n",
       "0  https://music.apple.com/gb/album/in-your-time/...   \n",
       "1  https://music.apple.com/gb/album/perhaps-love/...   \n",
       "2  https://music.apple.com/gb/album/the-first-sno...   \n",
       "3  https://music.apple.com/gb/album/you-are-so-be...   \n",
       "\n",
       "                                          name  \n",
       "0                    LEE SUHYUN - In Your Time  \n",
       "1                       HowL  J - Perhaps Love  \n",
       "2  Jung Joonil - The First Snow (Instrumental)  \n",
       "3              Eddy Kim - You Are So Beautiful  "
      ]
     },
     "execution_count": 65,
     "metadata": {},
     "output_type": "execute_result"
    }
   ],
   "source": [
    "read_frmt('shazam.csv')"
   ]
  },
  {
   "cell_type": "code",
   "execution_count": 64,
   "metadata": {},
   "outputs": [
    {
     "data": {
      "text/html": [
       "<div>\n",
       "<style scoped>\n",
       "    .dataframe tbody tr th:only-of-type {\n",
       "        vertical-align: middle;\n",
       "    }\n",
       "\n",
       "    .dataframe tbody tr th {\n",
       "        vertical-align: top;\n",
       "    }\n",
       "\n",
       "    .dataframe thead th {\n",
       "        text-align: right;\n",
       "    }\n",
       "</style>\n",
       "<table border=\"1\" class=\"dataframe\">\n",
       "  <thead>\n",
       "    <tr style=\"text-align: right;\">\n",
       "      <th></th>\n",
       "      <th>Unnamed: 0.4</th>\n",
       "      <th>Unnamed: 0.3</th>\n",
       "      <th>Unnamed: 0.2</th>\n",
       "      <th>Unnamed: 0.1</th>\n",
       "      <th>Unnamed: 0</th>\n",
       "      <th>timestamp</th>\n",
       "      <th>title</th>\n",
       "      <th>artist</th>\n",
       "      <th>isexplicit</th>\n",
       "      <th>lyricssnippet</th>\n",
       "      <th>lyricsnippetsynced</th>\n",
       "      <th>artwork</th>\n",
       "      <th>videourl</th>\n",
       "      <th>shazamurl</th>\n",
       "      <th>applemusicurl</th>\n",
       "      <th>name</th>\n",
       "    </tr>\n",
       "  </thead>\n",
       "  <tbody>\n",
       "    <tr>\n",
       "      <th>0</th>\n",
       "      <td>0</td>\n",
       "      <td>0.0</td>\n",
       "      <td>0.0</td>\n",
       "      <td>0.0</td>\n",
       "      <td>0.0</td>\n",
       "      <td>9 May 2024 at 17:12</td>\n",
       "      <td>In Your Time</td>\n",
       "      <td>LEE SUHYUN</td>\n",
       "      <td>No</td>\n",
       "      <td>차갑게 남겨진 이야기그때의 모든 게 난 선명해동화같은 시간 그 속에 난남겨짐만 그 ...</td>\n",
       "      <td>이렇게 다시 너를 만나지워버린 그때의 너를 찾아아팠던 시간 지나내가 널 붙잡아아직 ...</td>\n",
       "      <td>Image</td>\n",
       "      <td>NaN</td>\n",
       "      <td>https://www.shazam.com/track/529747941/in-your...</td>\n",
       "      <td>https://music.apple.com/gb/album/in-your-time/...</td>\n",
       "      <td>LEE SUHYUN - In Your Time</td>\n",
       "    </tr>\n",
       "    <tr>\n",
       "      <th>1</th>\n",
       "      <td>1</td>\n",
       "      <td>1.0</td>\n",
       "      <td>1.0</td>\n",
       "      <td>1.0</td>\n",
       "      <td>NaN</td>\n",
       "      <td>9 May 2024 at 17:39</td>\n",
       "      <td>Perhaps Love</td>\n",
       "      <td>HowL  J</td>\n",
       "      <td>No</td>\n",
       "      <td>언제였던 건지 기억나지 않아자꾸 내 머리가 너로 어지럽던 시절한두 번씩 떠오르던 생...</td>\n",
       "      <td>자꾸 내 머리가 너로 어지럽던 시절한두 번씩 떠오르던 생각자꾸 늘어가서 조금 당황스...</td>\n",
       "      <td>Image</td>\n",
       "      <td>NaN</td>\n",
       "      <td>https://www.shazam.com/track/44655269/perhaps-...</td>\n",
       "      <td>https://music.apple.com/gb/album/perhaps-love/...</td>\n",
       "      <td>HowL  J - Perhaps Love</td>\n",
       "    </tr>\n",
       "    <tr>\n",
       "      <th>2</th>\n",
       "      <td>2</td>\n",
       "      <td>2.0</td>\n",
       "      <td>NaN</td>\n",
       "      <td>NaN</td>\n",
       "      <td>NaN</td>\n",
       "      <td>10 May 2024 at 12:04</td>\n",
       "      <td>The First Snow (Instrumental)</td>\n",
       "      <td>Jung Joonil</td>\n",
       "      <td>No</td>\n",
       "      <td>NaN</td>\n",
       "      <td>NaN</td>\n",
       "      <td>Image</td>\n",
       "      <td>NaN</td>\n",
       "      <td>https://www.shazam.com/track/339059877/the-fir...</td>\n",
       "      <td>https://music.apple.com/gb/album/the-first-sno...</td>\n",
       "      <td>Jung Joonil - The First Snow (Instrumental)</td>\n",
       "    </tr>\n",
       "    <tr>\n",
       "      <th>3</th>\n",
       "      <td>3</td>\n",
       "      <td>NaN</td>\n",
       "      <td>NaN</td>\n",
       "      <td>NaN</td>\n",
       "      <td>NaN</td>\n",
       "      <td>10 May 2024 at 12:18</td>\n",
       "      <td>You Are So Beautiful</td>\n",
       "      <td>Eddy Kim</td>\n",
       "      <td>No</td>\n",
       "      <td>자꾸 물어보는 너늘 확인하고픈 너같은 말 해줘도매일 말해줘도왜 계속 물어입술이 말라...</td>\n",
       "      <td>정말 힌트도 없는지너 정말 이쁘다 이쁘다 이쁘다니까왜 내 말 믿지 않는 건데왜 말하...</td>\n",
       "      <td>Image</td>\n",
       "      <td>NaN</td>\n",
       "      <td>https://www.shazam.com/track/338367689/you-are...</td>\n",
       "      <td>https://music.apple.com/gb/album/you-are-so-be...</td>\n",
       "      <td>Eddy Kim - You Are So Beautiful</td>\n",
       "    </tr>\n",
       "  </tbody>\n",
       "</table>\n",
       "</div>"
      ],
      "text/plain": [
       "   Unnamed: 0.4  Unnamed: 0.3  Unnamed: 0.2  Unnamed: 0.1  Unnamed: 0  \\\n",
       "0             0           0.0           0.0           0.0         0.0   \n",
       "1             1           1.0           1.0           1.0         NaN   \n",
       "2             2           2.0           NaN           NaN         NaN   \n",
       "3             3           NaN           NaN           NaN         NaN   \n",
       "\n",
       "              timestamp                          title       artist  \\\n",
       "0   9 May 2024 at 17:12                   In Your Time   LEE SUHYUN   \n",
       "1   9 May 2024 at 17:39                   Perhaps Love      HowL  J   \n",
       "2  10 May 2024 at 12:04  The First Snow (Instrumental)  Jung Joonil   \n",
       "3  10 May 2024 at 12:18           You Are So Beautiful     Eddy Kim   \n",
       "\n",
       "  isexplicit                                      lyricssnippet  \\\n",
       "0         No  차갑게 남겨진 이야기그때의 모든 게 난 선명해동화같은 시간 그 속에 난남겨짐만 그 ...   \n",
       "1         No  언제였던 건지 기억나지 않아자꾸 내 머리가 너로 어지럽던 시절한두 번씩 떠오르던 생...   \n",
       "2         No                                                NaN   \n",
       "3         No  자꾸 물어보는 너늘 확인하고픈 너같은 말 해줘도매일 말해줘도왜 계속 물어입술이 말라...   \n",
       "\n",
       "                                  lyricsnippetsynced artwork  videourl  \\\n",
       "0  이렇게 다시 너를 만나지워버린 그때의 너를 찾아아팠던 시간 지나내가 널 붙잡아아직 ...   Image       NaN   \n",
       "1  자꾸 내 머리가 너로 어지럽던 시절한두 번씩 떠오르던 생각자꾸 늘어가서 조금 당황스...   Image       NaN   \n",
       "2                                                NaN   Image       NaN   \n",
       "3  정말 힌트도 없는지너 정말 이쁘다 이쁘다 이쁘다니까왜 내 말 믿지 않는 건데왜 말하...   Image       NaN   \n",
       "\n",
       "                                           shazamurl  \\\n",
       "0  https://www.shazam.com/track/529747941/in-your...   \n",
       "1  https://www.shazam.com/track/44655269/perhaps-...   \n",
       "2  https://www.shazam.com/track/339059877/the-fir...   \n",
       "3  https://www.shazam.com/track/338367689/you-are...   \n",
       "\n",
       "                                       applemusicurl  \\\n",
       "0  https://music.apple.com/gb/album/in-your-time/...   \n",
       "1  https://music.apple.com/gb/album/perhaps-love/...   \n",
       "2  https://music.apple.com/gb/album/the-first-sno...   \n",
       "3  https://music.apple.com/gb/album/you-are-so-be...   \n",
       "\n",
       "                                          name  \n",
       "0                    LEE SUHYUN - In Your Time  \n",
       "1                       HowL  J - Perhaps Love  \n",
       "2  Jung Joonil - The First Snow (Instrumental)  \n",
       "3              Eddy Kim - You Are So Beautiful  "
      ]
     },
     "execution_count": 64,
     "metadata": {},
     "output_type": "execute_result"
    }
   ],
   "source": [
    "df"
   ]
  },
  {
   "cell_type": "code",
   "execution_count": 15,
   "metadata": {},
   "outputs": [
    {
     "name": "stdout",
     "output_type": "stream",
     "text": [
      "File Type: text/csv\n"
     ]
    }
   ],
   "source": [
    "\n",
    "\n",
    "# Example usage:\n",
    "file_path = 'file.json'\n",
    "file_type = detect_file_type(file_path)\n",
    "print(\"File Type:\", file_type)"
   ]
  },
  {
   "cell_type": "code",
   "execution_count": 22,
   "metadata": {},
   "outputs": [
    {
     "data": {
      "text/plain": [
       "'text/csv'"
      ]
     },
     "execution_count": 22,
     "metadata": {},
     "output_type": "execute_result"
    }
   ],
   "source": [
    "file_type"
   ]
  },
  {
   "cell_type": "code",
   "execution_count": 39,
   "metadata": {},
   "outputs": [
    {
     "data": {
      "text/plain": [
       "True"
      ]
     },
     "execution_count": 39,
     "metadata": {},
     "output_type": "execute_result"
    }
   ],
   "source": [
    "rgx = '|'.join(map(lambda c: c.strip('.'), READ_FRMT.keys()))\n",
    "rgx = rf'({rgx})'\n",
    "\n",
    "len(re.findall(rgx, file_type)) > 0\n"
   ]
  },
  {
   "cell_type": "code",
   "execution_count": 20,
   "metadata": {},
   "outputs": [
    {
     "data": {
      "text/plain": [
       "'csv|xls|xlsx|json|html|sql|parquet|feather|h5|hdf|dta|sas7bdat'"
      ]
     },
     "execution_count": 20,
     "metadata": {},
     "output_type": "execute_result"
    }
   ],
   "source": [
    "rgx"
   ]
  },
  {
   "cell_type": "code",
   "execution_count": null,
   "metadata": {},
   "outputs": [],
   "source": []
  }
 ],
 "metadata": {
  "kernelspec": {
   "display_name": ".shazam",
   "language": "python",
   "name": "python3"
  },
  "language_info": {
   "codemirror_mode": {
    "name": "ipython",
    "version": 3
   },
   "file_extension": ".py",
   "mimetype": "text/x-python",
   "name": "python",
   "nbconvert_exporter": "python",
   "pygments_lexer": "ipython3",
   "version": "3.12.3"
  }
 },
 "nbformat": 4,
 "nbformat_minor": 2
}
