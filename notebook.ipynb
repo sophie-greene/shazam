{
 "cells": [
  {
   "cell_type": "markdown",
   "metadata": {},
   "source": [
    "# Store music metadata using apple shortcuts\n",
    "In this small project I was trying to store the metadata about the music that gets shazamed on my macOS\n",
    "I started by trying to find Shazam database file on my system but that proved to be quit tricky\n",
    "Note that I tried this on MacOs, it might be different in iOS device\n",
    "TODO: test on mobile device\n",
    "\n",
    "## Create a Shotcut\n",
    "the the shortcut app, click on the plus sign, a new shortcut will be creted\n",
    "<img src=\"imgs/shazam_create.png\" alt=\"create a new shortcut\" width=\"70%\" style=\"margin:5px;\"/>"
   ]
  },
  {
   "cell_type": "markdown",
   "metadata": {},
   "source": [
    "Now the important part, I don't think I will be successful in explaining this without a video, I recorded one and put it on you tube, https://youtu.be/EvFkGQIeeOk\n",
    "\n",
    "below is an attempt to make it work in this notebook, I am not sure if that will work reliably"
   ]
  },
  {
   "cell_type": "code",
   "execution_count": 1,
   "metadata": {},
   "outputs": [
    {
     "data": {
      "image/jpeg": "[encoded data removed]",
      "text/html": [
       "\n",
       "        <iframe\n",
       "            width=\"600\"\n",
       "            height=\"600\"\n",
       "            src=\"https://www.youtube.com/embed/EvFkGQIeeOk?autoplay=1\"\n",
       "            frameborder=\"0\"\n",
       "            allowfullscreen\n",
       "            \n",
       "        ></iframe>\n",
       "        "
      ],
      "text/plain": [
       "<IPython.lib.display.YouTubeVideo at 0x105a80a40>"
      ]
     },
     "execution_count": 1,
     "metadata": {},
     "output_type": "execute_result"
    }
   ],
   "source": [
    "from IPython.display import YouTubeVideo\n",
    "YouTubeVideo('EvFkGQIeeOk',autoplay=1, height=600, width=600)"
   ]
  },
  {
   "cell_type": "markdown",
   "metadata": {},
   "source": [
    "By the end of the above video a text file was generated  and stored at \"db/shazam.txt\", given that you had some music playing on your system. \n",
    "\n",
    "<img src=\"imgs/shazam.png\" alt=\"shows the text file created by the shotcut app\" width=\"80%\" style=\"margin:5px;\"/>\n"
   ]
  },
  {
   "cell_type": "markdown",
   "metadata": {},
   "source": [
    "\n",
    "Notice that a song was logged twice, this is because we set the wait element to 120 sec but the song is longer than that just go and change it in the shortcut or wait until you load the data to modify it as you wish.\n",
    "\n",
    "This works even when you have your headphones on, given that you have the [Greatdy Computer Audio](http://www.greatdy.com/mac-os-x/screen-record-studio) which is the equivalent of the windows stereo mix. \n",
    "\n",
    "\n",
    "PLEASE NOTE: I am in no way encouraging to download Greatdy, I use it myself but I can't guarantee its fully OK to use"
   ]
  },
  {
   "cell_type": "markdown",
   "metadata": {},
   "source": [
    "\n",
    "also note that in the video I stored only title, Artist and Name to keep the video short, here is the actual one I am using on my machine\n",
    "\n",
    "<img src=\"imgs/shortcut.png\" alt=\"shows the text file created by the shotcut app\" width=\"80%\" style=\"margin:5px;\"/>\n",
    "\n"
   ]
  },
  {
   "cell_type": "markdown",
   "metadata": {},
   "source": [
    "## read the data"
   ]
  },
  {
   "cell_type": "code",
   "execution_count": 2,
   "metadata": {},
   "outputs": [],
   "source": [
    "import re\n",
    "import pandas as pd"
   ]
  },
  {
   "cell_type": "code",
   "execution_count": 10,
   "metadata": {},
   "outputs": [
    {
     "name": "stdout",
     "output_type": "stream",
     "text": [
      "<class 'pandas.core.frame.DataFrame'>\n",
      "RangeIndex: 3 entries, 0 to 2\n",
      "Data columns (total 10 columns):\n",
      " #   Column                Non-Null Count  Dtype \n",
      "---  ------                --------------  ----- \n",
      " 0   TimeStamp             3 non-null      object\n",
      " 1   Title                 3 non-null      object\n",
      " 2   Artist                3 non-null      object\n",
      " 3   Lyrics Snippets       3 non-null      object\n",
      " 4   Lyric Snippet Synced  3 non-null      object\n",
      " 5   Artwork               3 non-null      object\n",
      " 6   Video URL             3 non-null      object\n",
      " 7   Shazem URL            3 non-null      object\n",
      " 8   Apple Music URL       3 non-null      object\n",
      " 9   Name                  3 non-null      object\n",
      "dtypes: object(10)\n",
      "memory usage: 372.0+ bytes\n"
     ]
    }
   ],
   "source": [
    "fn = 'shazam.txt'\n",
    "def get_data(fn):\n",
    "    with open(fn, \"r\") as f:\n",
    "        data = f.read()\n",
    "    rows = re.findall(r\"\\{.*?\\}\", data, re.MULTILINE | re.DOTALL)\n",
    "    lst= []\n",
    "    for r in rows:\n",
    "        keys = re.findall(r\"\\n\\\"([A-Za-z ]+?)\\\"\\:\", r, re.DOTALL | re.MULTILINE)\n",
    "        dct = {}\n",
    "        for k in keys:\n",
    "            dct[k] = re.findall(rf'\"{k}\"\\: \\\"(.*?)\\\",?', r, re.MULTILINE | re.DOTALL)[0]\n",
    "        lst.append(dct)\n",
    "    return pd.DataFrame(lst)\n",
    "df =  get_data(fn)\n",
    "df.info()"
   ]
  },
  {
   "cell_type": "markdown",
   "metadata": {},
   "source": [
    "<ol>\n",
    "  <li>\n",
    "    <p><strong>Read File and Extract Data</strong>:</p>\n",
    "    <pre>\n",
    "with open(fn, \"r\") as f:\n",
    "    data = f.read()\n",
    "    </pre>\n",
    "    <ul>\n",
    "      <li>\n",
    "        This code opens the file specified by <code>fn</code> in read mode\n",
    "        (<code>\"r\"</code>) and reads its contents into the variable\n",
    "        <code>data</code>.\n",
    "      </li>\n",
    "    </ul>\n",
    "  </li>\n",
    "  <li>\n",
    "    <p><strong>Extract Rows</strong>:</p>\n",
    "    <pre>\n",
    "rows = re.findall(r\"\\{.*?\\}\", data, re.MULTILINE | re.DOTALL)\n",
    "    </pre>\n",
    "    <ul>\n",
    "      <li>\n",
    "        Using regular expressions (<code>re</code>), this line searches for all\n",
    "        substrings within <code>data</code> that start with <code>{</code> and\n",
    "        end with <code>}</code>, capturing everything in between. These\n",
    "        substrings represent individual rows of data.\n",
    "      </li>\n",
    "    </ul>\n",
    "  </li>\n",
    "  <li>\n",
    "    <p><strong>Extract Keys and Values</strong>:</p>\n",
    "    <pre>\n",
    "lst= []\n",
    "for r in rows:\n",
    "    keys = re.findall(r\"\\n\\\"([A-Za-z ]+?)\\\"\\:\", r, re.DOTALL | re.MULTILINE)\n",
    "    dct = {}\n",
    "    for k in keys:\n",
    "        dct[k] = re.findall(rf'\"{k}\"\\: \\\"(.*?)\\\",?', r, re.MULTILINE | re.DOTALL)[0]\n",
    "    lst.append(dct)\n",
    "    </pre>\n",
    "    <ul>\n",
    "      <li>\n",
    "        For each row (<code>r</code>) extracted in the previous step, this code\n",
    "        extracts keys and values from the row. It uses regular expressions to\n",
    "        find all key-value pairs within each row.\n",
    "      </li>\n",
    "      <li>\n",
    "        The outer loop iterates over each row, while the inner loop iterates\n",
    "        over each key found in the row. For each key, it extracts its\n",
    "        corresponding value using another regular expression.\n",
    "      </li>\n",
    "      <li>\n",
    "        It then constructs a dictionary <code>dct</code> where the keys are the\n",
    "        extracted keys and the values are the corresponding values.\n",
    "      </li>\n",
    "      <li>Finally, it appends this dictionary to a list <code>lst</code>.</li>\n",
    "    </ul>\n",
    "  </li>\n",
    "  <li>\n",
    "    <p><strong>Create DataFrame</strong>:</p>\n",
    "    <pre>\n",
    "return pd.DataFrame(lst)\n",
    "    </pre>\n",
    "    <ul>\n",
    "      <li>\n",
    "        This line converts the list of dictionaries (<code>lst</code>) into a\n",
    "        pandas DataFrame using <code>pd.DataFrame()</code>. Each dictionary in\n",
    "        the list represents a row of data, and pandas constructs a DataFrame\n",
    "        where each key becomes a column.\n",
    "      </li>\n",
    "    </ul>\n",
    "  </li>\n",
    "  <li>\n",
    "    <p>\n",
    "      <strong>Call <code>get_data</code> Function and Display DataFrame</strong>\n",
    "    </p>\n",
    "    <pre>\n",
    "df = get_data(fn)\n",
    "df.head()\n",
    "    </pre>\n",
    "    <ul>\n",
    "      <li>\n",
    "        This code calls the <code>get_data</code> function with the filename\n",
    "        <code>fn</code> and assigns the returned DataFrame to the variable\n",
    "        <code>df</code>.\n",
    "      </li>\n",
    "      <li>\n",
    "        It then uses <code>df.head()</code> to display the first few rows of the\n",
    "        DataFrame.\n",
    "      </li>\n",
    "    </ul>\n",
    "  </li>\n",
    "</ol>\n",
    "<p>\n",
    "  In summary, this code reads data from a file, extracts rows of data using\n",
    "  regular expressions, parses each row to extract keys and values, and then\n",
    "  constructs a pandas DataFrame from the extracted data.\n",
    "</p>\n"
   ]
  },
  {
   "cell_type": "code",
   "execution_count": null,
   "metadata": {},
   "outputs": [],
   "source": [
    "df.info()"
   ]
  },
  {
   "cell_type": "code",
   "execution_count": null,
   "metadata": {},
   "outputs": [],
   "source": [
    "#remove duplicates\n",
    "subset = ['Artist', 'Title', 'Name']\n",
    "print(subset)\n",
    "df.drop_duplicates(subset=subset,inplace=True)\n",
    "df.info()"
   ]
  },
  {
   "cell_type": "markdown",
   "metadata": {},
   "source": [
    "looks like 2 minutes is too low"
   ]
  },
  {
   "cell_type": "code",
   "execution_count": null,
   "metadata": {},
   "outputs": [],
   "source": [
    "first_row = df.iloc[0]\n",
    "first_row"
   ]
  },
  {
   "cell_type": "code",
   "execution_count": null,
   "metadata": {},
   "outputs": [],
   "source": [
    "# !pip install lyricgenius\n",
    "import lyricsgenius\n",
    "# Initialize Genius API client\n",
    "genius = lyricsgenius.Genius(\"YOUR_ACCESS_TOKEN\")\n",
    "\n",
    "# Search for a song\n",
    "song = genius.search_song(first_row['Title'], first_row[\"Artist\"])\n",
    "\n",
    "# Print the lyrics\n",
    "print(song.lyrics)"
   ]
  },
  {
   "cell_type": "code",
   "execution_count": null,
   "metadata": {},
   "outputs": [],
   "source": [
    "import requests\n",
    "import re\n",
    "import pandas as pd\n",
    "fn = 'https://raw.githubusercontent.com/sophie-greene/shazam/main/shazam.txt'\n",
    "def get_data(fn):\n",
    "    data = requests.get(fn).text\n",
    "    rows = re.findall(r\"\\{.*?\\}\", data, re.MULTILINE | re.DOTALL)\n",
    "    lst= []\n",
    "    for r in rows:\n",
    "        keys = re.findall(r\"\\n\\\"([A-Za-z ]+?)\\\"\\:\", r, re.DOTALL | re.MULTILINE)\n",
    "        dct = {}\n",
    "        for k in keys:\n",
    "            dct[k] = re.findall(rf'\"{k}\"\\: \\\"(.*?)\\\",?', r, re.MULTILINE | re.DOTALL)[0]\n",
    "        lst.append(dct)\n",
    "    return pd.DataFrame(lst)\n",
    "df =  get_data(fn)\n",
    "df.info()"
   ]
  },
  {
   "cell_type": "code",
   "execution_count": null,
   "metadata": {},
   "outputs": [],
   "source": [
    "df.tail()"
   ]
  },
  {
   "cell_type": "code",
   "execution_count": null,
   "metadata": {},
   "outputs": [],
   "source": []
  }
 ],
 "metadata": {
  "kernelspec": {
   "display_name": "Python 3",
   "language": "python",
   "name": "python3"
  },
  "language_info": {
   "codemirror_mode": {
    "name": "ipython",
    "version": 3
   },
   "file_extension": ".py",
   "mimetype": "text/x-python",
   "name": "python",
   "nbconvert_exporter": "python",
   "pygments_lexer": "ipython3",
   "version": "3.12.3"
  }
 },
 "nbformat": 4,
 "nbformat_minor": 2
}
