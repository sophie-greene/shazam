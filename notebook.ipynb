{
 "cells": [
  {
   "cell_type": "markdown",
   "metadata": {},
   "source": [
    "# Store music metadata using apple shortcuts\n",
    "In this small project I was trying to store the metadata about the music that gets shazamed on my macOS\n",
    "I started by trying to find Shazam database file on my system but that proved to be quit tricky\n",
    "Note that I tried this on MacOs, it might be different in iOS device\n",
    "TODO: test on mobile device\n",
    "\n",
    "## Create a Shotcut\n",
    "the the shortcut app, click on the plus sign, a new shortcut will be creted\n",
    "<img src=\"imgs/shazam_create.png\" alt=\"create a new shortcut\" width=\"70%\" style=\"margin:5px;\"/>"
   ]
  },
  {
   "cell_type": "markdown",
   "metadata": {},
   "source": [
    "Now the important part, I don't think I will be successful in explaining this without a video, I recorded one and put it on you tube, https://youtu.be/EvFkGQIeeOk\n",
    "\n",
    "below is an attempt to make it work in this notebook, I am not sure if that will work reliably"
   ]
  },
  {
   "cell_type": "code",
   "execution_count": 1,
   "metadata": {},
   "outputs": [
    {
     "data": {
      "image/jpeg": "[encoded data removed]",
      "text/html": [
       "\n",
       "        <iframe\n",
       "            width=\"600\"\n",
       "            height=\"600\"\n",
       "            src=\"https://www.youtube.com/embed/EvFkGQIeeOk?autoplay=1\"\n",
       "            frameborder=\"0\"\n",
       "            allowfullscreen\n",
       "            \n",
       "        ></iframe>\n",
       "        "
      ],
      "text/plain": [
       "<IPython.lib.display.YouTubeVideo at 0x106ed04d0>"
      ]
     },
     "execution_count": 1,
     "metadata": {},
     "output_type": "execute_result"
    }
   ],
   "source": [
    "from IPython.display import YouTubeVideo\n",
    "YouTubeVideo('EvFkGQIeeOk',autoplay=1, height=600, width=600)"
   ]
  },
  {
   "cell_type": "markdown",
   "metadata": {},
   "source": [
    "By the end of the above video a text file was generated  and stored at \"db/shazam.txt\", given that you had some music playing on your system. \n",
    "\n",
    "<img src=\"imgs/shazam.png\" alt=\"shows the text file created by the shotcut app\" width=\"80%\" style=\"margin:5px;\"/>\n"
   ]
  },
  {
   "cell_type": "markdown",
   "metadata": {},
   "source": [
    "\n",
    "Notice that a song was logged twice, this is because we set the wait element to 120 sec but the song is longer than that just go and change it in the shortcut or wait until you load the data to modify it as you wish.\n",
    "\n",
    "This works even when you have your headphones on, given that you have the [Greatdy Computer Audio](http://www.greatdy.com/mac-os-x/screen-record-studio) which is the equivalent of the windows stereo mix. \n",
    "\n",
    "\n",
    "PLEASE NOTE: I am in no way encouraging to download Greatdy, I use it myself but I can't guarantee its fully OK to use"
   ]
  },
  {
   "cell_type": "markdown",
   "metadata": {},
   "source": [
    "\n",
    "also note that in the video I stored only title, Artist and Name to keep the video short, here is the actual one I am using on my machine\n",
    "\n",
    "<img src=\"imgs/shortcut.png\" alt=\"shows the text file created by the shotcut app\" width=\"80%\" style=\"margin:5px;\"/>\n",
    "\n"
   ]
  },
  {
   "cell_type": "markdown",
   "metadata": {},
   "source": [
    "## read the data"
   ]
  },
  {
   "cell_type": "code",
   "execution_count": 2,
   "metadata": {},
   "outputs": [],
   "source": [
    "import re\n",
    "import pandas as pd"
   ]
  },
  {
   "cell_type": "code",
   "execution_count": 3,
   "metadata": {},
   "outputs": [
    {
     "name": "stdout",
     "output_type": "stream",
     "text": [
      "<class 'pandas.core.frame.DataFrame'>\n",
      "RangeIndex: 92 entries, 0 to 91\n",
      "Data columns (total 10 columns):\n",
      " #   Column                Non-Null Count  Dtype \n",
      "---  ------                --------------  ----- \n",
      " 0   TimeStamp             92 non-null     object\n",
      " 1   Title                 92 non-null     object\n",
      " 2   Artist                92 non-null     object\n",
      " 3   Lyrics Snippets       92 non-null     object\n",
      " 4   Lyric Snippet Synced  92 non-null     object\n",
      " 5   Artwork               92 non-null     object\n",
      " 6   Video URL             92 non-null     object\n",
      " 7   Shazem URL            92 non-null     object\n",
      " 8   Apple Music URL       92 non-null     object\n",
      " 9   Name                  92 non-null     object\n",
      "dtypes: object(10)\n",
      "memory usage: 7.3+ KB\n"
     ]
    }
   ],
   "source": [
    "fn = 'shazam.txt'\n",
    "def get_data(fn):\n",
    "    with open(fn, \"r\") as f:\n",
    "        data = f.read()\n",
    "    rows = re.findall(r\"\\{.*?\\}\", data, re.MULTILINE | re.DOTALL)\n",
    "    lst= []\n",
    "    for r in rows:\n",
    "        keys = re.findall(r\"\\n\\\"([A-Za-z ]+?)\\\"\\:\", r, re.DOTALL | re.MULTILINE)\n",
    "        dct = {}\n",
    "        for k in keys:\n",
    "            dct[k] = re.findall(rf'\"{k}\"\\: \\\"(.*?)\\\",?', r, re.MULTILINE | re.DOTALL)[0]\n",
    "        lst.append(dct)\n",
    "    return pd.DataFrame(lst)\n",
    "df =  get_data(fn)\n",
    "df.info()"
   ]
  },
  {
   "cell_type": "code",
   "execution_count": 4,
   "metadata": {},
   "outputs": [
    {
     "data": {
      "text/html": [
       "<div>\n",
       "<style scoped>\n",
       "    .dataframe tbody tr th:only-of-type {\n",
       "        vertical-align: middle;\n",
       "    }\n",
       "\n",
       "    .dataframe tbody tr th {\n",
       "        vertical-align: top;\n",
       "    }\n",
       "\n",
       "    .dataframe thead th {\n",
       "        text-align: right;\n",
       "    }\n",
       "</style>\n",
       "<table border=\"1\" class=\"dataframe\">\n",
       "  <thead>\n",
       "    <tr style=\"text-align: right;\">\n",
       "      <th></th>\n",
       "      <th>TimeStamp</th>\n",
       "      <th>Title</th>\n",
       "      <th>Artist</th>\n",
       "      <th>Lyrics Snippets</th>\n",
       "      <th>Lyric Snippet Synced</th>\n",
       "      <th>Artwork</th>\n",
       "      <th>Video URL</th>\n",
       "      <th>Shazem URL</th>\n",
       "      <th>Apple Music URL</th>\n",
       "      <th>Name</th>\n",
       "    </tr>\n",
       "  </thead>\n",
       "  <tbody>\n",
       "    <tr>\n",
       "      <th>0</th>\n",
       "      <td>8 May 2024 at 01:11</td>\n",
       "      <td>Live and Learn</td>\n",
       "      <td>The Cardigans</td>\n",
       "      <td>I came home in the morning\\nAnd everything was...</td>\n",
       "      <td>Well, you get what you give\\nAnd hell, yes, I ...</td>\n",
       "      <td>Image</td>\n",
       "      <td>https://music.apple.com/gb/music-video/live-an...</td>\n",
       "      <td>https://www.shazam.com/track/11241484/live-and...</td>\n",
       "      <td>https://music.apple.com/gb/album/live-and-lear...</td>\n",
       "      <td>The Cardigans - Live and Learn</td>\n",
       "    </tr>\n",
       "    <tr>\n",
       "      <th>1</th>\n",
       "      <td>8 May 2024 at 01:13</td>\n",
       "      <td>Sunshine (Wookie Main Mix)</td>\n",
       "      <td>Gabrielle</td>\n",
       "      <td>Made a wish I can dream\\nI can be what I want ...</td>\n",
       "      <td>I can be what I want to be\\nNot afraid to live...</td>\n",
       "      <td>Image</td>\n",
       "      <td></td>\n",
       "      <td>https://www.shazam.com/track/221976/sunshine-w...</td>\n",
       "      <td>https://music.apple.com/gb/album/sunshine-wook...</td>\n",
       "      <td>Gabrielle - Sunshine (Wookie Main Mix)</td>\n",
       "    </tr>\n",
       "    <tr>\n",
       "      <th>2</th>\n",
       "      <td>8 May 2024 at 01:15</td>\n",
       "      <td>You Have to Hurt</td>\n",
       "      <td>Carly Simon</td>\n",
       "      <td>(Frank Musker, Dominic King)\\n'I'm in love wit...</td>\n",
       "      <td>(Frank Musker, Dominic King)\\n'I'm in love wit...</td>\n",
       "      <td>Image</td>\n",
       "      <td></td>\n",
       "      <td>https://www.shazam.com/track/389433/you-have-t...</td>\n",
       "      <td>https://music.apple.com/gb/album/you-have-to-h...</td>\n",
       "      <td>Carly Simon - You Have to Hurt</td>\n",
       "    </tr>\n",
       "    <tr>\n",
       "      <th>3</th>\n",
       "      <td>8 May 2024 at 01:17</td>\n",
       "      <td>That Ole Devil Called Love</td>\n",
       "      <td>Alison Moyet</td>\n",
       "      <td>It's that ole devil called love again\\nGets be...</td>\n",
       "      <td>It's that ole devil called love again\\nGets be...</td>\n",
       "      <td>Image</td>\n",
       "      <td></td>\n",
       "      <td>https://www.shazam.com/track/5175007/that-ole-...</td>\n",
       "      <td>https://music.apple.com/gb/album/that-ole-devi...</td>\n",
       "      <td>Alison Moyet - That Ole Devil Called Love</td>\n",
       "    </tr>\n",
       "    <tr>\n",
       "      <th>4</th>\n",
       "      <td>8 May 2024 at 01:19</td>\n",
       "      <td>That Ole Devil Called Love</td>\n",
       "      <td>Alison Moyet</td>\n",
       "      <td>It's that ole devil called love again\\nGets be...</td>\n",
       "      <td>With that ole devil called love\\nHe'd follow m...</td>\n",
       "      <td>Image</td>\n",
       "      <td></td>\n",
       "      <td>https://www.shazam.com/track/5175007/that-ole-...</td>\n",
       "      <td>https://music.apple.com/gb/album/that-ole-devi...</td>\n",
       "      <td>Alison Moyet - That Ole Devil Called Love</td>\n",
       "    </tr>\n",
       "  </tbody>\n",
       "</table>\n",
       "</div>"
      ],
      "text/plain": [
       "             TimeStamp                       Title         Artist  \\\n",
       "0  8 May 2024 at 01:11              Live and Learn  The Cardigans   \n",
       "1  8 May 2024 at 01:13  Sunshine (Wookie Main Mix)      Gabrielle   \n",
       "2  8 May 2024 at 01:15            You Have to Hurt    Carly Simon   \n",
       "3  8 May 2024 at 01:17  That Ole Devil Called Love   Alison Moyet   \n",
       "4  8 May 2024 at 01:19  That Ole Devil Called Love   Alison Moyet   \n",
       "\n",
       "                                     Lyrics Snippets  \\\n",
       "0  I came home in the morning\\nAnd everything was...   \n",
       "1  Made a wish I can dream\\nI can be what I want ...   \n",
       "2  (Frank Musker, Dominic King)\\n'I'm in love wit...   \n",
       "3  It's that ole devil called love again\\nGets be...   \n",
       "4  It's that ole devil called love again\\nGets be...   \n",
       "\n",
       "                                Lyric Snippet Synced Artwork  \\\n",
       "0  Well, you get what you give\\nAnd hell, yes, I ...   Image   \n",
       "1  I can be what I want to be\\nNot afraid to live...   Image   \n",
       "2  (Frank Musker, Dominic King)\\n'I'm in love wit...   Image   \n",
       "3  It's that ole devil called love again\\nGets be...   Image   \n",
       "4  With that ole devil called love\\nHe'd follow m...   Image   \n",
       "\n",
       "                                           Video URL  \\\n",
       "0  https://music.apple.com/gb/music-video/live-an...   \n",
       "1                                                      \n",
       "2                                                      \n",
       "3                                                      \n",
       "4                                                      \n",
       "\n",
       "                                          Shazem URL  \\\n",
       "0  https://www.shazam.com/track/11241484/live-and...   \n",
       "1  https://www.shazam.com/track/221976/sunshine-w...   \n",
       "2  https://www.shazam.com/track/389433/you-have-t...   \n",
       "3  https://www.shazam.com/track/5175007/that-ole-...   \n",
       "4  https://www.shazam.com/track/5175007/that-ole-...   \n",
       "\n",
       "                                     Apple Music URL  \\\n",
       "0  https://music.apple.com/gb/album/live-and-lear...   \n",
       "1  https://music.apple.com/gb/album/sunshine-wook...   \n",
       "2  https://music.apple.com/gb/album/you-have-to-h...   \n",
       "3  https://music.apple.com/gb/album/that-ole-devi...   \n",
       "4  https://music.apple.com/gb/album/that-ole-devi...   \n",
       "\n",
       "                                        Name  \n",
       "0             The Cardigans - Live and Learn  \n",
       "1     Gabrielle - Sunshine (Wookie Main Mix)  \n",
       "2             Carly Simon - You Have to Hurt  \n",
       "3  Alison Moyet - That Ole Devil Called Love  \n",
       "4  Alison Moyet - That Ole Devil Called Love  "
      ]
     },
     "execution_count": 4,
     "metadata": {},
     "output_type": "execute_result"
    }
   ],
   "source": [
    "df.head()"
   ]
  },
  {
   "cell_type": "markdown",
   "metadata": {},
   "source": [
    "<ol>\n",
    "  <li>\n",
    "    <p><strong>Read File and Extract Data</strong>:</p>\n",
    "    <pre>\n",
    "with open(fn, \"r\") as f:\n",
    "    data = f.read()\n",
    "    </pre>\n",
    "    <ul>\n",
    "      <li>\n",
    "        This code opens the file specified by <code>fn</code> in read mode\n",
    "        (<code>\"r\"</code>) and reads its contents into the variable\n",
    "        <code>data</code>.\n",
    "      </li>\n",
    "    </ul>\n",
    "  </li>\n",
    "  <li>\n",
    "    <p><strong>Extract Rows</strong>:</p>\n",
    "    <pre>\n",
    "rows = re.findall(r\"\\{.*?\\}\", data, re.MULTILINE | re.DOTALL)\n",
    "    </pre>\n",
    "    <ul>\n",
    "      <li>\n",
    "        Using regular expressions (<code>re</code>), this line searches for all\n",
    "        substrings within <code>data</code> that start with <code>{</code> and\n",
    "        end with <code>}</code>, capturing everything in between. These\n",
    "        substrings represent individual rows of data.\n",
    "      </li>\n",
    "    </ul>\n",
    "  </li>\n",
    "  <li>\n",
    "    <p><strong>Extract Keys and Values</strong>:</p>\n",
    "    <pre>\n",
    "lst= []\n",
    "for r in rows:\n",
    "    keys = re.findall(r\"\\n\\\"([A-Za-z ]+?)\\\"\\:\", r, re.DOTALL | re.MULTILINE)\n",
    "    dct = {}\n",
    "    for k in keys:\n",
    "        dct[k] = re.findall(rf'\"{k}\"\\: \\\"(.*?)\\\",?', r, re.MULTILINE | re.DOTALL)[0]\n",
    "    lst.append(dct)\n",
    "    </pre>\n",
    "    <ul>\n",
    "      <li>\n",
    "        For each row (<code>r</code>) extracted in the previous step, this code\n",
    "        extracts keys and values from the row. It uses regular expressions to\n",
    "        find all key-value pairs within each row.\n",
    "      </li>\n",
    "      <li>\n",
    "        The outer loop iterates over each row, while the inner loop iterates\n",
    "        over each key found in the row. For each key, it extracts its\n",
    "        corresponding value using another regular expression.\n",
    "      </li>\n",
    "      <li>\n",
    "        It then constructs a dictionary <code>dct</code> where the keys are the\n",
    "        extracted keys and the values are the corresponding values.\n",
    "      </li>\n",
    "      <li>Finally, it appends this dictionary to a list <code>lst</code>.</li>\n",
    "    </ul>\n",
    "  </li>\n",
    "  <li>\n",
    "    <p><strong>Create DataFrame</strong>:</p>\n",
    "    <pre>\n",
    "return pd.DataFrame(lst)\n",
    "    </pre>\n",
    "    <ul>\n",
    "      <li>\n",
    "        This line converts the list of dictionaries (<code>lst</code>) into a\n",
    "        pandas DataFrame using <code>pd.DataFrame()</code>. Each dictionary in\n",
    "        the list represents a row of data, and pandas constructs a DataFrame\n",
    "        where each key becomes a column.\n",
    "      </li>\n",
    "    </ul>\n",
    "  </li>\n",
    "  <li>\n",
    "    <p>\n",
    "      <strong>Call <code>get_data</code> Function and Display DataFrame</strong>\n",
    "    </p>\n",
    "    <pre>\n",
    "df = get_data(fn)\n",
    "df.head()\n",
    "    </pre>\n",
    "    <ul>\n",
    "      <li>\n",
    "        This code calls the <code>get_data</code> function with the filename\n",
    "        <code>fn</code> and assigns the returned DataFrame to the variable\n",
    "        <code>df</code>.\n",
    "      </li>\n",
    "      <li>\n",
    "        It then uses <code>df.head()</code> to display the first few rows of the\n",
    "        DataFrame.\n",
    "      </li>\n",
    "    </ul>\n",
    "  </li>\n",
    "</ol>\n",
    "<p>\n",
    "  In summary, this code reads data from a file, extracts rows of data using\n",
    "  regular expressions, parses each row to extract keys and values, and then\n",
    "  constructs a pandas DataFrame from the extracted data.\n",
    "</p>\n"
   ]
  },
  {
   "cell_type": "code",
   "execution_count": 5,
   "metadata": {},
   "outputs": [
    {
     "name": "stdout",
     "output_type": "stream",
     "text": [
      "<class 'pandas.core.frame.DataFrame'>\n",
      "RangeIndex: 92 entries, 0 to 91\n",
      "Data columns (total 10 columns):\n",
      " #   Column                Non-Null Count  Dtype \n",
      "---  ------                --------------  ----- \n",
      " 0   TimeStamp             92 non-null     object\n",
      " 1   Title                 92 non-null     object\n",
      " 2   Artist                92 non-null     object\n",
      " 3   Lyrics Snippets       92 non-null     object\n",
      " 4   Lyric Snippet Synced  92 non-null     object\n",
      " 5   Artwork               92 non-null     object\n",
      " 6   Video URL             92 non-null     object\n",
      " 7   Shazem URL            92 non-null     object\n",
      " 8   Apple Music URL       92 non-null     object\n",
      " 9   Name                  92 non-null     object\n",
      "dtypes: object(10)\n",
      "memory usage: 7.3+ KB\n"
     ]
    }
   ],
   "source": [
    "df.info()"
   ]
  },
  {
   "cell_type": "code",
   "execution_count": 6,
   "metadata": {},
   "outputs": [
    {
     "name": "stdout",
     "output_type": "stream",
     "text": [
      "['Artist', 'Title', 'Name']\n",
      "<class 'pandas.core.frame.DataFrame'>\n",
      "Index: 52 entries, 0 to 89\n",
      "Data columns (total 10 columns):\n",
      " #   Column                Non-Null Count  Dtype \n",
      "---  ------                --------------  ----- \n",
      " 0   TimeStamp             52 non-null     object\n",
      " 1   Title                 52 non-null     object\n",
      " 2   Artist                52 non-null     object\n",
      " 3   Lyrics Snippets       52 non-null     object\n",
      " 4   Lyric Snippet Synced  52 non-null     object\n",
      " 5   Artwork               52 non-null     object\n",
      " 6   Video URL             52 non-null     object\n",
      " 7   Shazem URL            52 non-null     object\n",
      " 8   Apple Music URL       52 non-null     object\n",
      " 9   Name                  52 non-null     object\n",
      "dtypes: object(10)\n",
      "memory usage: 4.5+ KB\n"
     ]
    }
   ],
   "source": [
    "#remove duplicates\n",
    "subset = ['Artist', 'Title', 'Name']\n",
    "print(subset)\n",
    "df.drop_duplicates(subset=subset,inplace=True)\n",
    "df.info()"
   ]
  },
  {
   "cell_type": "markdown",
   "metadata": {},
   "source": [
    "looks like 2 minutes is too low"
   ]
  },
  {
   "cell_type": "code",
   "execution_count": 7,
   "metadata": {},
   "outputs": [
    {
     "data": {
      "text/plain": [
       "TimeStamp                                             8 May 2024 at 01:11\n",
       "Title                                                      Live and Learn\n",
       "Artist                                                      The Cardigans\n",
       "Lyrics Snippets         I came home in the morning\\nAnd everything was...\n",
       "Lyric Snippet Synced    Well, you get what you give\\nAnd hell, yes, I ...\n",
       "Artwork                                                             Image\n",
       "Video URL               https://music.apple.com/gb/music-video/live-an...\n",
       "Shazem URL              https://www.shazam.com/track/11241484/live-and...\n",
       "Apple Music URL         https://music.apple.com/gb/album/live-and-lear...\n",
       "Name                                       The Cardigans - Live and Learn\n",
       "Name: 0, dtype: object"
      ]
     },
     "execution_count": 7,
     "metadata": {},
     "output_type": "execute_result"
    }
   ],
   "source": [
    "first_row = df.iloc[0]\n",
    "first_row"
   ]
  },
  {
   "cell_type": "code",
   "execution_count": 8,
   "metadata": {},
   "outputs": [
    {
     "name": "stdout",
     "output_type": "stream",
     "text": [
      "Searching for \"Live and Learn\" by The Cardigans...\n",
      "Done.\n",
      "8 ContributorsLive and Learn Lyrics[Verse 1]\n",
      "I came home in the morning and everything was gone\n",
      "Oh, what have I done?\n",
      "I dropped dead in the hallway\n",
      "Cursing the dawn\n",
      "Oh come on, sun, why must I burn?\n",
      "I'm just trying to learn\n",
      "\n",
      "[Verse 2]\n",
      "I stared into the light to kill some of my pain\n",
      "It was all in vain, 'cause no senses remained\n",
      "But an ache in my body\n",
      "And regret on my mind\n",
      "But I'll be fine\n",
      "\n",
      "[Chorus 1]\n",
      "'Cause I live and I learn\n",
      "Yes, I live and I learn\n",
      "If you live, you will learn\n",
      "And I live and I learn\n",
      "\n",
      "[Verse 3]\n",
      "Got kicked in the head\n",
      "So I started a fight\n",
      "'Cause I knew I was right\n",
      "But I learned I was wrong\n",
      "I remember a slaughter\n",
      "I remember I fought for the money I'd brought\n",
      "See The Cardigans LiveGet tickets as low as $160You might also like[Chorus 2]\n",
      "I got blistered and burned\n",
      "And lost what I'd earned\n",
      "But I lived and I learned\n",
      "Yes, I lived and I learned\n",
      "\n",
      "[Bridge]\n",
      "I got, I got it now\n",
      "I got, I got it now\n",
      "(She’s got, she’s got it now)\n",
      "I got, I got it now\n",
      "(She’s got it now)\n",
      "I got, I got it now\n",
      "(She’s got, she’s got it now)\n",
      "\n",
      "[Verse 4]\n",
      "I came to on a corner\n",
      "With some help from a man\n",
      "And goddamn, I don’t seem to have learned\n",
      "That a lady in need is guilty indeed\n",
      "So I paid and got laid in return\n",
      "And I don't know what I've learned\n",
      "\n",
      "[Chorus 3]\n",
      "Well, you get what you give\n",
      "And hell yes, I lived\n",
      "But if you live as you learn\n",
      "I don't think I can learn\n",
      "[Post-Chorus]\n",
      "Oh, with the sun in my eyes\n",
      "Surprise, I'm living a life\n",
      "But I don’t seem to learn\n",
      "No, I don't think I can learn2Embed\n"
     ]
    }
   ],
   "source": [
    "# !pip install lyricgenius\n",
    "import lyricsgenius\n",
    "# Initialize Genius API client\n",
    "genius = lyricsgenius.Genius(\"YOUR_ACCESS_TOKEN\")\n",
    "\n",
    "# Search for a song\n",
    "song = genius.search_song(first_row['Title'], first_row[\"Artist\"])\n",
    "\n",
    "# Print the lyrics\n",
    "print(song.lyrics)"
   ]
  },
  {
   "cell_type": "code",
   "execution_count": 9,
   "metadata": {},
   "outputs": [
    {
     "name": "stdout",
     "output_type": "stream",
     "text": [
      "<class 'pandas.core.frame.DataFrame'>\n",
      "RangeIndex: 94 entries, 0 to 93\n",
      "Data columns (total 10 columns):\n",
      " #   Column                Non-Null Count  Dtype \n",
      "---  ------                --------------  ----- \n",
      " 0   TimeStamp             94 non-null     object\n",
      " 1   Title                 94 non-null     object\n",
      " 2   Artist                94 non-null     object\n",
      " 3   Lyrics Snippets       94 non-null     object\n",
      " 4   Lyric Snippet Synced  94 non-null     object\n",
      " 5   Artwork               94 non-null     object\n",
      " 6   Video URL             94 non-null     object\n",
      " 7   Shazem URL            94 non-null     object\n",
      " 8   Apple Music URL       94 non-null     object\n",
      " 9   Name                  94 non-null     object\n",
      "dtypes: object(10)\n",
      "memory usage: 7.5+ KB\n"
     ]
    }
   ],
   "source": [
    "import requests\n",
    "import re\n",
    "import pandas as pd\n",
    "fn = 'https://raw.githubusercontent.com/sophie-greene/shazam/main/shazam.txt'\n",
    "def get_data(fn):\n",
    "    data = requests.get(fn).text\n",
    "    rows = re.findall(r\"\\{.*?\\}\", data, re.MULTILINE | re.DOTALL)\n",
    "    lst= []\n",
    "    for r in rows:\n",
    "        keys = re.findall(r\"\\n\\\"([A-Za-z ]+?)\\\"\\:\", r, re.DOTALL | re.MULTILINE)\n",
    "        dct = {}\n",
    "        for k in keys:\n",
    "            dct[k] = re.findall(rf'\"{k}\"\\: \\\"(.*?)\\\",?', r, re.MULTILINE | re.DOTALL)[0]\n",
    "        lst.append(dct)\n",
    "    return pd.DataFrame(lst)\n",
    "df =  get_data(fn)\n",
    "df.info()"
   ]
  },
  {
   "cell_type": "code",
   "execution_count": 6,
   "metadata": {},
   "outputs": [
    {
     "data": {
      "text/plain": [
       "'{\\n\"TimeStamp\": \"8 May 2024 at 01:11\",\\n\"Title\": \"Live and Learn\",\\n\"Artist\": \"The Cardigans\",\\n\"is_Explicit\": \"No\",\\n\"Lyrics Snippets\": \"I came home in the morning\\nAnd everything was gone\\nOh, what have I done?\\nI dropped dead in the hallway\\nCursing the dawn\\nOh come on, sun\",\\n\"Lyric Snippet Synced\": \"Well, you get what you give\\nAnd hell, yes, I lived\\nBut if you live as you learn\\nI don\\'t think I can learn\\nOh with the sun in my eyes\",\\n\"Artwork\": \"Image\",\\n\"Video URL\": \"https://music.apple.com/gb/music-video/live-and-learn/1445697840\",\\n\"Shazem URL\": \"https://www.shazam.com/track/11241484/live-and-learn?co=GB&referrer=shortcuts&offsetInMilliseconds=203940&timeSkew=0.0013536215&trackLength=253133&startDate=2024-05-08T00:11:06.902Z\",\\n\"Apple Music URL\": \"https://music.apple.com/gb/album/live-and-learn/1444077673?i=1444078698&itscg=30201&itsct=Shazam_shortcuts\",\\n\"Name\": \"The Cardigans - Live and Learn\",\\n},\\n{\\n\"TimeStamp\": \"8 May 2024 at 01:13\",\\n\"Title\": \"Sunshine (Wookie Main Mix)\",\\n\"Artist\": \"Gabrielle\",\\n\"is_Explicit\": \"No\",\\n\"Lyrics Snippets\": \"Made a wish I can dream\\nI can be what I want to be\\nNot afraid to live life\\nAnd fulfill my fantasies\\nI learned a lot of tricks to help me live my life\",\\n\"Lyric Snippet Synced\": \"I can be what I want to be\\nNot afraid to live life\\nAnd fulfill my fantasies\\nI learned a lot of tricks to help me live my life\",\\n\"Artwork\": \"Image\",\\n\"Video URL\": \"\",\\n\"Shazem URL\": \"https://www.shazam.com/track/221976/sunshine-wookie-main-mix?co=GB&referrer=shortcuts&offsetInMilliseconds=48528&timeSkew=-5.1021576E-5&trackLength=266066&startDate=2024-05-08T00:13:10.629Z\",\\n\"Apple Music URL\": \"https://music.apple.com/gb/album/sunshine-wookie-main-mix/1443404490?i=1443404804&itscg=30201&itsct=Shazam_shortcuts\",\\n\"Name\": \"Gabrielle - Sunshine (Wookie Main Mix)\",\\n},\\n{\\n\"TimeStamp\": \"8 May 2024 at 01:15\",\\n\"Title\": \"You Have to Hurt\",\\n\"Artist\": \"Carly Simon\",\\n\"is_Explicit\": \"No\",\\n\"Lyrics Snippets\": \"(Frank Musker, Dominic King)\\n\\'I\\'m in love with him\\' she said\\nWith all the innocence of tender years\\nBut somewhere down the road ahead\",\\n\"Lyric Snippet Synced\": \"(Frank Musker, Dominic King)\\n\\'I\\'m in love with him\\' she said\\nWith all the innocence of tender years\\nBut somewhere down the road ahead\",\\n\"Artwork\": \"Image\",\\n\"Video URL\": \"\",\\n\"Shazem URL\": \"https://www.shazam.com/track/389433/you-have-to-hurt?co=GB&referrer=shortcuts&offsetInMilliseconds=108861&timeSkew=1.3017654E-4&trackLength=242407&startDate=2024-05-08T00:15:14.303Z\",\\n\"Apple Music URL\": \"https://music.apple.com/gb/album/you-have-to-hurt/272189025?i=272189059&itscg=30201&itsct=Shazam_shortcuts\",\\n\"Name\": \"Carly Simon - You Have to Hurt\",\\n},\\n{\\n\"TimeStamp\": \"8 May 2024 at 01:17\",\\n\"Title\": \"That Ole Devil Called Love\",\\n\"Artist\": \"Alison Moyet\",\\n\"is_Explicit\": \"No\",\\n\"Lyrics Snippets\": \"It\\'s that ole devil called love again\\nGets behind me\\nAnd keeps giving me that shock again\\nPuttin\\' rain in my eyes\\nTears in my dreams\",\\n\"Lyric Snippet Synced\": \"It\\'s that ole devil called love again\\nGets behind me\\nAnd keeps giving me that shock again\\nPuttin\\' rain in my eyes\\nTears in my dreams\",\\n\"Artwork\": \"Image\",\\n\"Video URL\": \"\",\\n\"Shazem URL\": \"https://www.shazam.com/track/5175007/that-ole-devil-called-love?co=GB&referrer=shortcuts&offsetInMilliseconds=277&timeSkew=-0.0019918084&trackLength=184850&startDate=2024-05-08T00:17:29.309Z\",\\n\"Apple Music URL\": \"https://music.apple.com/gb/album/that-ole-devil-called-love/334987302?i=334987467&itscg=30201&itsct=Shazam_shortcuts\",\\n\"Name\": \"Alison Moyet - That Ole Devil Called Love\",\\n},\\n{\\n\"TimeStamp\": \"8 May 2024 at 01:19\",\\n\"Title\": \"That Ole Devil Called Love\",\\n\"Artist\": \"Alison Moyet\",\\n\"is_Explicit\": \"No\",\\n\"Lyrics Snippets\": \"It\\'s that ole devil called love again\\nGets behind me\\nAnd keeps giving me that shock again\\nPuttin\\' rain in my eyes\\nTears in my dreams\",\\n\"Lyric Snippet Synced\": \"With that ole devil called love\\nHe\\'d follow me \\'round\\nBuild me up, tear me down\\nTill I\\'d be so bewildered\\nI wouldn\\'t know what to do\",\\n\"Artwork\": \"Image\",\\n\"Video URL\": \"\",\\n\"Shazem URL\": \"https://www.shazam.com/track/5175007/that-ole-devil-called-love?co=GB&referrer=shortcuts&offsetInMilliseconds=123875&timeSkew=7.264614E-4&trackLength=184850&startDate=2024-05-08T00:19:32.925Z\",\\n\"Apple Music URL\": \"https://music.apple.com/gb/album/that-ole-devil-called-love/334987302?i=334987467&itscg=30201&itsct=Shazam_shortcuts\",\\n\"Name\": \"Alison Moyet - That Ole Devil Called Love\",\\n},\\n{\\n\"TimeStamp\": \"8 May 2024 at 01:21\",\\n\"Title\": \"BET\",\\n\"Artist\": \"METTE\",\\n\"is_Explicit\": \"Yes\",\\n\"Lyrics Snippets\": \"I know it might sound stupid\\nI\\'m a fool for you so I\\'ll just say it anyway, oh\\nI think I\\'m in love with you\\nI love you\\nI wanna bribe Cupid\",\\n\"Lyric Snippet Synced\": \"One day soon you\\'ll be loving me\\nYou bet\\nI bet, bet on that you do\\nBet, bet on that you do\\nBet, bet on that you do\\nBet, bet on that you do\",\\n\"Artwork\": \"Image\",\\n\"Video URL\": \"https://music.apple.com/gb/music-video/bet-visualizer/1744441792\",\\n\"Shazem URL\": \"https://www.shazam.com/track/698055929/bet?co=GB&referrer=shortcuts&offsetInMilliseconds=50177&timeSkew=0.0016571283&trackLength=198671&startDate=2024-05-08T00:21:36.380Z\",\\n\"Apple Music URL\": \"https://music.apple.com/gb/album/bet/1741343008?i=1741343011&itscg=30201&itsct=Shazam_shortcuts\",\\n\"Name\": \"METTE - BET\",\\n},\\n{\\n\"TimeStamp\": \"8 May 2024 at 01:23\",\\n\"Title\": \"Sex (I\\'m A)\",\\n\"Artist\": \"Berlin\",\\n\"is_Explicit\": \"No\",\\n\"Lyrics Snippets\": \"Feel the fire, feel my love inside you it\\'s so right\\nThere\\'s the sound and the smell of love in my mind\",\\n\"Lyric Snippet Synced\": \"I\\'m a man - Well I\\'m your mother\\nI\\'m a man - I\\'m a one night stand\\nI\\'m a man - Am I bi\\nI\\'m a man - I\\'m a slave\\nI\\'m a man - I\\'m a little girl\",\\n\"Artwork\": \"Image\",\\n\"Video URL\": \"\",\\n\"Shazem URL\": \"https://www.shazam.com/track/54155474/sex-im-a?co=GB&referrer=shortcuts&offsetInMilliseconds=113408&timeSkew=-0.0013768077&trackLength=313759&startDate=2024-05-08T00:23:40.036Z\",\\n\"Apple Music URL\": \"https://music.apple.com/gb/album/sex-im-a/201448196?i=201448201&itscg=30201&itsct=Shazam_shortcuts\",\\n\"Name\": \"Berlin - Sex (I\\'m A)\",\\n},\\n{\\n\"TimeStamp\": \"8 May 2024 at 01:25\",\\n\"Title\": \"Sex (I\\'m A)\",\\n\"Artist\": \"Berlin\",\\n\"is_Explicit\": \"No\",\\n\"Lyrics Snippets\": \"Feel the fire, feel my love inside you it\\'s so right\\nThere\\'s the sound and the smell of love in my mind\",\\n\"Lyric Snippet Synced\": \"And we\\'ll make love forever\",\\n\"Artwork\": \"Image\",\\n\"Video URL\": \"\",\\n\"Shazem URL\": \"https://www.shazam.com/track/54155474/sex-im-a?co=GB&referrer=shortcuts&offsetInMilliseconds=237068&timeSkew=-0.0023018718&trackLength=313759&startDate=2024-05-08T00:25:43.700Z\",\\n\"Apple Music URL\": \"https://music.apple.com/gb/album/sex-im-a/201448196?i=201448201&itscg=30201&itsct=Shazam_shortcuts\",\\n\"Name\": \"Berlin - Sex (I\\'m A)\",\\n},\\n{\\n\"TimeStamp\": \"8 May 2024 at 01:27\",\\n\"Title\": \"Dawn to Dust\",\\n\"Artist\": \"Shy Child\",\\n\"is_Explicit\": \"No\",\\n\"Lyrics Snippets\": \"\",\\n\"Lyric Snippet Synced\": \"\",\\n\"Artwork\": \"Image\",\\n\"Video URL\": \"\",\\n\"Shazem URL\": \"https://www.shazam.com/track/221858416/dawn-to-dust?co=GB&referrer=shortcuts&offsetInMilliseconds=86169&timeSkew=-0.022543907&trackLength=266695&startDate=2024-05-08T00:27:47.171Z\",\\n\"Apple Music URL\": \"\",\\n\"Name\": \"Shy Child - Dawn to Dust\",\\n},\\n{\\n\"TimeStamp\": \"8 May 2024 at 01:29\",\\n\"Title\": \"Indian\",\\n\"Artist\": \"Sleeping At Last\",\\n\"is_Explicit\": \"No\",\\n\"Lyrics Snippets\": \"\",\\n\"Lyric Snippet Synced\": \"\",\\n\"Artwork\": \"Image\",\\n\"Video URL\": \"\",\\n\"Shazem URL\": \"https://www.shazam.com/track/113545177/indian?co=GB&referrer=shortcuts&offsetInMilliseconds=172477&timeSkew=-0.001408875&trackLength=235624&startDate=2024-05-08T00:29:54.781Z\",\\n\"Apple Music URL\": \"https://music.apple.com/gb/album/indian/860628890?i=860629064&itscg=30201&itsct=Shazam_shortcuts\",\\n\"Name\": \"Sleeping At Last - Indian\",\\n},\\n{\\n\"TimeStamp\": \"8 May 2024 at 01:32\",\\n\"Title\": \"Lady (You Bring Me Up)\",\\n\"Artist\": \"The Commodores\",\\n\"is_Explicit\": \"No\",\\n\"Lyrics Snippets\": \"Lady, you bring me up when I\\'m down\\nAnd maybe you\\'re gonna change my life around\\nYou came to me when I was lonely and no one cared\",\\n\"Lyric Snippet Synced\": \"I saw your face and somethin\\' told me you were the one\\nYou smiled at me and now I see my life\\'s begun\",\\n\"Artwork\": \"Image\",\\n\"Video URL\": \"https://music.apple.com/gb/music-video/lady-you-bring-me-up/1494535258\",\\n\"Shazem URL\": \"https://www.shazam.com/track/290234/lady-you-bring-me-up?co=GB&referrer=shortcuts&offsetInMilliseconds=58808&timeSkew=4.0960312E-4&trackLength=289360&startDate=2024-05-08T00:31:58.459Z\",\\n\"Apple Music URL\": \"https://music.apple.com/gb/album/lady-you-bring-me-up/1443092235?i=1443092246&itscg=30201&itsct=Shazam_shortcuts\",\\n\"Name\": \"The Commodores - Lady (You Bring Me Up)\",\\n},\\n{\\n\"TimeStamp\": \"8 May 2024 at 01:34\",\\n\"Title\": \"Lady (You Bring Me Up)\",\\n\"Artist\": \"The Commodores\",\\n\"is_Explicit\": \"No\",\\n\"Lyrics Snippets\": \"Lady, you bring me up when I\\'m down\\nAnd maybe you\\'re gonna change my life around\\nYou came to me when I was lonely and no one cared\",\\n\"Lyric Snippet Synced\": \"And maybe (Maybe), you\\'re gonna change my life around\\nWhoa\\nLady, you bring me up when I\\'m down\\nUp when I\\'m down\",\\n\"Artwork\": \"Image\",\\n\"Video URL\": \"https://music.apple.com/gb/music-video/lady-you-bring-me-up/1494535258\",\\n\"Shazem URL\": \"https://www.shazam.com/track/290234/lady-you-bring-me-up?co=GB&referrer=shortcuts&offsetInMilliseconds=166830&timeSkew=0.003122449&trackLength=240280&startDate=2024-05-08T00:34:02.112Z\",\\n\"Apple Music URL\": \"https://music.apple.com/gb/album/lady-you-bring-me-up/1443092235?i=1443092246&itscg=30201&itsct=Shazam_shortcuts\",\\n\"Name\": \"The Commodores - Lady (You Bring Me Up)\",\\n},\\n{\\n\"TimeStamp\": \"8 May 2024 at 01:38\",\\n\"Title\": \"And I Fell Back Alone\",\\n\"Artist\": \"World Party\",\\n\"is_Explicit\": \"No\",\\n\"Lyrics Snippets\": \"If we walk through each other\\nAs we leave the room\\nYou don\\'t have to tell me that it\\'s over\\nWhoever you were then\\nI never really knew\",\\n\"Lyric Snippet Synced\": \"If we walk through each other\\nAs we leave the room\\nYou don\\'t have to tell me that it\\'s over\\nWhoever you were then\\nI never really knew\",\\n\"Artwork\": \"Image\",\\n\"Video URL\": \"\",\\n\"Shazem URL\": \"https://www.shazam.com/track/316909/and-i-fell-back-alone?co=GB&referrer=shortcuts&offsetInMilliseconds=112846&timeSkew=-1.0550022E-4&trackLength=237413&startDate=2024-05-08T00:38:48.367Z\",\\n\"Apple Music URL\": \"https://music.apple.com/gb/album/and-i-fell-back-alone/977887401?i=977887410&itscg=30201&itsct=Shazam_shortcuts\",\\n\"Name\": \"World Party - And I Fell Back Alone\",\\n},\\n{\\n\"TimeStamp\": \"8 May 2024 at 01:40\",\\n\"Title\": \"After All (feat. Bryan Adams)\",\\n\"Artist\": \"Michael Bublé\",\\n\"is_Explicit\": \"No\",\\n\"Lyrics Snippets\": \"Way back when we started\\nThere was a part of me that knew\\nOne day there\\'d be heartache\\nAnd I would lose myself to you\\nAnd I walked all night\",\\n\"Lyric Snippet Synced\": \"Way back when we started\\nThere was a part of me that knew\\nOne day there\\'d be heartache\\nAnd I would lose myself to you\\nAnd I walked all night\",\\n\"Artwork\": \"Image\",\\n\"Video URL\": \"\",\\n\"Shazem URL\": \"https://www.shazam.com/track/86896300/after-all-feat-bryan-adams?co=GB&referrer=shortcuts&offsetInMilliseconds=19&timeSkew=-0.0014952421&trackLength=217480&startDate=2024-05-08T00:40:53.994Z\",\\n\"Apple Music URL\": \"https://music.apple.com/gb/album/after-all-feat-bryan-adams/605526675?i=605526685&itscg=30201&itsct=Shazam_shortcuts\",\\n\"Name\": \"Michael Bublé - After All (feat. Bryan Adams)\",\\n},\\n{\\n\"TimeStamp\": \"8 May 2024 at 01:43\",\\n\"Title\": \"After All (feat. Bryan Adams)\",\\n\"Artist\": \"Michael Bublé\",\\n\"is_Explicit\": \"No\",\\n\"Lyrics Snippets\": \"Way back when we started\\nThere was a part of me that knew\\nOne day there\\'d be heartache\\nAnd I would lose myself to you\\nAnd I walked all night\",\\n\"Lyric Snippet Synced\": \"And I\\'ll catch you when you fall\\nAfter all\\nI was lost, alright\\nLost in the sleepless, empty night\\nDreamin\\' of you\",\\n\"Artwork\": \"Image\",\\n\"Video URL\": \"\",\\n\"Shazem URL\": \"https://www.shazam.com/track/86896300/after-all-feat-bryan-adams?co=GB&referrer=shortcuts&offsetInMilliseconds=123742&timeSkew=-1.6838312E-4&trackLength=217480&startDate=2024-05-08T00:42:57.733Z\",\\n\"Apple Music URL\": \"https://music.apple.com/gb/album/after-all-feat-bryan-adams/605526675?i=605526685&itscg=30201&itsct=Shazam_shortcuts\",\\n\"Name\": \"Michael Bublé - After All (feat. Bryan Adams)\",\\n},\\n{\\n\"TimeStamp\": \"8 May 2024 at 01:45\",\\n\"Title\": \"Private Eyes\",\\n\"Artist\": \"Sleeping At Last\",\\n\"is_Explicit\": \"No\",\\n\"Lyrics Snippets\": \"Oh-oh oh-oh, oh-oh oh-oh\\nOh-oh oh-oh, oh-oh oh-oh\\nOh-oh oh-oh, oh-oh oh-oh\\nOh-oh oh-oh, oh-oh oh-oh\\nI see you, you see me\",\\n\"Lyric Snippet Synced\": \"Oh-oh oh-oh, oh-oh oh-oh\\nOh-oh oh-oh, oh-oh oh-oh\\nI see you, you see me\\nWatch you blurring the lines when you\\'re making a scene\",\\n\"Artwork\": \"Image\",\\n\"Video URL\": \"\",\\n\"Shazem URL\": \"https://www.shazam.com/track/110820212/private-eyes?co=GB&referrer=shortcuts&offsetInMilliseconds=28455&timeSkew=0.005813718&trackLength=206426&startDate=2024-05-08T00:45:01.187Z\",\\n\"Apple Music URL\": \"https://music.apple.com/gb/album/private-eyes/875863303?i=875863314&itscg=30201&itsct=Shazam_shortcuts\",\\n\"Name\": \"Sleeping At Last - Private Eyes\",\\n},\\n{\\n\"TimeStamp\": \"8 May 2024 at 01:47\",\\n\"Title\": \"Private Eyes\",\\n\"Artist\": \"Sleeping At Last\",\\n\"is_Explicit\": \"No\",\\n\"Lyrics Snippets\": \"Oh-oh oh-oh, oh-oh oh-oh\\nOh-oh oh-oh, oh-oh oh-oh\\nOh-oh oh-oh, oh-oh oh-oh\\nOh-oh oh-oh, oh-oh oh-oh\\nI see you, you see me\",\\n\"Lyric Snippet Synced\": \"Oh-oh oh-oh, oh-oh oh-oh\\nOh-oh oh-oh, oh-oh oh-oh\\nPrivate eyes, they\\'re watching you\\nThey see your every move\\nPrivate eyes, they\\'re watching you\",\\n\"Artwork\": \"Image\",\\n\"Video URL\": \"\",\\n\"Shazem URL\": \"https://www.shazam.com/track/110820212/private-eyes?co=GB&referrer=shortcuts&offsetInMilliseconds=152176&timeSkew=0.0016081333&trackLength=206426&startDate=2024-05-08T00:47:04.911Z\",\\n\"Apple Music URL\": \"https://music.apple.com/gb/album/private-eyes/875863303?i=875863314&itscg=30201&itsct=Shazam_shortcuts\",\\n\"Name\": \"Sleeping At Last - Private Eyes\",\\n},\\n{\\n\"TimeStamp\": \"8 May 2024 at 01:49\",\\n\"Title\": \"New York City Boy\",\\n\"Artist\": \"Pet Shop Boys\",\\n\"is_Explicit\": \"No\",\\n\"Lyrics Snippets\": \"New York City Boy\\nYou\\'ll never have a bored day\\n\\'Cause you\\'re a New York City Boy\\nWhere Seventh Avenue meets Broadway\",\\n\"Lyric Snippet Synced\": \"New York City Boy\\nYou\\'ll never have a bored day\\n\\'Cause you\\'re a New York City Boy\\nWhere Seventh Avenue meets Broadway\",\\n\"Artwork\": \"Image\",\\n\"Video URL\": \"\",\\n\"Shazem URL\": \"https://www.shazam.com/track/561004/new-york-city-boy?co=GB&referrer=shortcuts&offsetInMilliseconds=67725&timeSkew=0.0018210411&trackLength=315466&startDate=2024-05-08T00:49:08.355Z\",\\n\"Apple Music URL\": \"https://music.apple.com/gb/album/new-york-city-boy/693126602?i=693126606&itscg=30201&itsct=Shazam_shortcuts\",\\n\"Name\": \"Pet Shop Boys - New York City Boy\",\\n},\\n{\\n\"TimeStamp\": \"8 May 2024 at 01:51\",\\n\"Title\": \"New York City Boy\",\\n\"Artist\": \"Pet Shop Boys\",\\n\"is_Explicit\": \"No\",\\n\"Lyrics Snippets\": \"New York City Boy\\nYou\\'ll never have a bored day\\n\\'Cause you\\'re a New York City Boy\\nWhere Seventh Avenue meets Broadway\",\\n\"Lyric Snippet Synced\": \"New York City Boy\\nYou\\'ll never have a bored day\\n\\'Cause you\\'re a New York City Boy\\nWhere Seventh Avenue meets Broadway\",\\n\"Artwork\": \"Image\",\\n\"Video URL\": \"\",\\n\"Shazem URL\": \"https://www.shazam.com/track/561004/new-york-city-boy?co=GB&referrer=shortcuts&offsetInMilliseconds=191452&timeSkew=-1.5985966E-4&trackLength=315466&startDate=2024-05-08T00:51:11.958Z\",\\n\"Apple Music URL\": \"https://music.apple.com/gb/album/new-york-city-boy/693126602?i=693126606&itscg=30201&itsct=Shazam_shortcuts\",\\n\"Name\": \"Pet Shop Boys - New York City Boy\",\\n},\\n{\\n\"TimeStamp\": \"8 May 2024 at 01:55\",\\n\"Title\": \"Stars\",\\n\"Artist\": \"Axel Flóvent\",\\n\"is_Explicit\": \"No\",\\n\"Lyrics Snippets\": \"I stand up from all the cloudy wonders\\nMy hands down, I feel it all take control\\nAnd I\\'m sorry if you don\\'t believe I\\'m honest\",\\n\"Lyric Snippet Synced\": \"And every time I\\nI feel you\\'re under\\nI feel you under the stars\\nI\\'m calling my home to see you under\\nA new moon\\nIt feels like we\\'ve been here before\",\\n\"Artwork\": \"Image\",\\n\"Video URL\": \"\",\\n\"Shazem URL\": \"https://www.shazam.com/track/437110265/stars?co=GB&referrer=shortcuts&offsetInMilliseconds=83082&timeSkew=-3.796816E-5&trackLength=213813&startDate=2024-05-08T00:55:41.058Z\",\\n\"Apple Music URL\": \"https://music.apple.com/gb/album/stars/1611913176?i=1611913202&itscg=30201&itsct=Shazam_shortcuts\",\\n\"Name\": \"Axel Flóvent - Stars\",\\n},\\n{\\n\"TimeStamp\": \"8 May 2024 at 03:04\",\\n\"Title\": \"Take My Breath Away (Re-Recorded)\",\\n\"Artist\": \"Berlin\",\\n\"is_Explicit\": \"No\",\\n\"Lyrics Snippets\": \"Watchin\\' every motion in my foolish, lover\\'s game\\nOn this endless ocean, finally lovers know no shame\",\\n\"Lyric Snippet Synced\": \"Take my breath away\\nWatchin\\' every motion in this foolish, lover\\'s game\\nHaunted by the notion somewhere there\\'s a love in flames\",\\n\"Artwork\": \"Image\",\\n\"Video URL\": \"\",\\n\"Shazem URL\": \"https://www.shazam.com/track/40395869/take-my-breath-away-re-recorded?co=GB&referrer=shortcuts&offsetInMilliseconds=169598&timeSkew=0.001352191&trackLength=257986&startDate=2024-05-08T02:04:01.362Z\",\\n\"Apple Music URL\": \"https://music.apple.com/gb/album/take-my-breath-away-re-recorded/250167154?i=250167159&itscg=30201&itsct=Shazam_shortcuts\",\\n\"Name\": \"Berlin - Take My Breath Away (Re-Recorded)\",\\n},\\n{\\n\"TimeStamp\": \"8 May 2024 at 03:06\",\\n\"Title\": \"Posh Girls\",\\n\"Artist\": \"Scouting for Girls\",\\n\"is_Explicit\": \"No\",\\n\"Lyrics Snippets\": \"She passed, she\\'s class\\nCandy for the eye and a twinkle in her smile\\nAnd she looks like butter wouldn\\'t melt\\nHe\\'s bewitched, her daddy\\'s rich\",\\n\"Lyric Snippet Synced\": \"I never thought I\\'d say this, but I think you\\'re so\\nAw-aw-aw-aw-awfully nice,\\xa0Is that alright?\"\\nShe said, \"Fine\"\",\\n\"Artwork\": \"Image\",\\n\"Video URL\": \"\",\\n\"Shazem URL\": \"https://www.shazam.com/track/51980008/posh-girls?co=GB&referrer=shortcuts&offsetInMilliseconds=28854&timeSkew=0.00290668&trackLength=188533&startDate=2024-05-08T02:06:05.075Z\",\\n\"Apple Music URL\": \"https://music.apple.com/gb/album/posh-girls/387153214?i=387153328&itscg=30201&itsct=Shazam_shortcuts\",\\n\"Name\": \"Scouting for Girls - Posh Girls\",\\n},\\n{\\n\"TimeStamp\": \"8 May 2024 at 03:08\",\\n\"Title\": \"Posh Girls\",\\n\"Artist\": \"Scouting for Girls\",\\n\"is_Explicit\": \"No\",\\n\"Lyrics Snippets\": \"She passed, she\\'s class\\nCandy for the eye and a twinkle in her smile\\nAnd she looks like butter wouldn\\'t melt\\nHe\\'s bewitched, her daddy\\'s rich\",\\n\"Lyric Snippet Synced\": \"Posh girls have good manners, but they go like the clappers\\n\\'Cause they never got to hang around with boys at school\",\\n\"Artwork\": \"Image\",\\n\"Video URL\": \"\",\\n\"Shazem URL\": \"https://www.shazam.com/track/51980008/posh-girls?co=GB&referrer=shortcuts&offsetInMilliseconds=152680&timeSkew=-9.794831E-4&trackLength=188533&startDate=2024-05-08T02:08:08.896Z\",\\n\"Apple Music URL\": \"https://music.apple.com/gb/album/posh-girls/387153214?i=387153328&itscg=30201&itsct=Shazam_shortcuts\",\\n\"Name\": \"Scouting for Girls - Posh Girls\",\\n},\\n{\\n\"TimeStamp\": \"8 May 2024 at 03:10\",\\n\"Title\": \"Kingston Town\",\\n\"Artist\": \"UB40\",\\n\"is_Explicit\": \"No\",\\n\"Lyrics Snippets\": \"The night seems to fade\\nBut the moonlight lingers on\\nThere are wonders for everyone\\nThe stars shine so bright\\nBut they\\'re fading after dawn\",\\n\"Lyric Snippet Synced\": \"The night seems to fade\\nBut the moonlight lingers on\\nThere are wonders for everyone\\nThe stars shine so bright\\nBut they\\'re fading after dawn\",\\n\"Artwork\": \"Image\",\\n\"Video URL\": \"https://music.apple.com/gb/music-video/kingston-town-remastered-2009/719774458\",\\n\"Shazem URL\": \"https://www.shazam.com/track/20149020/kingston-town?co=GB&referrer=shortcuts&offsetInMilliseconds=11688&timeSkew=0.003088832&trackLength=230826&startDate=2024-05-08T02:10:12.379Z\",\\n\"Apple Music URL\": \"https://music.apple.com/gb/album/kingston-town/391986006?i=391986067&itscg=30201&itsct=Shazam_shortcuts\",\\n\"Name\": \"UB40 - Kingston Town\",\\n},\\n{\\n\"TimeStamp\": \"8 May 2024 at 03:12\",\\n\"Title\": \"Kingston Town\",\\n\"Artist\": \"UB40\",\\n\"is_Explicit\": \"No\",\\n\"Lyrics Snippets\": \"The night seems to fade\\nBut the moonlight lingers on\\nThere are wonders for everyone\\nThe stars shine so bright\\nBut they\\'re fading after dawn\",\\n\"Lyric Snippet Synced\": \"The night seems to fade\\nBut the moonlight lingers on\\nThere are wonders for everyone\\nThe stars shine so bright\\nBut they\\'re fading after dawn\",\\n\"Artwork\": \"Image\",\\n\"Video URL\": \"https://music.apple.com/gb/music-video/kingston-town-remastered-2009/719774458\",\\n\"Shazem URL\": \"https://www.shazam.com/track/20149020/kingston-town?co=GB&referrer=shortcuts&offsetInMilliseconds=135340&timeSkew=-0.001395464&trackLength=230826&startDate=2024-05-08T02:12:16.031Z\",\\n\"Apple Music URL\": \"https://music.apple.com/gb/album/kingston-town/391986006?i=391986067&itscg=30201&itsct=Shazam_shortcuts\",\\n\"Name\": \"UB40 - Kingston Town\",\\n},\\n{\\n\"TimeStamp\": \"8 May 2024 at 03:14\",\\n\"Title\": \"Sugar Tooth\",\\n\"Artist\": \"Merrick\",\\n\"is_Explicit\": \"No\",\\n\"Lyrics Snippets\": \"\",\\n\"Lyric Snippet Synced\": \"\",\\n\"Artwork\": \"Image\",\\n\"Video URL\": \"\",\\n\"Shazem URL\": \"https://www.shazam.com/track/57998356/sugar-tooth?co=GB&referrer=shortcuts&offsetInMilliseconds=25408&timeSkew=6.937981E-5&trackLength=200727&startDate=2024-05-08T02:14:19.531Z\",\\n\"Apple Music URL\": \"https://music.apple.com/gb/album/sugar-tooth/4626746?i=4626726&itscg=30201&itsct=Shazam_shortcuts\",\\n\"Name\": \"Merrick - Sugar Tooth\",\\n},\\n{\\n\"TimeStamp\": \"8 May 2024 at 03:16\",\\n\"Title\": \"Sugar Tooth\",\\n\"Artist\": \"Merrick\",\\n\"is_Explicit\": \"No\",\\n\"Lyrics Snippets\": \"\",\\n\"Lyric Snippet Synced\": \"\",\\n\"Artwork\": \"Image\",\\n\"Video URL\": \"\",\\n\"Shazem URL\": \"https://www.shazam.com/track/57998356/sugar-tooth?co=GB&referrer=shortcuts&offsetInMilliseconds=158044&timeSkew=-1.2457371E-4&trackLength=200727&startDate=2024-05-08T02:16:32.171Z\",\\n\"Apple Music URL\": \"https://music.apple.com/gb/album/sugar-tooth/4626746?i=4626726&itscg=30201&itsct=Shazam_shortcuts\",\\n\"Name\": \"Merrick - Sugar Tooth\",\\n},\\n{\\n\"TimeStamp\": \"8 May 2024 at 03:18\",\\n\"Title\": \"Black Balloon\",\\n\"Artist\": \"The Goo Goo Dolls\",\\n\"is_Explicit\": \"No\",\\n\"Lyrics Snippets\": \"Baby\\'s black balloon makes her fly\\nI almost fell into that hole in your life\\nAnd you\\'re not thinking about tomorrow\\n\\'Cause you were the same as me\",\\n\"Lyric Snippet Synced\": \"Coming down, the world turned over\\nAnd angels fall without you there\\nAnd I go on as you get colder\\nOr are you someone\\'s prayer?\",\\n\"Artwork\": \"Image\",\\n\"Video URL\": \"\",\\n\"Shazem URL\": \"https://www.shazam.com/track/20010935/black-balloon?co=GB&referrer=shortcuts&offsetInMilliseconds=88718&timeSkew=5.1164627E-4&trackLength=250066&startDate=2024-05-08T02:18:44.608Z\",\\n\"Apple Music URL\": \"https://music.apple.com/gb/album/black-balloon/1109658139?i=1109658197&itscg=30201&itsct=Shazam_shortcuts\",\\n\"Name\": \"The Goo Goo Dolls - Black Balloon\",\\n},\\n{\\n\"TimeStamp\": \"8 May 2024 at 03:20\",\\n\"Title\": \"Black Balloon\",\\n\"Artist\": \"The Goo Goo Dolls\",\\n\"is_Explicit\": \"No\",\\n\"Lyrics Snippets\": \"Baby\\'s black balloon makes her fly\\nI almost fell into that hole in your life\\nAnd you\\'re not thinking about tomorrow\\n\\'Cause you were the same as me\",\\n\"Lyric Snippet Synced\": \"And I\\'ll go on, and I\\'ll lead you home, and\\nAll because I\\'m\\nAll because I\\'m\\nAnd I\\'ll become\\nWhat you became to me\",\\n\"Artwork\": \"Image\",\\n\"Video URL\": \"\",\\n\"Shazem URL\": \"https://www.shazam.com/track/20010935/black-balloon?co=GB&referrer=shortcuts&offsetInMilliseconds=212354&timeSkew=0.0015057325&trackLength=250066&startDate=2024-05-08T02:20:48.260Z\",\\n\"Apple Music URL\": \"https://music.apple.com/gb/album/black-balloon/1109658139?i=1109658197&itscg=30201&itsct=Shazam_shortcuts\",\\n\"Name\": \"The Goo Goo Dolls - Black Balloon\",\\n},\\n{\\n\"TimeStamp\": \"8 May 2024 at 03:22\",\\n\"Title\": \"The Way You Do The Things You Do\",\\n\"Artist\": \"UB40 featuring Ali, Astro & Mickey\",\\n\"is_Explicit\": \"No\",\\n\"Lyrics Snippets\": \"You got a smile so bright\\nYou know you could\\'ve been a candle\\nI\\'m holding you so tight\\nYou know you could\\'ve been a handle\",\\n\"Lyric Snippet Synced\": \"I like the way you do the things you do\\nYou make my life so rich\\nYou know you could\\'ve been some money\\nAnd, baby, you\\'re so sweet\",\\n\"Artwork\": \"Image\",\\n\"Video URL\": \"\",\\n\"Shazem URL\": \"https://www.shazam.com/track/233861/the-way-you-do-the-things-you-do?co=GB&referrer=shortcuts&offsetInMilliseconds=84736&timeSkew=0.0013709068&trackLength=183226&startDate=2024-05-08T02:22:51.734Z\",\\n\"Apple Music URL\": \"https://music.apple.com/gb/album/the-way-you-do-the-things-you-do/1440865121?i=1440865506&itscg=30201&itsct=Shazam_shortcuts\",\\n\"Name\": \"UB40 featuring Ali, Astro & Mickey - The Way You Do The Things You Do\",\\n},\\n{\\n\"TimeStamp\": \"8 May 2024 at 03:27\",\\n\"Title\": \"This House Is Empty Now\",\\n\"Artist\": \"Bill Frisell\",\\n\"is_Explicit\": \"No\",\\n\"Lyrics Snippets\": \"\",\\n\"Lyric Snippet Synced\": \"\",\\n\"Artwork\": \"Image\",\\n\"Video URL\": \"\",\\n\"Shazem URL\": \"https://www.shazam.com/track/2910382/this-house-is-empty-now?co=GB&referrer=shortcuts&offsetInMilliseconds=109884&timeSkew=0.0010644197&trackLength=308866&startDate=2024-05-08T02:27:25.204Z\",\\n\"Apple Music URL\": \"https://music.apple.com/gb/album/this-house-is-empty-now/1452593929?i=1452593964&itscg=30201&itsct=Shazam_shortcuts\",\\n\"Name\": \"Bill Frisell - This House Is Empty Now\",\\n},\\n{\\n\"TimeStamp\": \"8 May 2024 at 03:29\",\\n\"Title\": \"This House Is Empty Now\",\\n\"Artist\": \"Bill Frisell\",\\n\"is_Explicit\": \"No\",\\n\"Lyrics Snippets\": \"\",\\n\"Lyric Snippet Synced\": \"\",\\n\"Artwork\": \"Image\",\\n\"Video URL\": \"\",\\n\"Shazem URL\": \"https://www.shazam.com/track/2910382/this-house-is-empty-now?co=GB&referrer=shortcuts&offsetInMilliseconds=233569&timeSkew=-0.0017232895&trackLength=308866&startDate=2024-05-08T02:29:28.862Z\",\\n\"Apple Music URL\": \"https://music.apple.com/gb/album/this-house-is-empty-now/1452593929?i=1452593964&itscg=30201&itsct=Shazam_shortcuts\",\\n\"Name\": \"Bill Frisell - This House Is Empty Now\",\\n},\\n{\\n\"TimeStamp\": \"8 May 2024 at 03:31\",\\n\"Title\": \"Every Breath You Take\",\\n\"Artist\": \"The Police\",\\n\"is_Explicit\": \"No\",\\n\"Lyrics Snippets\": \"Every breath you take\\nEvery move you make\\nEvery bond you break\\nEvery step you take\\nI\\'ll be watching you\\nEvery single day\\nEvery word you say\",\\n\"Lyric Snippet Synced\": \"Oh, can\\'t you see?\\nYou belong to me\\nHow my poor heart aches\\nWith every step you take\\nEvery move you make\\nEvery vow you break\\nEvery smile you fake\",\\n\"Artwork\": \"Image\",\\n\"Video URL\": \"\",\\n\"Shazem URL\": \"https://www.shazam.com/track/266407/every-breath-you-take?co=GB&referrer=shortcuts&offsetInMilliseconds=49409&timeSkew=1.5735626E-4&trackLength=255503&startDate=2024-05-08T02:31:32.339Z\",\\n\"Apple Music URL\": \"https://music.apple.com/gb/album/every-breath-you-take/1440804541?i=1440805336&itscg=30201&itsct=Shazam_shortcuts\",\\n\"Name\": \"The Police - Every Breath You Take\",\\n},\\n{\\n\"TimeStamp\": \"8 May 2024 at 03:33\",\\n\"Title\": \"Every Breath You Take\",\\n\"Artist\": \"The Police\",\\n\"is_Explicit\": \"No\",\\n\"Lyrics Snippets\": \"Every breath you take\\nEvery move you make\\nEvery bond you break\\nEvery step you take\\nI\\'ll be watching you\\nEvery single day\\nEvery word you say\",\\n\"Lyric Snippet Synced\": \"I\\'ll be watching you\\nI\\'ll be watching you\\nEvery breath you take, every move you make\\nEvery bond you break, every step you take\\nI\\'ll be watching you\",\\n\"Artwork\": \"Image\",\\n\"Video URL\": \"\",\\n\"Shazem URL\": \"https://www.shazam.com/track/266407/every-breath-you-take?co=GB&referrer=shortcuts&offsetInMilliseconds=173089&timeSkew=9.191036E-5&trackLength=255503&startDate=2024-05-08T02:33:36.000Z\",\\n\"Apple Music URL\": \"https://music.apple.com/gb/album/every-breath-you-take/1440804541?i=1440805336&itscg=30201&itsct=Shazam_shortcuts\",\\n\"Name\": \"The Police - Every Breath You Take\",\\n},\\n{\\n\"TimeStamp\": \"8 May 2024 at 03:35\",\\n\"Title\": \"This Will Be (An Everlasting Love)\",\\n\"Artist\": \"Natalie Cole\",\\n\"is_Explicit\": \"No\",\\n\"Lyrics Snippets\": \"Ooh, oh-ha\\nOoh, oh-ha, yeah\\nHmm-hmm-hmm-hmm\\nThis will be an everlasting love\\nThis will be the one I\\'ve waited for\",\\n\"Lyric Snippet Synced\": \"This will be the first time anyone has loved me, oh\\nI\\'m so glad you found me in time\\nAnd I\\'m so glad that you rectified my mind\",\\n\"Artwork\": \"Image\",\\n\"Video URL\": \"\",\\n\"Shazem URL\": \"https://www.shazam.com/track/390697/this-will-be-an-everlasting-love?co=GB&referrer=shortcuts&offsetInMilliseconds=40505&timeSkew=1.1277199E-4&trackLength=171960&startDate=2024-05-08T02:35:39.485Z\",\\n\"Apple Music URL\": \"https://music.apple.com/gb/album/this-will-be-an-everlasting-love/715770738?i=715770841&itscg=30201&itsct=Shazam_shortcuts\",\\n\"Name\": \"Natalie Cole - This Will Be (An Everlasting Love)\",\\n},\\n{\\n\"TimeStamp\": \"8 May 2024 at 03:37\",\\n\"Title\": \"Adventure of a Lifetime\",\\n\"Artist\": \"Coldplay\",\\n\"is_Explicit\": \"No\",\\n\"Lyrics Snippets\": \"Turn your magic on\\nUmi, she\\'d say\\nEverything you want\\'s a dream away\\nWe are legends, every day\\nThat\\'s what she told me\\nTurn your magic on\",\\n\"Lyric Snippet Synced\": \"Turn your magic on\\nUmi, she\\'d say\\nEverything you want\\'s a dream away\\nWe are legends, every day\\nThat\\'s what she told me\\nTurn your magic on\",\\n\"Artwork\": \"Image\",\\n\"Video URL\": \"https://music.apple.com/gb/music-video/adventure-of-a-lifetime/1063763751\",\\n\"Shazem URL\": \"https://www.shazam.com/track/295542579/adventure-of-a-lifetime?co=GB&referrer=shortcuts&offsetInMilliseconds=845&timeSkew=4.323721E-4&trackLength=222586&startDate=2024-05-08T02:37:52.053Z\",\\n\"Apple Music URL\": \"https://music.apple.com/gb/album/adventure-of-a-lifetime/1053933969?i=1053934846&itscg=30201&itsct=Shazam_shortcuts\",\\n\"Name\": \"Coldplay - Adventure of a Lifetime\",\\n},\\n{\\n\"TimeStamp\": \"8 May 2024 at 03:39\",\\n\"Title\": \"Adventure of a Lifetime\",\\n\"Artist\": \"Coldplay\",\\n\"is_Explicit\": \"No\",\\n\"Lyrics Snippets\": \"Turn your magic on\\nUmi, she\\'d say\\nEverything you want\\'s a dream away\\nWe are legends, every day\\nThat\\'s what she told me\\nTurn your magic on\",\\n\"Lyric Snippet Synced\": \"I feel my heart underneath my skin\\nOh, I can feel my heart beating\\n\\'Cause you make me feel\\nLike I\\'m alive again\\nAlive again\\nOh, you make me feel\",\\n\"Artwork\": \"Image\",\\n\"Video URL\": \"https://music.apple.com/gb/music-video/adventure-of-a-lifetime/1063763751\",\\n\"Shazem URL\": \"https://www.shazam.com/track/295542579/adventure-of-a-lifetime?co=GB&referrer=shortcuts&offsetInMilliseconds=124316&timeSkew=1.206398E-4&trackLength=263786&startDate=2024-05-08T02:39:55.686Z\",\\n\"Apple Music URL\": \"https://music.apple.com/gb/album/adventure-of-a-lifetime/1053933969?i=1053934846&itscg=30201&itsct=Shazam_shortcuts\",\\n\"Name\": \"Coldplay - Adventure of a Lifetime\",\\n},\\n{\\n\"TimeStamp\": \"8 May 2024 at 03:42\",\\n\"Title\": \"Adventure of a Lifetime\",\\n\"Artist\": \"Coldplay\",\\n\"is_Explicit\": \"No\",\\n\"Lyrics Snippets\": \"Turn your magic on\\nUmi, she\\'d say\\nEverything you want\\'s a dream away\\nWe are legends, every day\\nThat\\'s what she told me\\nTurn your magic on\",\\n\"Lyric Snippet Synced\": \"This adventure, oh, then I\\nIf we\\'ve only got this life\\nYou\\'ll get me through, oh\\nAnd if we\\'ve only got this life\\nIn this adventure, oh, then I\",\\n\"Artwork\": \"Image\",\\n\"Video URL\": \"https://music.apple.com/gb/music-video/adventure-of-a-lifetime/1063763751\",\\n\"Shazem URL\": \"https://www.shazam.com/track/295542579/adventure-of-a-lifetime?co=GB&referrer=shortcuts&offsetInMilliseconds=205120&timeSkew=0.001087904&trackLength=222586&startDate=2024-05-08T02:41:59.147Z\",\\n\"Apple Music URL\": \"https://music.apple.com/gb/album/adventure-of-a-lifetime/1053933969?i=1053934846&itscg=30201&itsct=Shazam_shortcuts\",\\n\"Name\": \"Coldplay - Adventure of a Lifetime\",\\n},\\n{\\n\"TimeStamp\": \"8 May 2024 at 03:44\",\\n\"Title\": \"I Don\\'t Want To Live Without You\",\\n\"Artist\": \"Foreigner\",\\n\"is_Explicit\": \"No\",\\n\"Lyrics Snippets\": \"I find myself in a strange situation\\nAnd I don\\'t know how\\nWhat seemed to be an infatuation\\nIs so different now\\nI can\\'t get by if we\\'re not together\",\\n\"Lyric Snippet Synced\": \"Hopin\\' that you will promise to be mine\\nAnd never go away\\nI don\\'t want to live without you\\nI don\\'t want to live without you\",\\n\"Artwork\": \"Image\",\\n\"Video URL\": \"https://music.apple.com/gb/music-video/i-dont-want-to-live-without-you/1497026525\",\\n\"Shazem URL\": \"https://www.shazam.com/track/11177292/i-dont-want-to-live-without-you?co=GB&referrer=shortcuts&offsetInMilliseconds=57880&timeSkew=-0.0011209846&trackLength=289173&startDate=2024-05-08T02:44:02.629Z\",\\n\"Apple Music URL\": \"https://music.apple.com/gb/album/i-dont-want-to-live-without-you/1222635002?i=1222636703&itscg=30201&itsct=Shazam_shortcuts\",\\n\"Name\": \"Foreigner - I Don\\'t Want To Live Without You\",\\n},\\n{\\n\"TimeStamp\": \"8 May 2024 at 03:46\",\\n\"Title\": \"I Don\\'t Want To Live Without You\",\\n\"Artist\": \"Foreigner\",\\n\"is_Explicit\": \"No\",\\n\"Lyrics Snippets\": \"I find myself in a strange situation\\nAnd I don\\'t know how\\nWhat seemed to be an infatuation\\nIs so different now\\nI can\\'t get by if we\\'re not together\",\\n\"Lyric Snippet Synced\": \"Ooh, without your love\",\\n\"Artwork\": \"Image\",\\n\"Video URL\": \"https://music.apple.com/gb/music-video/i-dont-want-to-live-without-you/1497026525\",\\n\"Shazem URL\": \"https://www.shazam.com/track/11177292/i-dont-want-to-live-without-you?co=GB&referrer=shortcuts&offsetInMilliseconds=210194&timeSkew=-0.0038633347&trackLength=289173&startDate=2024-05-08T02:46:06.294Z\",\\n\"Apple Music URL\": \"https://music.apple.com/gb/album/i-dont-want-to-live-without-you/1222635002?i=1222636703&itscg=30201&itsct=Shazam_shortcuts\",\\n\"Name\": \"Foreigner - I Don\\'t Want To Live Without You\",\\n},\\n{\\n\"TimeStamp\": \"8 May 2024 at 03:48\",\\n\"Title\": \"Ground Running\",\\n\"Artist\": \"Will Young\",\\n\"is_Explicit\": \"No\",\\n\"Lyrics Snippets\": \"I\\'ve seen this place so many times\\nWe\\'re savin\\' face to save a life\\nAnd I\\'m sinkin\\' till I realize you\\'re holdin\\' me up\",\\n\"Lyric Snippet Synced\": \"We can hit the ground running\\nStruggling to make it last\\nI made a change, no lookin\\' back\\nWe were pulled out of the ocean\\nBut still swimmin\\' in doubt\",\\n\"Artwork\": \"Image\",\\n\"Video URL\": \"\",\\n\"Shazem URL\": \"https://www.shazam.com/track/460405820/ground-running?co=GB&referrer=shortcuts&offsetInMilliseconds=57548&timeSkew=0.0014163256&trackLength=201853&startDate=2024-05-08T02:48:09.747Z\",\\n\"Apple Music URL\": \"https://music.apple.com/gb/album/ground-running/1455068136?i=1455068151&itscg=30201&itsct=Shazam_shortcuts\",\\n\"Name\": \"Will Young - Ground Running\",\\n},\\n{\\n\"TimeStamp\": \"8 May 2024 at 03:50\",\\n\"Title\": \"Ground Running\",\\n\"Artist\": \"Will Young\",\\n\"is_Explicit\": \"No\",\\n\"Lyrics Snippets\": \"I\\'ve seen this place so many times\\nWe\\'re savin\\' face to save a life\\nAnd I\\'m sinkin\\' till I realize you\\'re holdin\\' me up\",\\n\"Lyric Snippet Synced\": \"We can hit the ground running\",\\n\"Artwork\": \"Image\",\\n\"Video URL\": \"\",\\n\"Shazem URL\": \"https://www.shazam.com/track/460405820/ground-running?co=GB&referrer=shortcuts&offsetInMilliseconds=181166&timeSkew=0.0023608208&trackLength=201853&startDate=2024-05-08T02:50:13.371Z\",\\n\"Apple Music URL\": \"https://music.apple.com/gb/album/ground-running/1455068136?i=1455068151&itscg=30201&itsct=Shazam_shortcuts\",\\n\"Name\": \"Will Young - Ground Running\",\\n},\\n{\\n\"TimeStamp\": \"8 May 2024 at 03:52\",\\n\"Title\": \"You To Me Are Everything\",\\n\"Artist\": \"The Real Thing\",\\n\"is_Explicit\": \"No\",\\n\"Lyrics Snippets\": \"I would take the stars out of the sky for you\\nStop the rain from falling if you asked me to\\nI\\'d do anything for you, your wish is my command\",\\n\"Lyric Snippet Synced\": \"Though you\\'re close to me, we seem so far apart\\nMaybe given time you\\'ll have a change of heart\\nIf it takes forever, girl, then I\\'m prepared to wait\",\\n\"Artwork\": \"Image\",\\n\"Video URL\": \"\",\\n\"Shazem URL\": \"https://www.shazam.com/track/333223/you-to-me-are-everything?co=GB&referrer=shortcuts&offsetInMilliseconds=103468&timeSkew=-0.0034431815&trackLength=200458&startDate=2024-05-08T02:52:16.851Z\",\\n\"Apple Music URL\": \"https://music.apple.com/gb/album/you-to-me-are-everything/1052486801?i=1052486809&itscg=30201&itsct=Shazam_shortcuts\",\\n\"Name\": \"The Real Thing - You To Me Are Everything\",\\n},\\n{\\n\"TimeStamp\": \"8 May 2024 at 03:54\",\\n\"Title\": \"Wake Up in the Sky\",\\n\"Artist\": \"Gucci Mane, Bruno Mars & Kodak Black\",\\n\"is_Explicit\": \"Yes\",\\n\"Lyrics Snippets\": \"Fly\\nFly\\nFly\\nIt\\'s Gucci, huh?\\nFly\\nWoo\\nI drink till I\\'m drunk\\nYeah\\nSmoke till I\\'m high\\nYeah\\nCastle on the hill\\nWell, damn\\nWake up in the sky\",\\n\"Lyric Snippet Synced\": \"Castle on the hill\\nWell, damn\\nWake up in the sky\\nYou can\\'t tell me I ain\\'t fly\\nYou can\\'t tell me I ain\\'t fly\\nI know I\\'m super fly\\nI know\",\\n\"Artwork\": \"Image\",\\n\"Video URL\": \"https://music.apple.com/gb/music-video/wake-up-in-the-sky/1441528267\",\\n\"Shazem URL\": \"https://www.shazam.com/track/439575216/wake-up-in-the-sky?co=GB&referrer=shortcuts&offsetInMilliseconds=16670&timeSkew=-1.2123585E-4&trackLength=204664&startDate=2024-05-08T02:54:20.479Z\",\\n\"Apple Music URL\": \"https://music.apple.com/gb/album/wake-up-in-the-sky/1445409352?i=1445409363&itscg=30201&itsct=Shazam_shortcuts\",\\n\"Name\": \"Gucci Mane, Bruno Mars & Kodak Black - Wake Up in the Sky\",\\n},\\n{\\n\"TimeStamp\": \"8 May 2024 at 03:56\",\\n\"Title\": \"Wake Up in the Sky\",\\n\"Artist\": \"Gucci Mane, Bruno Mars & Kodak Black\",\\n\"is_Explicit\": \"Yes\",\\n\"Lyrics Snippets\": \"Fly\\nFly\\nFly\\nIt\\'s Gucci, huh?\\nFly\\nWoo\\nI drink till I\\'m drunk\\nYeah\\nSmoke till I\\'m high\\nYeah\\nCastle on the hill\\nWell, damn\\nWake up in the sky\",\\n\"Lyric Snippet Synced\": \"Like it\\'s basketball, I drop 50 pointer on my wrist\\nIt\\'s Lil\\' Kodak, take a pic\\nI came home then dropped a hit\\nAll these diamonds got me sick\",\\n\"Artwork\": \"Image\",\\n\"Video URL\": \"https://music.apple.com/gb/music-video/wake-up-in-the-sky/1441528267\",\\n\"Shazem URL\": \"https://www.shazam.com/track/439575216/wake-up-in-the-sky?co=GB&referrer=shortcuts&offsetInMilliseconds=140253&timeSkew=8.9144707E-4&trackLength=187000&startDate=2024-05-08T02:56:24.130Z\",\\n\"Apple Music URL\": \"https://music.apple.com/gb/album/wake-up-in-the-sky/1445409352?i=1445409363&itscg=30201&itsct=Shazam_shortcuts\",\\n\"Name\": \"Gucci Mane, Bruno Mars & Kodak Black - Wake Up in the Sky\",\\n},\\n{\\n\"TimeStamp\": \"8 May 2024 at 03:58\",\\n\"Title\": \"Stay (feat. Chaka Khan)\",\\n\"Artist\": \"Rufus\",\\n\"is_Explicit\": \"No\",\\n\"Lyrics Snippets\": \"Please, stay with me now\\nDon\\'t you let me go\\nI\\'ll make it somehow\\nI got to let you know\\nThat I\\'ll make it somehow, someway\\nThough I wait on the day\",\\n\"Lyric Snippet Synced\": \"Please, stay with me now\\nDon\\'t you let me go\\nI\\'ll make it somehow\\nI got to let you know\\nThat I\\'ll make it somehow, someway\\nThough I wait on the day\",\\n\"Artwork\": \"Image\",\\n\"Video URL\": \"\",\\n\"Shazem URL\": \"https://www.shazam.com/track/665212/stay-feat-chaka-khan?co=GB&referrer=shortcuts&offsetInMilliseconds=14938&timeSkew=-9.786487E-4&trackLength=347036&startDate=2024-05-08T02:58:27.659Z\",\\n\"Apple Music URL\": \"https://music.apple.com/gb/album/stay-feat-chaka-khan/1443998489?i=1443998498&itscg=30201&itsct=Shazam_shortcuts\",\\n\"Name\": \"Rufus - Stay (feat. Chaka Khan)\",\\n},\\n{\\n\"TimeStamp\": \"8 May 2024 at 04:00\",\\n\"Title\": \"Stay (feat. Chaka Khan)\",\\n\"Artist\": \"Rufus\",\\n\"is_Explicit\": \"No\",\\n\"Lyrics Snippets\": \"Please, stay with me now\\nDon\\'t you let me go\\nI\\'ll make it somehow\\nI got to let you know\\nThat I\\'ll make it somehow, someway\\nThough I wait on the day\",\\n\"Lyric Snippet Synced\": \"And the green grass grows from the dirt\\nYeah, that\\'s a fact of life, alright\\nThe good lord stands behind every step\\nWe are blind to fate\\nThat\\'s life\",\\n\"Artwork\": \"Image\",\\n\"Video URL\": \"\",\\n\"Shazem URL\": \"https://www.shazam.com/track/665212/stay-feat-chaka-khan?co=GB&referrer=shortcuts&offsetInMilliseconds=138805&timeSkew=-4.1252375E-4&trackLength=347036&startDate=2024-05-08T03:00:31.337Z\",\\n\"Apple Music URL\": \"https://music.apple.com/gb/album/stay-feat-chaka-khan/1443998489?i=1443998498&itscg=30201&itsct=Shazam_shortcuts\",\\n\"Name\": \"Rufus - Stay (feat. Chaka Khan)\",\\n},\\n{\\n\"TimeStamp\": \"8 May 2024 at 04:02\",\\n\"Title\": \"Stay (feat. Chaka Khan)\",\\n\"Artist\": \"Rufus\",\\n\"is_Explicit\": \"No\",\\n\"Lyrics Snippets\": \"Please, stay with me now\\nDon\\'t you let me go\\nI\\'ll make it somehow\\nI got to let you know\\nThat I\\'ll make it somehow, someway\\nThough I wait on the day\",\\n\"Lyric Snippet Synced\": \"Stay\\nRight here\\nStay\\nStay\\nStay\\nStay\\nStay\\nStay\\nStay\\nI want you to stay right here, we can stay here\\nStay\\nTogether, together, yeah\\nStay\",\\n\"Artwork\": \"Image\",\\n\"Video URL\": \"\",\\n\"Shazem URL\": \"https://www.shazam.com/track/665212/stay-feat-chaka-khan?co=GB&referrer=shortcuts&offsetInMilliseconds=262379&timeSkew=0.0030308962&trackLength=347036&startDate=2024-05-08T03:02:34.801Z\",\\n\"Apple Music URL\": \"https://music.apple.com/gb/album/stay-feat-chaka-khan/1443998489?i=1443998498&itscg=30201&itsct=Shazam_shortcuts\",\\n\"Name\": \"Rufus - Stay (feat. Chaka Khan)\",\\n},\\n{\\n\"TimeStamp\": \"8 May 2024 at 04:04\",\\n\"Title\": \"Devoted to You\",\\n\"Artist\": \"Carly Simon & James Taylor\",\\n\"is_Explicit\": \"No\",\\n\"Lyrics Snippets\": \"Darlin\\', you can count on me\\nTill the sun dries up the sea\\nUntil then I\\'ll always be devoted to you\\nI\\'ll be yours till endless time\",\\n\"Lyric Snippet Synced\": \"Guess by now you know that I\\'m devoted to you\\nI\\'ll never hurt you, I\\'ll never lie\\nI\\'ll never be untrue\\nI\\'ll never give you reason to cry\",\\n\"Artwork\": \"Image\",\\n\"Video URL\": \"\",\\n\"Shazem URL\": \"https://www.shazam.com/track/520407/devoted-to-you?co=GB&referrer=shortcuts&offsetInMilliseconds=42288&timeSkew=2.9408932E-4&trackLength=149001&startDate=2024-05-08T03:04:38.275Z\",\\n\"Apple Music URL\": \"https://music.apple.com/gb/album/devoted-to-you/1057325293?i=1057325297&itscg=30201&itsct=Shazam_shortcuts\",\\n\"Name\": \"Carly Simon & James Taylor - Devoted to You\",\\n},\\n{\\n\"TimeStamp\": \"8 May 2024 at 04:06\",\\n\"Title\": \"Nice \\'n Easy\",\\n\"Artist\": \"Michael Bublé\",\\n\"is_Explicit\": \"No\",\\n\"Lyrics Snippets\": \"Let\\'s take it nice \\'n easy\\nIt\\'s gonna be so easy\\nFor us to fall in love\\nHey baby, what\\'s your hurry?\\nRelax and don\\'t you worry\",\\n\"Lyric Snippet Synced\": \"It\\'s gonna be so easy\\nFor us to fall in love\\nHey baby, what\\'s your hurry?\\nRelax and don\\'t you worry\\nWe\\'re gonna fall in love\",\\n\"Artwork\": \"Image\",\\n\"Video URL\": \"\",\\n\"Shazem URL\": \"https://www.shazam.com/track/40950652/nice-n-easy?co=GB&referrer=shortcuts&offsetInMilliseconds=15083&timeSkew=1.5854836E-4&trackLength=182813&startDate=2024-05-08T03:06:41.948Z\",\\n\"Apple Music URL\": \"https://music.apple.com/gb/album/nice-n-easy/6337702?i=6337517&itscg=30201&itsct=Shazam_shortcuts\",\\n\"Name\": \"Michael Bublé - Nice \\'n Easy\",\\n},\\n{\\n\"TimeStamp\": \"8 May 2024 at 04:08\",\\n\"Title\": \"Nice \\'n Easy\",\\n\"Artist\": \"Michael Bublé\",\\n\"is_Explicit\": \"No\",\\n\"Lyrics Snippets\": \"Let\\'s take it nice \\'n easy\\nIt\\'s gonna be so easy\\nFor us to fall in love\\nHey baby, what\\'s your hurry?\\nRelax and don\\'t you worry\",\\n\"Lyric Snippet Synced\": \"To simply hold your horses\\nTo rush would be a crime\\n\\'Cause nice \\'n easy does it\\nNice \\'n easy does it\\nNice \\'n easy does it every time\",\\n\"Artwork\": \"Image\",\\n\"Video URL\": \"\",\\n\"Shazem URL\": \"https://www.shazam.com/track/40950652/nice-n-easy?co=GB&referrer=shortcuts&offsetInMilliseconds=138864&timeSkew=-2.6774406E-4&trackLength=182813&startDate=2024-05-08T03:08:45.751Z\",\\n\"Apple Music URL\": \"https://music.apple.com/gb/album/nice-n-easy/6337702?i=6337517&itscg=30201&itsct=Shazam_shortcuts\",\\n\"Name\": \"Michael Bublé - Nice \\'n Easy\",\\n},\\n{\\n\"TimeStamp\": \"8 May 2024 at 04:13\",\\n\"Title\": \"Sweet Caroline\",\\n\"Artist\": \"Neil Diamond\",\\n\"is_Explicit\": \"No\",\\n\"Lyrics Snippets\": \"Where it began\\nI can\\'t begin to know when\\nBut then I know it\\'s growing strong\\nWas in the spring\\nAnd spring became the summer\",\\n\"Lyric Snippet Synced\": \"Hurting runs off my shoulders\\nHow can I hurt when holding you?\\nOne\\nTouching one\\nReaching out\\nTouching me\\nTouching you\\nSweet Caroline\",\\n\"Artwork\": \"Image\",\\n\"Video URL\": \"\",\\n\"Shazem URL\": \"https://www.shazam.com/track/244298/sweet-caroline?co=GB&referrer=shortcuts&offsetInMilliseconds=109610&timeSkew=-0.011142373&trackLength=201760&startDate=2024-05-08T03:13:14.711Z\",\\n\"Apple Music URL\": \"https://music.apple.com/gb/album/sweet-caroline/1422898547?i=1422898880&itscg=30201&itsct=Shazam_shortcuts\",\\n\"Name\": \"Neil Diamond - Sweet Caroline\",\\n},\\n{\\n\"TimeStamp\": \"8 May 2024 at 04:15\",\\n\"Title\": \"Hunter\",\\n\"Artist\": \"Dido\",\\n\"is_Explicit\": \"No\",\\n\"Lyrics Snippets\": \"With on light on in one room\\nI know you\\'re up when I get home\\nWith one small step upon the stair\\nI know your look when I get there\",\\n\"Lyric Snippet Synced\": \"For this queen you think you own\\nWants to be a hunter again\\nI want to see the world alone again\\nTo take a chance on life again\\nSo let me go\",\\n\"Artwork\": \"Image\",\\n\"Video URL\": \"https://music.apple.com/gb/music-video/hunter-top-of-the-pops-21-09-2001/1610021141\",\\n\"Shazem URL\": \"https://www.shazam.com/track/11158119/hunter?co=GB&referrer=shortcuts&offsetInMilliseconds=30694&timeSkew=-0.0011708736&trackLength=237693&startDate=2024-05-08T03:15:18.388Z\",\\n\"Apple Music URL\": \"https://music.apple.com/gb/album/hunter/731939412?i=731939557&itscg=30201&itsct=Shazam_shortcuts\",\\n\"Name\": \"Dido - Hunter\",\\n},\\n{\\n\"TimeStamp\": \"8 May 2024 at 04:17\",\\n\"Title\": \"Dancing On My Own\",\\n\"Artist\": \"Calum Scott\",\\n\"is_Explicit\": \"No\",\\n\"Lyrics Snippets\": \"Somebody said you got a new friend\\nDoes she love you better than I can?\\nAnd there\\'s a big black sky over my town\",\\n\"Lyric Snippet Synced\": \"I\\'m in the corner, watching you kiss her, oh, oh, oh\\nAnd I\\'m right over here, why can\\'t you see me? Oh, oh, oh\",\\n\"Artwork\": \"Image\",\\n\"Video URL\": \"https://music.apple.com/gb/music-video/dancing-on-my-own/1445004241\",\\n\"Shazem URL\": \"https://www.shazam.com/track/322333351/dancing-on-my-own?co=GB&referrer=shortcuts&offsetInMilliseconds=58448&timeSkew=-0.0038321018&trackLength=212062&startDate=2024-05-08T03:17:22.086Z\",\\n\"Apple Music URL\": \"https://music.apple.com/gb/album/dancing-on-my-own/1428794709?i=1428795504&itscg=30201&itsct=Shazam_shortcuts\",\\n\"Name\": \"Calum Scott - Dancing On My Own\",\\n},\\n{\\n\"TimeStamp\": \"8 May 2024 at 04:19\",\\n\"Title\": \"Dancing On My Own\",\\n\"Artist\": \"Calum Scott\",\\n\"is_Explicit\": \"No\",\\n\"Lyrics Snippets\": \"Somebody said you got a new friend\\nDoes she love you better than I can?\\nAnd there\\'s a big black sky over my town\",\\n\"Lyric Snippet Synced\": \"And oh, no\\nSo far away but still so near\\nThe lights come on, the music dies\\nBut you don\\'t see me standing here\\nI just came to say goodbye\",\\n\"Artwork\": \"Image\",\\n\"Video URL\": \"https://music.apple.com/gb/music-video/dancing-on-my-own/1445004241\",\\n\"Shazem URL\": \"https://www.shazam.com/track/322333351/dancing-on-my-own?co=GB&referrer=shortcuts&offsetInMilliseconds=157548&timeSkew=-8.4751844E-4&trackLength=212062&startDate=2024-05-08T03:19:25.727Z\",\\n\"Apple Music URL\": \"https://music.apple.com/gb/album/dancing-on-my-own/1428794709?i=1428795504&itscg=30201&itsct=Shazam_shortcuts\",\\n\"Name\": \"Calum Scott - Dancing On My Own\",\\n},\\n{\\n\"TimeStamp\": \"8 May 2024 at 04:21\",\\n\"Title\": \"Arctic\",\\n\"Artist\": \"Sleeping At Last\",\\n\"is_Explicit\": \"No\",\\n\"Lyrics Snippets\": \"\",\\n\"Lyric Snippet Synced\": \"\",\\n\"Artwork\": \"Image\",\\n\"Video URL\": \"\",\\n\"Shazem URL\": \"https://www.shazam.com/track/113545174/arctic?co=GB&referrer=shortcuts&offsetInMilliseconds=65025&timeSkew=-0.0047459006&trackLength=292415&startDate=2024-05-08T03:21:29.181Z\",\\n\"Apple Music URL\": \"https://music.apple.com/gb/album/arctic/860628890?i=860629066&itscg=30201&itsct=Shazam_shortcuts\",\\n\"Name\": \"Sleeping At Last - Arctic\",\\n},\\n{\\n\"TimeStamp\": \"8 May 2024 at 04:23\",\\n\"Title\": \"Arctic\",\\n\"Artist\": \"Sleeping At Last\",\\n\"is_Explicit\": \"No\",\\n\"Lyrics Snippets\": \"\",\\n\"Lyric Snippet Synced\": \"\",\\n\"Artwork\": \"Image\",\\n\"Video URL\": \"\",\\n\"Shazem URL\": \"https://www.shazam.com/track/113545174/arctic?co=GB&referrer=shortcuts&offsetInMilliseconds=188402&timeSkew=-4.979372E-4&trackLength=292415&startDate=2024-05-08T03:23:32.672Z\",\\n\"Apple Music URL\": \"https://music.apple.com/gb/album/arctic/860628890?i=860629066&itscg=30201&itsct=Shazam_shortcuts\",\\n\"Name\": \"Sleeping At Last - Arctic\",\\n},\\n{\\n\"TimeStamp\": \"8 May 2024 at 04:26\",\\n\"Title\": \"Gimme Three Steps\",\\n\"Artist\": \"Lynyrd Skynyrd\",\\n\"is_Explicit\": \"No\",\\n\"Lyrics Snippets\": \"I was cuttin\\' a rug down at a place called The Jug\\nWith a girl named Linda Lu\\nWhen in walked a man with a gun in his hand\",\\n\"Lyric Snippet Synced\": \"I was cuttin\\' a rug down at a place called The Jug\\nWith a girl named Linda Lu\\nWhen in walked a man with a gun in his hand\",\\n\"Artwork\": \"Image\",\\n\"Video URL\": \"\",\\n\"Shazem URL\": \"https://www.shazam.com/track/289364/gimme-three-steps?co=GB&referrer=shortcuts&offsetInMilliseconds=121&timeSkew=-0.0011402369&trackLength=270360&startDate=2024-05-08T03:26:11.133Z\",\\n\"Apple Music URL\": \"https://music.apple.com/gb/album/gimme-three-steps/1440838012?i=1440838310&itscg=30201&itsct=Shazam_shortcuts\",\\n\"Name\": \"Lynyrd Skynyrd - Gimme Three Steps\",\\n},\\n{\\n\"TimeStamp\": \"8 May 2024 at 04:28\",\\n\"Title\": \"Gimme Three Steps\",\\n\"Artist\": \"Lynyrd Skynyrd\",\\n\"is_Explicit\": \"No\",\\n\"Lyrics Snippets\": \"I was cuttin\\' a rug down at a place called The Jug\\nWith a girl named Linda Lu\\nWhen in walked a man with a gun in his hand\",\\n\"Lyric Snippet Synced\": \"Gimme three steps towards the door?\\nGimme three steps, gimme three steps, mister\\nAnd you\\'ll never see me no more\\nFor sure\",\\n\"Artwork\": \"Image\",\\n\"Video URL\": \"\",\\n\"Shazem URL\": \"https://www.shazam.com/track/289364/gimme-three-steps?co=GB&referrer=shortcuts&offsetInMilliseconds=129536&timeSkew=0.0012323856&trackLength=270360&startDate=2024-05-08T03:28:20.717Z\",\\n\"Apple Music URL\": \"https://music.apple.com/gb/album/gimme-three-steps/1440838012?i=1440838310&itscg=30201&itsct=Shazam_shortcuts\",\\n\"Name\": \"Lynyrd Skynyrd - Gimme Three Steps\",\\n},\\n{\\n\"TimeStamp\": \"8 May 2024 at 04:30\",\\n\"Title\": \"Gimme Three Steps\",\\n\"Artist\": \"Lynyrd Skynyrd\",\\n\"is_Explicit\": \"No\",\\n\"Lyrics Snippets\": \"I was cuttin\\' a rug down at a place called The Jug\\nWith a girl named Linda Lu\\nWhen in walked a man with a gun in his hand\",\\n\"Lyric Snippet Synced\": \"Show me the back door\",\\n\"Artwork\": \"Image\",\\n\"Video URL\": \"\",\\n\"Shazem URL\": \"https://www.shazam.com/track/289364/gimme-three-steps?co=GB&referrer=shortcuts&offsetInMilliseconds=252830&timeSkew=0.0028738976&trackLength=270360&startDate=2024-05-08T03:30:24.167Z\",\\n\"Apple Music URL\": \"https://music.apple.com/gb/album/gimme-three-steps/1440838012?i=1440838310&itscg=30201&itsct=Shazam_shortcuts\",\\n\"Name\": \"Lynyrd Skynyrd - Gimme Three Steps\",\\n},\\n{\\n\"TimeStamp\": \"8 May 2024 at 04:32\",\\n\"Title\": \"Akher Ayam El Saifeye\",\\n\"Artist\": \"Fairouz\",\\n\"is_Explicit\": \"No\",\\n\"Lyrics Snippets\": \"آخر أيام الصيفيي والصبيي شويي شويي\\nوصلت عساحة ميس الريم\\nوانقطعت فيها العربيي\\nآخر أيام الصيفيي والصبيي شويي شويي\\nوصلت عساحة ميس الريم\",\\n\"Lyric Snippet Synced\": \"وصلت عساحة ميس الريم\\nوانقطعت فيها العربيي\\nتأخرنا وشو طالع بالإيد حبيبي وسبقتنا المواعيد\\nتأخرنا وشو طالع بالإيد حبيبي وسبقتنا المواعيد\",\\n\"Artwork\": \"Image\",\\n\"Video URL\": \"\",\\n\"Shazem URL\": \"https://www.shazam.com/track/52141977/akher-ayam-el-saifeye?co=GB&referrer=shortcuts&offsetInMilliseconds=106547&timeSkew=0.013280034&trackLength=176773&startDate=2024-05-08T03:32:27.637Z\",\\n\"Apple Music URL\": \"https://music.apple.com/gb/album/akher-ayam-el-saifeye/1438214608?i=1438214784&itscg=30201&itsct=Shazam_shortcuts\",\\n\"Name\": \"Fairouz - Akher Ayam El Saifeye\",\\n},\\n{\\n\"TimeStamp\": \"8 May 2024 at 04:34\",\\n\"Title\": \"Different Seasons\",\\n\"Artist\": \"Johnny Hates Jazz\",\\n\"is_Explicit\": \"No\",\\n\"Lyrics Snippets\": \"There is a face deep in your mind\\nOne that your heart won\\'t leave behind\\nMemories are cold, empty of laughs\\nAnd all that remain are photographs\",\\n\"Lyric Snippet Synced\": \"When she\\'s gone there are no reasons\\nNature\\'s cruel, it\\'s just different seasons\\nGoin\\' on and on and on and on and on and on and on\",\\n\"Artwork\": \"Image\",\\n\"Video URL\": \"\",\\n\"Shazem URL\": \"https://www.shazam.com/track/447098/different-seasons?co=GB&referrer=shortcuts&offsetInMilliseconds=49700&timeSkew=0.0010792017&trackLength=212040&startDate=2024-05-08T03:34:31.299Z\",\\n\"Apple Music URL\": \"https://music.apple.com/gb/album/different-seasons/714893506?i=714893544&itscg=30201&itsct=Shazam_shortcuts\",\\n\"Name\": \"Johnny Hates Jazz - Different Seasons\",\\n},\\n{\\n\"TimeStamp\": \"8 May 2024 at 04:36\",\\n\"Title\": \"Different Seasons\",\\n\"Artist\": \"Johnny Hates Jazz\",\\n\"is_Explicit\": \"No\",\\n\"Lyrics Snippets\": \"There is a face deep in your mind\\nOne that your heart won\\'t leave behind\\nMemories are cold, empty of laughs\\nAnd all that remain are photographs\",\\n\"Lyric Snippet Synced\": \"Say it\\'s only different seasons, yeah, yeah\\nThere is a face deep in your mind\\nOne that your heart won\\'t leave behind\",\\n\"Artwork\": \"Image\",\\n\"Video URL\": \"\",\\n\"Shazem URL\": \"https://www.shazam.com/track/447098/different-seasons?co=GB&referrer=shortcuts&offsetInMilliseconds=173425&timeSkew=7.2193146E-4&trackLength=212040&startDate=2024-05-08T03:36:34.993Z\",\\n\"Apple Music URL\": \"https://music.apple.com/gb/album/different-seasons/714893506?i=714893544&itscg=30201&itsct=Shazam_shortcuts\",\\n\"Name\": \"Johnny Hates Jazz - Different Seasons\",\\n},\\n{\\n\"TimeStamp\": \"8 May 2024 at 04:38\",\\n\"Title\": \"No Bravery\",\\n\"Artist\": \"James Blunt\",\\n\"is_Explicit\": \"No\",\\n\"Lyrics Snippets\": \"There are children standing here\\nArms outstretched into the sky\\nTears drying on their face\\nHe has been here\\nBrothers lie in shallow graves\",\\n\"Lyric Snippet Synced\": \"The smell of death is in the air\\nA woman weeping in despair says\\nHe has been here\\nTracer lighting up the sky\\nIt\\'s another family\\'s turn to die\",\\n\"Artwork\": \"Image\",\\n\"Video URL\": \"\",\\n\"Shazem URL\": \"https://www.shazam.com/track/40639436/no-bravery?co=GB&referrer=shortcuts&offsetInMilliseconds=83624&timeSkew=-1.6242266E-4&trackLength=239680&startDate=2024-05-08T03:38:38.480Z\",\\n\"Apple Music URL\": \"https://music.apple.com/gb/album/no-bravery/714602877?i=714604047&itscg=30201&itsct=Shazam_shortcuts\",\\n\"Name\": \"James Blunt - No Bravery\",\\n},\\n{\\n\"TimeStamp\": \"8 May 2024 at 04:40\",\\n\"Title\": \"No Bravery\",\\n\"Artist\": \"James Blunt\",\\n\"is_Explicit\": \"No\",\\n\"Lyrics Snippets\": \"There are children standing here\\nArms outstretched into the sky\\nTears drying on their face\\nHe has been here\\nBrothers lie in shallow graves\",\\n\"Lyric Snippet Synced\": \"Only sadness\\nAnd I see no bravery\\nNo bravery in your eyes anymore\\nOnly sadness\\nOnly sadness\",\\n\"Artwork\": \"Image\",\\n\"Video URL\": \"\",\\n\"Shazem URL\": \"https://www.shazam.com/track/40639436/no-bravery?co=GB&referrer=shortcuts&offsetInMilliseconds=207251&timeSkew=-0.0026833415&trackLength=239680&startDate=2024-05-08T03:40:42.117Z\",\\n\"Apple Music URL\": \"https://music.apple.com/gb/album/no-bravery/714602877?i=714604047&itscg=30201&itsct=Shazam_shortcuts\",\\n\"Name\": \"James Blunt - No Bravery\",\\n},\\n{\\n\"TimeStamp\": \"8 May 2024 at 04:42\",\\n\"Title\": \"Call Me\",\\n\"Artist\": \"Blondie\",\\n\"is_Explicit\": \"No\",\\n\"Lyrics Snippets\": \"Color me your color, baby\\nColor me your car\\nColor me your color, darling\\nI know who you are\\nCome up off your color chart\",\\n\"Lyric Snippet Synced\": \"Color me your car\\nColor me your color, darling\\nI know who you are\\nCome up off your color chart\\nI know where you\\'re coming from\",\\n\"Artwork\": \"Image\",\\n\"Video URL\": \"https://music.apple.com/gb/music-video/call-me/719686775\",\\n\"Shazem URL\": \"https://www.shazam.com/track/83647639/call-me?co=GB&referrer=shortcuts&offsetInMilliseconds=20260&timeSkew=-0.0030055046&trackLength=200040&startDate=2024-05-08T03:42:45.610Z\",\\n\"Apple Music URL\": \"https://music.apple.com/gb/album/call-me/716231242?i=716231650&itscg=30201&itsct=Shazam_shortcuts\",\\n\"Name\": \"Blondie - Call Me\",\\n},\\n{\\n\"TimeStamp\": \"8 May 2024 at 04:44\",\\n\"Title\": \"Call Me\",\\n\"Artist\": \"Blondie\",\\n\"is_Explicit\": \"No\",\\n\"Lyrics Snippets\": \"Color me your color, baby\\nColor me your car\\nColor me your color, darling\\nI know who you are\\nCome up off your color chart\",\\n\"Lyric Snippet Synced\": \"Anytime, any place, anywhere, any day, any way\\nCall me, my love (Call me)\\nCall me, call me any, anytime\\nCall me, for a ride (Call me)\",\\n\"Artwork\": \"Image\",\\n\"Video URL\": \"https://music.apple.com/gb/music-video/call-me/719686775\",\\n\"Shazem URL\": \"https://www.shazam.com/track/83647639/call-me?co=GB&referrer=shortcuts&offsetInMilliseconds=143638&timeSkew=8.776188E-4&trackLength=200040&startDate=2024-05-08T03:44:49.277Z\",\\n\"Apple Music URL\": \"https://music.apple.com/gb/album/call-me/716231242?i=716231650&itscg=30201&itsct=Shazam_shortcuts\",\\n\"Name\": \"Blondie - Call Me\",\\n},\\n{\\n\"TimeStamp\": \"8 May 2024 at 04:46\",\\n\"Title\": \"Lonesome Town\",\\n\"Artist\": \"Ricky Nelson\",\\n\"is_Explicit\": \"No\",\\n\"Lyrics Snippets\": \"There\\'s a place where lovers go\\nTo cry their troubles away\\nAnd they call it Lonesome Town\\nWhere the broken hearts stay\\nYou can buy a dream or two\",\\n\"Lyric Snippet Synced\": \"There\\'s a place where lovers go\\nTo cry their troubles away\\nAnd they call it Lonesome Town\\nWhere the broken hearts stay\\nYou can buy a dream or two\",\\n\"Artwork\": \"Image\",\\n\"Video URL\": \"\",\\n\"Shazem URL\": \"https://www.shazam.com/track/353194/lonesome-town?co=GB&referrer=shortcuts&offsetInMilliseconds=100322&timeSkew=-4.1282177E-4&trackLength=137026&startDate=2024-05-08T03:46:52.728Z\",\\n\"Apple Music URL\": \"https://music.apple.com/gb/album/lonesome-town/1495874766?i=1495874792&itscg=30201&itsct=Shazam_shortcuts\",\\n\"Name\": \"Ricky Nelson - Lonesome Town\",\\n},\\n{\\n\"TimeStamp\": \"8 May 2024 at 04:48\",\\n\"Title\": \"Real Life\",\\n\"Artist\": \"Emeli Sandé\",\\n\"is_Explicit\": \"No\",\\n\"Lyrics Snippets\": \"If a soldier had a gun to my head\\nWould you fight or would you just play dead?\\nIf we ain\\'t got no food, ain\\'t got no bread\",\\n\"Lyric Snippet Synced\": \"Would you go and work, make sure the kids get fed?\\nSee, I know now what\\'s real nice\\nBut what about real life?\",\\n\"Artwork\": \"Image\",\\n\"Video URL\": \"\",\\n\"Shazem URL\": \"https://www.shazam.com/track/464741891/real-life?co=GB&referrer=shortcuts&offsetInMilliseconds=39238&timeSkew=0.0033420324&trackLength=238346&startDate=2024-05-08T03:48:56.391Z\",\\n\"Apple Music URL\": \"https://music.apple.com/gb/album/real-life/1459085844?i=1459086583&itscg=30201&itsct=Shazam_shortcuts\",\\n\"Name\": \"Emeli Sandé - Real Life\",\\n},\\n{\\n\"TimeStamp\": \"8 May 2024 at 04:51\",\\n\"Title\": \"Real Life\",\\n\"Artist\": \"Emeli Sandé\",\\n\"is_Explicit\": \"No\",\\n\"Lyrics Snippets\": \"If a soldier had a gun to my head\\nWould you fight or would you just play dead?\\nIf we ain\\'t got no food, ain\\'t got no bread\",\\n\"Lyric Snippet Synced\": \"Oh, but what about real, real life?\\nAnd what about real life?\\nOh, real, real life\\nYes, I know the flower\\'s in bloom, sweet honeymoon paradise\",\\n\"Artwork\": \"Image\",\\n\"Video URL\": \"\",\\n\"Shazem URL\": \"https://www.shazam.com/track/464741891/real-life?co=GB&referrer=shortcuts&offsetInMilliseconds=162932&timeSkew=0.003518939&trackLength=238346&startDate=2024-05-08T03:51:00.060Z\",\\n\"Apple Music URL\": \"https://music.apple.com/gb/album/real-life/1459085844?i=1459086583&itscg=30201&itsct=Shazam_shortcuts\",\\n\"Name\": \"Emeli Sandé - Real Life\",\\n},\\n{\\n\"TimeStamp\": \"8 May 2024 at 04:53\",\\n\"Title\": \"Welcome To the Pleasuredome\",\\n\"Artist\": \"Frankie Goes to Hollywood\",\\n\"is_Explicit\": \"No\",\\n\"Lyrics Snippets\": \"The animals are winding me up\\nThe jungle call\\nThe jungle call\\nIn Xanadu did Kublai Khan\\nA Pleasuredome erect\\nMovin\\' on, keep movin\\' on, yeah\",\\n\"Lyric Snippet Synced\": \"The animals are winding me up\\nThe jungle call\\nThe jungle call\\nIn Xanadu did Kublai Khan\\nA Pleasuredome erect\\nMovin\\' on, keep movin\\' on, yeah\",\\n\"Artwork\": \"Image\",\\n\"Video URL\": \"https://music.apple.com/gb/music-video/welcome-to-the-pleasuredome/1364041456\",\\n\"Shazem URL\": \"https://www.shazam.com/track/54417319/welcome-to-the-pleasuredome?co=GB&referrer=shortcuts&offsetInMilliseconds=46999&timeSkew=0.0027434826&trackLength=820640&startDate=2024-05-08T03:53:03.589Z\",\\n\"Apple Music URL\": \"https://music.apple.com/gb/album/welcome-to-the-pleasuredome/1367992369?i=1367996649&itscg=30201&itsct=Shazam_shortcuts\",\\n\"Name\": \"Frankie Goes to Hollywood - Welcome To the Pleasuredome\",\\n},\\n{\\n\"TimeStamp\": \"8 May 2024 at 04:55\",\\n\"Title\": \"Welcome To the Pleasuredome\",\\n\"Artist\": \"Frankie Goes to Hollywood\",\\n\"is_Explicit\": \"No\",\\n\"Lyrics Snippets\": \"The animals are winding me up\\nThe jungle call\\nThe jungle call\\nIn Xanadu did Kublai Khan\\nA Pleasuredome erect\\nMovin\\' on, keep movin\\' on, yeah\",\\n\"Lyric Snippet Synced\": \"The jungle call\\nThe jungle call\\nIn Xanadu did Kublai Khan\\nA Pleasuredome erect\\nMovin\\' on, keep movin\\' on, yeah\\nMovin\\' at one million miles an hour\",\\n\"Artwork\": \"Image\",\\n\"Video URL\": \"https://music.apple.com/gb/music-video/welcome-to-the-pleasuredome/1364041456\",\\n\"Shazem URL\": \"https://www.shazam.com/track/54417319/welcome-to-the-pleasuredome?co=GB&referrer=shortcuts&offsetInMilliseconds=170740&timeSkew=1.7488003E-4&trackLength=820640&startDate=2024-05-08T03:55:07.314Z\",\\n\"Apple Music URL\": \"https://music.apple.com/gb/album/welcome-to-the-pleasuredome/1367992369?i=1367996649&itscg=30201&itsct=Shazam_shortcuts\",\\n\"Name\": \"Frankie Goes to Hollywood - Welcome To the Pleasuredome\",\\n},\\n{\\n\"TimeStamp\": \"8 May 2024 at 04:57\",\\n\"Title\": \"Welcome To the Pleasuredome\",\\n\"Artist\": \"Frankie Goes to Hollywood\",\\n\"is_Explicit\": \"No\",\\n\"Lyrics Snippets\": \"The animals are winding me up\\nThe jungle call\\nThe jungle call\\nIn Xanadu did Kublai Khan\\nA Pleasuredome erect\\nMovin\\' on, keep movin\\' on, yeah\",\\n\"Lyric Snippet Synced\": \"The animals are winding me up\\nThe jungle call\\nThe jungle call\\nIn Xanadu did Kublai Khan\\nA Pleasuredome erect\\nMovin\\' on, keep movin\\' on, yeah\",\\n\"Artwork\": \"Image\",\\n\"Video URL\": \"https://music.apple.com/gb/music-video/welcome-to-the-pleasuredome/1364041456\",\\n\"Shazem URL\": \"https://www.shazam.com/track/54417319/welcome-to-the-pleasuredome?co=GB&referrer=shortcuts&offsetInMilliseconds=153538&timeSkew=0.001128912&trackLength=205498&startDate=2024-05-08T03:57:10.828Z\",\\n\"Apple Music URL\": \"https://music.apple.com/gb/album/welcome-to-the-pleasuredome/1367992369?i=1367996649&itscg=30201&itsct=Shazam_shortcuts\",\\n\"Name\": \"Frankie Goes to Hollywood - Welcome To the Pleasuredome\",\\n},\\n{\\n\"TimeStamp\": \"8 May 2024 at 04:59\",\\n\"Title\": \"Welcome To the Pleasuredome\",\\n\"Artist\": \"Frankie Goes to Hollywood\",\\n\"is_Explicit\": \"No\",\\n\"Lyrics Snippets\": \"The animals are winding me up\\nThe jungle call\\nThe jungle call\\nIn Xanadu did Kublai Khan\\nA Pleasuredome erect\\nMovin\\' on, keep movin\\' on, yeah\",\\n\"Lyric Snippet Synced\": \"Welcome to the Pleasuredome\\nWar is war\\nWar is war\\nWar, war, war\\nKeep moving on\\nGotta reach the top\\nDon\\'t stop\\nLive love and light, oh my\",\\n\"Artwork\": \"Image\",\\n\"Video URL\": \"https://music.apple.com/gb/music-video/welcome-to-the-pleasuredome/1364041456\",\\n\"Shazem URL\": \"https://www.shazam.com/track/54417319/welcome-to-the-pleasuredome?co=GB&referrer=shortcuts&offsetInMilliseconds=417749&timeSkew=0.0036940575&trackLength=820640&startDate=2024-05-08T03:59:14.307Z\",\\n\"Apple Music URL\": \"https://music.apple.com/gb/album/welcome-to-the-pleasuredome/1367992369?i=1367996649&itscg=30201&itsct=Shazam_shortcuts\",\\n\"Name\": \"Frankie Goes to Hollywood - Welcome To the Pleasuredome\",\\n},\\n{\\n\"TimeStamp\": \"8 May 2024 at 05:01\",\\n\"Title\": \"Welcome To the Pleasuredome\",\\n\"Artist\": \"Frankie Goes to Hollywood\",\\n\"is_Explicit\": \"No\",\\n\"Lyrics Snippets\": \"The animals are winding me up\\nThe jungle call\\nThe jungle call\\nIn Xanadu did Kublai Khan\\nA Pleasuredome erect\\nMovin\\' on, keep movin\\' on, yeah\",\\n\"Lyric Snippet Synced\": \"War is war\\nWar is war\\nWar, war, war\\nKeep moving on\\nGotta reach the top\\nDon\\'t stop\\nLive love and light, oh my\\nKeep moving on\\nOh, yeah\",\\n\"Artwork\": \"Image\",\\n\"Video URL\": \"https://music.apple.com/gb/music-video/welcome-to-the-pleasuredome/1364041456\",\\n\"Shazem URL\": \"https://www.shazam.com/track/54417319/welcome-to-the-pleasuredome?co=GB&referrer=shortcuts&offsetInMilliseconds=541262&timeSkew=0.0014576912&trackLength=820640&startDate=2024-05-08T04:01:17.832Z\",\\n\"Apple Music URL\": \"https://music.apple.com/gb/album/welcome-to-the-pleasuredome/1367992369?i=1367996649&itscg=30201&itsct=Shazam_shortcuts\",\\n\"Name\": \"Frankie Goes to Hollywood - Welcome To the Pleasuredome\",\\n},\\n{\\n\"TimeStamp\": \"8 May 2024 at 05:03\",\\n\"Title\": \"Welcome To the Pleasuredome\",\\n\"Artist\": \"Frankie Goes to Hollywood\",\\n\"is_Explicit\": \"No\",\\n\"Lyrics Snippets\": \"The animals are winding me up\\nThe jungle call\\nThe jungle call\\nIn Xanadu did Kublai Khan\\nA Pleasuredome erect\\nMovin\\' on, keep movin\\' on, yeah\",\\n\"Lyric Snippet Synced\": \"Shooting stars never stop\\nShooting stars never stop\\nShooting stars never stop\\nThere goes a supernova\\nWhat a pushover\\nShooting stars never stop\",\\n\"Artwork\": \"Image\",\\n\"Video URL\": \"https://music.apple.com/gb/music-video/welcome-to-the-pleasuredome/1364041456\",\\n\"Shazem URL\": \"https://www.shazam.com/track/54417319/welcome-to-the-pleasuredome?co=GB&referrer=shortcuts&offsetInMilliseconds=664765&timeSkew=-2.9039383E-4&trackLength=820640&startDate=2024-05-08T04:03:21.352Z\",\\n\"Apple Music URL\": \"https://music.apple.com/gb/album/welcome-to-the-pleasuredome/1367992369?i=1367996649&itscg=30201&itsct=Shazam_shortcuts\",\\n\"Name\": \"Frankie Goes to Hollywood - Welcome To the Pleasuredome\",\\n},\\n{\\n\"TimeStamp\": \"8 May 2024 at 05:05\",\\n\"Title\": \"Welcome To the Pleasuredome\",\\n\"Artist\": \"Frankie Goes to Hollywood\",\\n\"is_Explicit\": \"No\",\\n\"Lyrics Snippets\": \"The animals are winding me up\\nThe jungle call\\nThe jungle call\\nIn Xanadu did Kublai Khan\\nA Pleasuredome erect\\nMovin\\' on, keep movin\\' on, yeah\",\\n\"Lyric Snippet Synced\": \"Ha ha ha\\nThe world is my oyster\\nHa ha ha\\nThe world is my oyster\\nHa ha ha ha ha ha ha ha ha ha ha\\nHa ha ha ha ha ha ha ha ha ha ha\\nWelcome\",\\n\"Artwork\": \"Image\",\\n\"Video URL\": \"https://music.apple.com/gb/music-video/welcome-to-the-pleasuredome/1364041456\",\\n\"Shazem URL\": \"https://www.shazam.com/track/54417319/welcome-to-the-pleasuredome?co=GB&referrer=shortcuts&offsetInMilliseconds=788301&timeSkew=3.4987926E-4&trackLength=820640&startDate=2024-05-08T04:05:24.880Z\",\\n\"Apple Music URL\": \"https://music.apple.com/gb/album/welcome-to-the-pleasuredome/1367992369?i=1367996649&itscg=30201&itsct=Shazam_shortcuts\",\\n\"Name\": \"Frankie Goes to Hollywood - Welcome To the Pleasuredome\",\\n},\\n{\\n\"TimeStamp\": \"8 May 2024 at 05:07\",\\n\"Title\": \"Fields Of Gold\",\\n\"Artist\": \"Sting\",\\n\"is_Explicit\": \"No\",\\n\"Lyrics Snippets\": \"You\\'ll remember me when the west wind moves\\nUpon the fields of barley\\nYou\\'ll forget the sun in his jealous sky\\nAs we walk in fields of gold\",\\n\"Lyric Snippet Synced\": \"Upon the fields of barley\\nYou\\'ll forget the sun in his jealous sky\\nAs we walk in fields of gold\\nSo she took her love for to gaze a while\",\\n\"Artwork\": \"Image\",\\n\"Video URL\": \"\",\\n\"Shazem URL\": \"https://www.shazam.com/track/232122/fields-of-gold?co=GB&referrer=shortcuts&offsetInMilliseconds=27351&timeSkew=-9.083748E-5&trackLength=220023&startDate=2024-05-08T04:07:28.369Z\",\\n\"Apple Music URL\": \"https://music.apple.com/gb/album/fields-of-gold/1725377395?i=1725377399&itscg=30201&itsct=Shazam_shortcuts\",\\n\"Name\": \"Sting - Fields Of Gold\",\\n},\\n{\\n\"TimeStamp\": \"8 May 2024 at 05:09\",\\n\"Title\": \"Fields Of Gold\",\\n\"Artist\": \"Sting\",\\n\"is_Explicit\": \"No\",\\n\"Lyrics Snippets\": \"You\\'ll remember me when the west wind moves\\nUpon the fields of barley\\nYou\\'ll forget the sun in his jealous sky\\nAs we walk in fields of gold\",\\n\"Lyric Snippet Synced\": \"Many years have passed since those summer days\\nAmong the fields of barley\\nSee the children run as the sun goes down\\nAmong the fields of gold\",\\n\"Artwork\": \"Image\",\\n\"Video URL\": \"\",\\n\"Shazem URL\": \"https://www.shazam.com/track/232122/fields-of-gold?co=GB&referrer=shortcuts&offsetInMilliseconds=150981&timeSkew=2.8133392E-4&trackLength=220023&startDate=2024-05-08T04:09:32.003Z\",\\n\"Apple Music URL\": \"https://music.apple.com/gb/album/fields-of-gold/1725377395?i=1725377399&itscg=30201&itsct=Shazam_shortcuts\",\\n\"Name\": \"Sting - Fields Of Gold\",\\n},\\n{\\n\"TimeStamp\": \"8 May 2024 at 05:11\",\\n\"Title\": \"Somebody Somewhere\",\\n\"Artist\": \"LaBelle\",\\n\"is_Explicit\": \"No\",\\n\"Lyrics Snippets\": \"Somebody somewhere\\nHas all the answers to the questions\\nIn our minds\\nSomebody somewhere\\nHas grown impatient\\nWith your reasons\\nAnd your crimes\",\\n\"Lyric Snippet Synced\": \"Going wide\\nThe weed\\nSomebody somewhere\\nMust lead us homeward to the truth\\nIn our hearts\\nSomebody somewhere\\nWill hear our cries for freedom\",\\n\"Artwork\": \"Image\",\\n\"Video URL\": \"\",\\n\"Shazem URL\": \"https://www.shazam.com/track/45532071/somebody-somewhere?co=GB&referrer=shortcuts&offsetInMilliseconds=50113&timeSkew=-0.0010467768&trackLength=204706&startDate=2024-05-08T04:11:35.469Z\",\\n\"Apple Music URL\": \"https://music.apple.com/gb/album/somebody-somewhere/188249320?i=188249481&itscg=30201&itsct=Shazam_shortcuts\",\\n\"Name\": \"LaBelle - Somebody Somewhere\",\\n},\\n{\\n\"TimeStamp\": \"8 May 2024 at 05:14\",\\n\"Title\": \"Somebody Somewhere\",\\n\"Artist\": \"LaBelle\",\\n\"is_Explicit\": \"No\",\\n\"Lyrics Snippets\": \"Somebody somewhere\\nHas all the answers to the questions\\nIn our minds\\nSomebody somewhere\\nHas grown impatient\\nWith your reasons\\nAnd your crimes\",\\n\"Lyric Snippet Synced\": \"Be prepared\\nHe’s coming back that way\\nBe prepared\\nBe prepared\\nHe’s coming back that way\\nOh-oh, ah-huh\\nBe prepared\\nHe’s coming back that way\",\\n\"Artwork\": \"Image\",\\n\"Video URL\": \"\",\\n\"Shazem URL\": \"https://www.shazam.com/track/45532071/somebody-somewhere?co=GB&referrer=shortcuts&offsetInMilliseconds=182662&timeSkew=-0.0013612509&trackLength=204706&startDate=2024-05-08T04:13:48.172Z\",\\n\"Apple Music URL\": \"https://music.apple.com/gb/album/somebody-somewhere/188249320?i=188249481&itscg=30201&itsct=Shazam_shortcuts\",\\n\"Name\": \"LaBelle - Somebody Somewhere\",\\n},\\n{\\n\"TimeStamp\": \"8 May 2024 at 05:16\",\\n\"Title\": \"El Condor Pasa (If I Could)\",\\n\"Artist\": \"Simon & Garfunkel\",\\n\"is_Explicit\": \"No\",\\n\"Lyrics Snippets\": \"I\\'d rather be a sparrow than a snail\\nYes, I would\\nIf I could\\nI surely would\\nI\\'d rather be a hammer than a nail\\nYes, I would\\nIf I only could\",\\n\"Lyric Snippet Synced\": \"Its saddest sound\\nI\\'d rather be a forest than a street\\nYes, I would\\nIf I could\\nI surely would\\nI\\'d rather feel the earth beneath my feet\\nYes, I would\",\\n\"Artwork\": \"Image\",\\n\"Video URL\": \"\",\\n\"Shazem URL\": \"https://www.shazam.com/track/279654333/el-condor-pasa-if-i-could?co=GB&referrer=shortcuts&offsetInMilliseconds=108661&timeSkew=8.6665154E-4&trackLength=187011&startDate=2024-05-08T04:16:00.608Z\",\\n\"Apple Music URL\": \"https://music.apple.com/gb/album/el-condor-pasa-if-i-could/324127933?i=324127935&itscg=30201&itsct=Shazam_shortcuts\",\\n\"Name\": \"Simon & Garfunkel - El Condor Pasa (If I Could)\",\\n},\\n{\\n\"TimeStamp\": \"8 May 2024 at 05:18\",\\n\"Title\": \"Lyin\\' Eyes\",\\n\"Artist\": \"Eagles\",\\n\"is_Explicit\": \"No\",\\n\"Lyrics Snippets\": \"\",\\n\"Lyric Snippet Synced\": \"\",\\n\"Artwork\": \"Image\",\\n\"Video URL\": \"\",\\n\"Shazem URL\": \"https://www.shazam.com/track/215541/lyin-eyes?co=GB&referrer=shortcuts&offsetInMilliseconds=41591&timeSkew=0.0019797087&trackLength=381896&startDate=2024-05-08T04:18:04.203Z\",\\n\"Apple Music URL\": \"https://music.apple.com/gb/album/lyin-eyes/635829971?i=635830027&itscg=30201&itsct=Shazam_shortcuts\",\\n\"Name\": \"Eagles - Lyin\\' Eyes\",\\n},\\n{\\n\"TimeStamp\": \"8 May 2024 at 05:20\",\\n\"Title\": \"Lyin\\' Eyes\",\\n\"Artist\": \"Eagles\",\\n\"is_Explicit\": \"No\",\\n\"Lyrics Snippets\": \"\",\\n\"Lyric Snippet Synced\": \"\",\\n\"Artwork\": \"Image\",\\n\"Video URL\": \"\",\\n\"Shazem URL\": \"https://www.shazam.com/track/215541/lyin-eyes?co=GB&referrer=shortcuts&offsetInMilliseconds=165186&timeSkew=-7.278323E-4&trackLength=381896&startDate=2024-05-08T04:20:07.802Z\",\\n\"Apple Music URL\": \"https://music.apple.com/gb/album/lyin-eyes/635829971?i=635830027&itscg=30201&itsct=Shazam_shortcuts\",\\n\"Name\": \"Eagles - Lyin\\' Eyes\",\\n},\\n{\\n\"TimeStamp\": \"8 May 2024 at 05:22\",\\n\"Title\": \"Lyin\\' Eyes\",\\n\"Artist\": \"Eagles\",\\n\"is_Explicit\": \"No\",\\n\"Lyrics Snippets\": \"\",\\n\"Lyric Snippet Synced\": \"\",\\n\"Artwork\": \"Image\",\\n\"Video URL\": \"\",\\n\"Shazem URL\": \"https://www.shazam.com/track/215541/lyin-eyes?co=GB&referrer=shortcuts&offsetInMilliseconds=288640&timeSkew=-6.072521E-4&trackLength=381896&startDate=2024-05-08T04:22:11.252Z\",\\n\"Apple Music URL\": \"https://music.apple.com/gb/album/lyin-eyes/635829971?i=635830027&itscg=30201&itsct=Shazam_shortcuts\",\\n\"Name\": \"Eagles - Lyin\\' Eyes\",\\n},\\n{\\n\"TimeStamp\": \"8 May 2024 at 05:27\",\\n\"Title\": \"Coming Home\",\\n\"Artist\": \"Simply Red\",\\n\"is_Explicit\": \"No\",\\n\"Lyrics Snippets\": \"Dark nights, headlights\\nI\\'m goin\\' home\\nStars bright, hold tight\\nI\\'m coming home\\nAnd when I do\\nI\\'m gonna love you more\\nThan I\\'ve ever done before\",\\n\"Lyric Snippet Synced\": \"I\\'m coming home\\nNo more alone\\nI gotta get there\\nI gotta get there\\nComin\\'\\nI\\'m coming home\\nYes, I am now\",\\n\"Artwork\": \"Image\",\\n\"Video URL\": \"\",\\n\"Shazem URL\": \"https://www.shazam.com/track/262248546/coming-home?co=GB&referrer=shortcuts&offsetInMilliseconds=128163&timeSkew=-2.9027462E-5&trackLength=173053&startDate=2024-05-08T04:26:55.819Z\",\\n\"Apple Music URL\": \"https://music.apple.com/gb/album/coming-home/985707306?i=985707327&itscg=30201&itsct=Shazam_shortcuts\",\\n\"Name\": \"Simply Red - Coming Home\",\\n},\\n{\\n\"TimeStamp\": \"8 May 2024 at 05:29\",\\n\"Title\": \"Little Latin Lupe Lu\",\\n\"Artist\": \"The Righteous Brothers\",\\n\"is_Explicit\": \"No\",\\n\"Lyrics Snippets\": \"Talk about my baby\\nLittle Latin Lupe Lu\\nShe\\'s a hot footin\\' baby\\nThere ain\\'t no dance she couldn\\'t do\\nShe my groovy little baby, yeah\",\\n\"Lyric Snippet Synced\": \"Mash it up pretty baby, yeah\\nLittle Latin Lupe Lu\\nWa, one more time\\nA shake it, shake it, shake it, Lupe\\nWatusi pretty baby\",\\n\"Artwork\": \"Image\",\\n\"Video URL\": \"\",\\n\"Shazem URL\": \"https://www.shazam.com/track/303342/little-latin-lupe-lu?co=GB&referrer=shortcuts&offsetInMilliseconds=85839&timeSkew=9.703636E-4&trackLength=139205&startDate=2024-05-08T04:29:08.479Z\",\\n\"Apple Music URL\": \"https://music.apple.com/gb/album/little-latin-lupe-lu/1583870589?i=1583870981&itscg=30201&itsct=Shazam_shortcuts\",\\n\"Name\": \"The Righteous Brothers - Little Latin Lupe Lu\",\\n},\\n{\\n\"TimeStamp\": \"8 May 2024 at 05:30\",\\n\"Title\": \"Joy to the World (Mixtape)\",\\n\"Artist\": \"Dj Ofori\",\\n\"is_Explicit\": \"No\",\\n\"Lyrics Snippets\": \"\",\\n\"Lyric Snippet Synced\": \"\",\\n\"Artwork\": \"Image\",\\n\"Video URL\": \"\",\\n\"Shazem URL\": \"https://www.shazam.com/track/519090533/joy-to-the-world-mixtape?co=GB&referrer=shortcuts&offsetInMilliseconds=2265856&timeSkew=-0.025581062&trackLength=3611141&startDate=2024-05-08T04:30:54.687Z\",\\n\"Apple Music URL\": \"https://music.apple.com/gb/album/joy-to-the-world-mixtape/1493159817?i=1493159820&itscg=30201&itsct=Shazam_shortcuts\",\\n\"Name\": \"Dj Ofori - Joy to the World (Mixtape)\",\\n},\\n{\\n\"TimeStamp\": \"8 May 2024 at 05:33\",\\n\"Title\": \"If You Want To Sing Out, Sing Out\",\\n\"Artist\": \"Cat Stevens\",\\n\"is_Explicit\": \"No\",\\n\"Lyrics Snippets\": \"Well if you want to sing out, sing out\\nAnd if you want to be free, be free\\n\\'Cause there\\'s a million things to be\\nYou know that there are\",\\n\"Lyric Snippet Synced\": \"Well you can make it all true\\nAnd you can make it undo\\nYou see, ah ah ah, it\\'s easy ah, ah, ah\\nYou only need to know\",\\n\"Artwork\": \"Image\",\\n\"Video URL\": \"\",\\n\"Shazem URL\": \"https://www.shazam.com/track/5166850/if-you-want-to-sing-out-sing-out?co=GB&referrer=shortcuts&offsetInMilliseconds=55563&timeSkew=0.0019942522&trackLength=166533&startDate=2024-05-08T04:32:58.456Z\",\\n\"Apple Music URL\": \"https://music.apple.com/gb/album/if-you-want-to-sing-out-sing-out/1535558765?i=1535560533&itscg=30201&itsct=Shazam_shortcuts\",\\n\"Name\": \"Cat Stevens - If You Want To Sing Out, Sing Out\",\\n},\\n{\\n\"TimeStamp\": \"8 May 2024 at 05:35\",\\n\"Title\": \"One of These Nights\",\\n\"Artist\": \"Eagles\",\\n\"is_Explicit\": \"No\",\\n\"Lyrics Snippets\": \"\",\\n\"Lyric Snippet Synced\": \"\",\\n\"Artwork\": \"Image\",\\n\"Video URL\": \"\",\\n\"Shazem URL\": \"https://www.shazam.com/track/20144898/one-of-these-nights?co=GB&referrer=shortcuts&offsetInMilliseconds=14324&timeSkew=-0.0018742085&trackLength=294566&startDate=2024-05-08T04:35:02.088Z\",\\n\"Apple Music URL\": \"https://music.apple.com/gb/album/one-of-these-nights/635829971?i=635830022&itscg=30201&itsct=Shazam_shortcuts\",\\n\"Name\": \"Eagles - One of These Nights\",\\n},\\n{\\n\"TimeStamp\": \"8 May 2024 at 05:37\",\\n\"Title\": \"One of These Nights\",\\n\"Artist\": \"Eagles\",\\n\"is_Explicit\": \"No\",\\n\"Lyrics Snippets\": \"\",\\n\"Lyric Snippet Synced\": \"\",\\n\"Artwork\": \"Image\",\\n\"Video URL\": \"\",\\n\"Shazem URL\": \"https://www.shazam.com/track/20144898/one-of-these-nights?co=GB&referrer=shortcuts&offsetInMilliseconds=137858&timeSkew=-0.0021384358&trackLength=294566&startDate=2024-05-08T04:37:05.717Z\",\\n\"Apple Music URL\": \"https://music.apple.com/gb/album/one-of-these-nights/635829971?i=635830022&itscg=30201&itsct=Shazam_shortcuts\",\\n\"Name\": \"Eagles - One of These Nights\",\\n},\\n{\\n\"TimeStamp\": \"8 May 2024 at 05:39\",\\n\"Title\": \"One of These Nights\",\\n\"Artist\": \"Eagles\",\\n\"is_Explicit\": \"No\",\\n\"Lyrics Snippets\": \"\",\\n\"Lyric Snippet Synced\": \"\",\\n\"Artwork\": \"Image\",\\n\"Video URL\": \"\",\\n\"Shazem URL\": \"https://www.shazam.com/track/20144898/one-of-these-nights?co=GB&referrer=shortcuts&offsetInMilliseconds=261277&timeSkew=3.9434433E-4&trackLength=294566&startDate=2024-05-08T04:39:09.192Z\",\\n\"Apple Music URL\": \"https://music.apple.com/gb/album/one-of-these-nights/635829971?i=635830022&itscg=30201&itsct=Shazam_shortcuts\",\\n\"Name\": \"Eagles - One of These Nights\",\\n},\\n{\\n\"TimeStamp\": \"8 May 2024 at 05:41\",\\n\"Title\": \"Bring Your Love Down (Didn\\'t I)\",\\n\"Artist\": \"Yazoo\",\\n\"is_Explicit\": \"No\",\\n\"Lyrics Snippets\": \"You say it\\'s time to leave, now babe, I can\\'t believe\\nThat you have the strength to go now\\nI won\\'t stand in your way, I\\'d be standing there all day\",\\n\"Lyric Snippet Synced\": \"You play your games, but the fact remains\\nI\\'m the only one that can hold your reins\\nDidn\\'t I bring your love down?\",\\n\"Artwork\": \"Image\",\\n\"Video URL\": \"\",\\n\"Shazem URL\": \"https://www.shazam.com/track/46054348/bring-your-love-down-didnt-i?co=GB&referrer=shortcuts&offsetInMilliseconds=31658&timeSkew=0.0024722815&trackLength=280586&startDate=2024-05-08T04:41:12.663Z\",\\n\"Apple Music URL\": \"https://music.apple.com/gb/album/bring-your-love-down-didnt-i/1436832956?i=1436833061&itscg=30201&itsct=Shazam_shortcuts\",\\n\"Name\": \"Yazoo - Bring Your Love Down (Didn\\'t I)\",\\n},\\n{\\n\"TimeStamp\": \"8 May 2024 at 05:43\",\\n\"Title\": \"Bring Your Love Down (Didn\\'t I)\",\\n\"Artist\": \"Yazoo\",\\n\"is_Explicit\": \"No\",\\n\"Lyrics Snippets\": \"You say it\\'s time to leave, now babe, I can\\'t believe\\nThat you have the strength to go now\\nI won\\'t stand in your way, I\\'d be standing there all day\",\\n\"Lyric Snippet Synced\": \"Didn\\'t I bring your love down?\\nDidn\\'t I bring your love down all night?\\nDidn\\'t I bring your love down?\\nDidn\\'t I bring your love down all night?\",\\n\"Artwork\": \"Image\",\\n\"Video URL\": \"\",\\n\"Shazem URL\": \"https://www.shazam.com/track/46054348/bring-your-love-down-didnt-i?co=GB&referrer=shortcuts&offsetInMilliseconds=155598&timeSkew=0.0013444424&trackLength=280586&startDate=2024-05-08T04:43:16.336Z\",\\n\"Apple Music URL\": \"https://music.apple.com/gb/album/bring-your-love-down-didnt-i/1436832956?i=1436833061&itscg=30201&itsct=Shazam_shortcuts\",\\n\"Name\": \"Yazoo - Bring Your Love Down (Didn\\'t I)\",\\n},'"
      ]
     },
     "execution_count": 6,
     "metadata": {},
     "output_type": "execute_result"
    }
   ],
   "source": [
    "df.text"
   ]
  },
  {
   "cell_type": "code",
   "execution_count": null,
   "metadata": {},
   "outputs": [],
   "source": []
  }
 ],
 "metadata": {
  "kernelspec": {
   "display_name": "Python 3",
   "language": "python",
   "name": "python3"
  },
  "language_info": {
   "codemirror_mode": {
    "name": "ipython",
    "version": 3
   },
   "file_extension": ".py",
   "mimetype": "text/x-python",
   "name": "python",
   "nbconvert_exporter": "python",
   "pygments_lexer": "ipython3",
   "version": "3.12.3"
  }
 },
 "nbformat": 4,
 "nbformat_minor": 2
}
